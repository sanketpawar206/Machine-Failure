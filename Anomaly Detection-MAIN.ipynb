{
 "cells": [
  {
   "cell_type": "code",
   "execution_count": 1,
   "id": "2ddc8449",
   "metadata": {},
   "outputs": [],
   "source": [
    "#Refrence material "
   ]
  },
  {
   "cell_type": "markdown",
   "id": "8c424b6a",
   "metadata": {},
   "source": [
    "https://www.coursera.org/learn/unsupervised-learning-recommenders-reinforcement-learning/programming/Rqh9M/anomaly-detection/lab?path=%2Fnotebooks%2FC3_W1_Anomaly_Detection.ipynb"
   ]
  },
  {
   "cell_type": "code",
   "execution_count": 2,
   "id": "2e8cca79",
   "metadata": {},
   "outputs": [],
   "source": [
    "import pandas as pd\n",
    "import numpy as np"
   ]
  },
  {
   "cell_type": "code",
   "execution_count": 3,
   "id": "9d11a81c",
   "metadata": {},
   "outputs": [],
   "source": [
    "df=pd.read_csv('final_train_data.csv')"
   ]
  },
  {
   "cell_type": "code",
   "execution_count": 4,
   "id": "2406f2d8",
   "metadata": {},
   "outputs": [
    {
     "data": {
      "text/html": [
       "<div>\n",
       "<style scoped>\n",
       "    .dataframe tbody tr th:only-of-type {\n",
       "        vertical-align: middle;\n",
       "    }\n",
       "\n",
       "    .dataframe tbody tr th {\n",
       "        vertical-align: top;\n",
       "    }\n",
       "\n",
       "    .dataframe thead th {\n",
       "        text-align: right;\n",
       "    }\n",
       "</style>\n",
       "<table border=\"1\" class=\"dataframe\">\n",
       "  <thead>\n",
       "    <tr style=\"text-align: right;\">\n",
       "      <th></th>\n",
       "      <th>id</th>\n",
       "      <th>Product ID</th>\n",
       "      <th>Type</th>\n",
       "      <th>Air temperature [K]</th>\n",
       "      <th>Process temperature [K]</th>\n",
       "      <th>Rotational speed [rpm]</th>\n",
       "      <th>Torque [Nm]</th>\n",
       "      <th>Tool wear [min]</th>\n",
       "      <th>Machine failure</th>\n",
       "      <th>TWF</th>\n",
       "      <th>HDF</th>\n",
       "      <th>PWF</th>\n",
       "      <th>OSF</th>\n",
       "      <th>RNF</th>\n",
       "    </tr>\n",
       "  </thead>\n",
       "  <tbody>\n",
       "    <tr>\n",
       "      <th>0</th>\n",
       "      <td>0</td>\n",
       "      <td>L50096</td>\n",
       "      <td>L</td>\n",
       "      <td>300.6</td>\n",
       "      <td>309.6</td>\n",
       "      <td>1596</td>\n",
       "      <td>36.1</td>\n",
       "      <td>140</td>\n",
       "      <td>0</td>\n",
       "      <td>0</td>\n",
       "      <td>0</td>\n",
       "      <td>0</td>\n",
       "      <td>0</td>\n",
       "      <td>0</td>\n",
       "    </tr>\n",
       "    <tr>\n",
       "      <th>1</th>\n",
       "      <td>1</td>\n",
       "      <td>M20343</td>\n",
       "      <td>M</td>\n",
       "      <td>302.6</td>\n",
       "      <td>312.1</td>\n",
       "      <td>1759</td>\n",
       "      <td>29.1</td>\n",
       "      <td>200</td>\n",
       "      <td>0</td>\n",
       "      <td>0</td>\n",
       "      <td>0</td>\n",
       "      <td>0</td>\n",
       "      <td>0</td>\n",
       "      <td>0</td>\n",
       "    </tr>\n",
       "    <tr>\n",
       "      <th>2</th>\n",
       "      <td>2</td>\n",
       "      <td>L49454</td>\n",
       "      <td>L</td>\n",
       "      <td>299.3</td>\n",
       "      <td>308.5</td>\n",
       "      <td>1805</td>\n",
       "      <td>26.5</td>\n",
       "      <td>25</td>\n",
       "      <td>0</td>\n",
       "      <td>0</td>\n",
       "      <td>0</td>\n",
       "      <td>0</td>\n",
       "      <td>0</td>\n",
       "      <td>0</td>\n",
       "    </tr>\n",
       "    <tr>\n",
       "      <th>3</th>\n",
       "      <td>3</td>\n",
       "      <td>L53355</td>\n",
       "      <td>L</td>\n",
       "      <td>301.0</td>\n",
       "      <td>310.9</td>\n",
       "      <td>1524</td>\n",
       "      <td>44.3</td>\n",
       "      <td>197</td>\n",
       "      <td>0</td>\n",
       "      <td>0</td>\n",
       "      <td>0</td>\n",
       "      <td>0</td>\n",
       "      <td>0</td>\n",
       "      <td>0</td>\n",
       "    </tr>\n",
       "    <tr>\n",
       "      <th>4</th>\n",
       "      <td>4</td>\n",
       "      <td>M24050</td>\n",
       "      <td>M</td>\n",
       "      <td>298.0</td>\n",
       "      <td>309.0</td>\n",
       "      <td>1641</td>\n",
       "      <td>35.4</td>\n",
       "      <td>34</td>\n",
       "      <td>0</td>\n",
       "      <td>0</td>\n",
       "      <td>0</td>\n",
       "      <td>0</td>\n",
       "      <td>0</td>\n",
       "      <td>0</td>\n",
       "    </tr>\n",
       "  </tbody>\n",
       "</table>\n",
       "</div>"
      ],
      "text/plain": [
       "   id Product ID Type  Air temperature [K]  Process temperature [K]  \\\n",
       "0   0     L50096    L                300.6                    309.6   \n",
       "1   1     M20343    M                302.6                    312.1   \n",
       "2   2     L49454    L                299.3                    308.5   \n",
       "3   3     L53355    L                301.0                    310.9   \n",
       "4   4     M24050    M                298.0                    309.0   \n",
       "\n",
       "   Rotational speed [rpm]  Torque [Nm]  Tool wear [min]  Machine failure  TWF  \\\n",
       "0                    1596         36.1              140                0    0   \n",
       "1                    1759         29.1              200                0    0   \n",
       "2                    1805         26.5               25                0    0   \n",
       "3                    1524         44.3              197                0    0   \n",
       "4                    1641         35.4               34                0    0   \n",
       "\n",
       "   HDF  PWF  OSF  RNF  \n",
       "0    0    0    0    0  \n",
       "1    0    0    0    0  \n",
       "2    0    0    0    0  \n",
       "3    0    0    0    0  \n",
       "4    0    0    0    0  "
      ]
     },
     "execution_count": 4,
     "metadata": {},
     "output_type": "execute_result"
    }
   ],
   "source": [
    "df.head(5)"
   ]
  },
  {
   "cell_type": "code",
   "execution_count": 5,
   "id": "6479f42c",
   "metadata": {},
   "outputs": [],
   "source": [
    "df=df.drop(['id','Product ID','Machine failure'], axis=1)"
   ]
  },
  {
   "cell_type": "code",
   "execution_count": 6,
   "id": "a3359f67",
   "metadata": {},
   "outputs": [
    {
     "data": {
      "text/html": [
       "<div>\n",
       "<style scoped>\n",
       "    .dataframe tbody tr th:only-of-type {\n",
       "        vertical-align: middle;\n",
       "    }\n",
       "\n",
       "    .dataframe tbody tr th {\n",
       "        vertical-align: top;\n",
       "    }\n",
       "\n",
       "    .dataframe thead th {\n",
       "        text-align: right;\n",
       "    }\n",
       "</style>\n",
       "<table border=\"1\" class=\"dataframe\">\n",
       "  <thead>\n",
       "    <tr style=\"text-align: right;\">\n",
       "      <th></th>\n",
       "      <th>Type</th>\n",
       "      <th>Air temperature [K]</th>\n",
       "      <th>Process temperature [K]</th>\n",
       "      <th>Rotational speed [rpm]</th>\n",
       "      <th>Torque [Nm]</th>\n",
       "      <th>Tool wear [min]</th>\n",
       "      <th>TWF</th>\n",
       "      <th>HDF</th>\n",
       "      <th>PWF</th>\n",
       "      <th>OSF</th>\n",
       "      <th>RNF</th>\n",
       "    </tr>\n",
       "  </thead>\n",
       "  <tbody>\n",
       "    <tr>\n",
       "      <th>0</th>\n",
       "      <td>L</td>\n",
       "      <td>300.6</td>\n",
       "      <td>309.6</td>\n",
       "      <td>1596</td>\n",
       "      <td>36.1</td>\n",
       "      <td>140</td>\n",
       "      <td>0</td>\n",
       "      <td>0</td>\n",
       "      <td>0</td>\n",
       "      <td>0</td>\n",
       "      <td>0</td>\n",
       "    </tr>\n",
       "    <tr>\n",
       "      <th>1</th>\n",
       "      <td>M</td>\n",
       "      <td>302.6</td>\n",
       "      <td>312.1</td>\n",
       "      <td>1759</td>\n",
       "      <td>29.1</td>\n",
       "      <td>200</td>\n",
       "      <td>0</td>\n",
       "      <td>0</td>\n",
       "      <td>0</td>\n",
       "      <td>0</td>\n",
       "      <td>0</td>\n",
       "    </tr>\n",
       "    <tr>\n",
       "      <th>2</th>\n",
       "      <td>L</td>\n",
       "      <td>299.3</td>\n",
       "      <td>308.5</td>\n",
       "      <td>1805</td>\n",
       "      <td>26.5</td>\n",
       "      <td>25</td>\n",
       "      <td>0</td>\n",
       "      <td>0</td>\n",
       "      <td>0</td>\n",
       "      <td>0</td>\n",
       "      <td>0</td>\n",
       "    </tr>\n",
       "    <tr>\n",
       "      <th>3</th>\n",
       "      <td>L</td>\n",
       "      <td>301.0</td>\n",
       "      <td>310.9</td>\n",
       "      <td>1524</td>\n",
       "      <td>44.3</td>\n",
       "      <td>197</td>\n",
       "      <td>0</td>\n",
       "      <td>0</td>\n",
       "      <td>0</td>\n",
       "      <td>0</td>\n",
       "      <td>0</td>\n",
       "    </tr>\n",
       "    <tr>\n",
       "      <th>4</th>\n",
       "      <td>M</td>\n",
       "      <td>298.0</td>\n",
       "      <td>309.0</td>\n",
       "      <td>1641</td>\n",
       "      <td>35.4</td>\n",
       "      <td>34</td>\n",
       "      <td>0</td>\n",
       "      <td>0</td>\n",
       "      <td>0</td>\n",
       "      <td>0</td>\n",
       "      <td>0</td>\n",
       "    </tr>\n",
       "  </tbody>\n",
       "</table>\n",
       "</div>"
      ],
      "text/plain": [
       "  Type  Air temperature [K]  Process temperature [K]  Rotational speed [rpm]  \\\n",
       "0    L                300.6                    309.6                    1596   \n",
       "1    M                302.6                    312.1                    1759   \n",
       "2    L                299.3                    308.5                    1805   \n",
       "3    L                301.0                    310.9                    1524   \n",
       "4    M                298.0                    309.0                    1641   \n",
       "\n",
       "   Torque [Nm]  Tool wear [min]  TWF  HDF  PWF  OSF  RNF  \n",
       "0         36.1              140    0    0    0    0    0  \n",
       "1         29.1              200    0    0    0    0    0  \n",
       "2         26.5               25    0    0    0    0    0  \n",
       "3         44.3              197    0    0    0    0    0  \n",
       "4         35.4               34    0    0    0    0    0  "
      ]
     },
     "execution_count": 6,
     "metadata": {},
     "output_type": "execute_result"
    }
   ],
   "source": [
    "df.head(5)"
   ]
  },
  {
   "cell_type": "code",
   "execution_count": 7,
   "id": "55728d33",
   "metadata": {},
   "outputs": [],
   "source": [
    "df['Type'] = df['Type'].replace({'H':0,'M':1,'L':2})"
   ]
  },
  {
   "cell_type": "code",
   "execution_count": 8,
   "id": "1aee5389",
   "metadata": {},
   "outputs": [
    {
     "data": {
      "text/html": [
       "<div>\n",
       "<style scoped>\n",
       "    .dataframe tbody tr th:only-of-type {\n",
       "        vertical-align: middle;\n",
       "    }\n",
       "\n",
       "    .dataframe tbody tr th {\n",
       "        vertical-align: top;\n",
       "    }\n",
       "\n",
       "    .dataframe thead th {\n",
       "        text-align: right;\n",
       "    }\n",
       "</style>\n",
       "<table border=\"1\" class=\"dataframe\">\n",
       "  <thead>\n",
       "    <tr style=\"text-align: right;\">\n",
       "      <th></th>\n",
       "      <th>Type</th>\n",
       "      <th>Air temperature [K]</th>\n",
       "      <th>Process temperature [K]</th>\n",
       "      <th>Rotational speed [rpm]</th>\n",
       "      <th>Torque [Nm]</th>\n",
       "      <th>Tool wear [min]</th>\n",
       "      <th>TWF</th>\n",
       "      <th>HDF</th>\n",
       "      <th>PWF</th>\n",
       "      <th>OSF</th>\n",
       "      <th>RNF</th>\n",
       "    </tr>\n",
       "  </thead>\n",
       "  <tbody>\n",
       "    <tr>\n",
       "      <th>0</th>\n",
       "      <td>2</td>\n",
       "      <td>300.6</td>\n",
       "      <td>309.6</td>\n",
       "      <td>1596</td>\n",
       "      <td>36.1</td>\n",
       "      <td>140</td>\n",
       "      <td>0</td>\n",
       "      <td>0</td>\n",
       "      <td>0</td>\n",
       "      <td>0</td>\n",
       "      <td>0</td>\n",
       "    </tr>\n",
       "    <tr>\n",
       "      <th>1</th>\n",
       "      <td>1</td>\n",
       "      <td>302.6</td>\n",
       "      <td>312.1</td>\n",
       "      <td>1759</td>\n",
       "      <td>29.1</td>\n",
       "      <td>200</td>\n",
       "      <td>0</td>\n",
       "      <td>0</td>\n",
       "      <td>0</td>\n",
       "      <td>0</td>\n",
       "      <td>0</td>\n",
       "    </tr>\n",
       "    <tr>\n",
       "      <th>2</th>\n",
       "      <td>2</td>\n",
       "      <td>299.3</td>\n",
       "      <td>308.5</td>\n",
       "      <td>1805</td>\n",
       "      <td>26.5</td>\n",
       "      <td>25</td>\n",
       "      <td>0</td>\n",
       "      <td>0</td>\n",
       "      <td>0</td>\n",
       "      <td>0</td>\n",
       "      <td>0</td>\n",
       "    </tr>\n",
       "    <tr>\n",
       "      <th>3</th>\n",
       "      <td>2</td>\n",
       "      <td>301.0</td>\n",
       "      <td>310.9</td>\n",
       "      <td>1524</td>\n",
       "      <td>44.3</td>\n",
       "      <td>197</td>\n",
       "      <td>0</td>\n",
       "      <td>0</td>\n",
       "      <td>0</td>\n",
       "      <td>0</td>\n",
       "      <td>0</td>\n",
       "    </tr>\n",
       "    <tr>\n",
       "      <th>4</th>\n",
       "      <td>1</td>\n",
       "      <td>298.0</td>\n",
       "      <td>309.0</td>\n",
       "      <td>1641</td>\n",
       "      <td>35.4</td>\n",
       "      <td>34</td>\n",
       "      <td>0</td>\n",
       "      <td>0</td>\n",
       "      <td>0</td>\n",
       "      <td>0</td>\n",
       "      <td>0</td>\n",
       "    </tr>\n",
       "  </tbody>\n",
       "</table>\n",
       "</div>"
      ],
      "text/plain": [
       "   Type  Air temperature [K]  Process temperature [K]  Rotational speed [rpm]  \\\n",
       "0     2                300.6                    309.6                    1596   \n",
       "1     1                302.6                    312.1                    1759   \n",
       "2     2                299.3                    308.5                    1805   \n",
       "3     2                301.0                    310.9                    1524   \n",
       "4     1                298.0                    309.0                    1641   \n",
       "\n",
       "   Torque [Nm]  Tool wear [min]  TWF  HDF  PWF  OSF  RNF  \n",
       "0         36.1              140    0    0    0    0    0  \n",
       "1         29.1              200    0    0    0    0    0  \n",
       "2         26.5               25    0    0    0    0    0  \n",
       "3         44.3              197    0    0    0    0    0  \n",
       "4         35.4               34    0    0    0    0    0  "
      ]
     },
     "execution_count": 8,
     "metadata": {},
     "output_type": "execute_result"
    }
   ],
   "source": [
    "df.head(5)"
   ]
  },
  {
   "cell_type": "code",
   "execution_count": 9,
   "id": "87b15e42",
   "metadata": {},
   "outputs": [
    {
     "data": {
      "text/plain": [
       "(132133, 11)"
      ]
     },
     "execution_count": 9,
     "metadata": {},
     "output_type": "execute_result"
    }
   ],
   "source": [
    "df.shape  #We have 11 features"
   ]
  },
  {
   "cell_type": "code",
   "execution_count": 10,
   "id": "e7e87126",
   "metadata": {},
   "outputs": [],
   "source": [
    "df=df.drop(['Type'], axis=1)"
   ]
  },
  {
   "cell_type": "code",
   "execution_count": 11,
   "id": "c36c5642",
   "metadata": {},
   "outputs": [
    {
     "data": {
      "text/html": [
       "<div>\n",
       "<style scoped>\n",
       "    .dataframe tbody tr th:only-of-type {\n",
       "        vertical-align: middle;\n",
       "    }\n",
       "\n",
       "    .dataframe tbody tr th {\n",
       "        vertical-align: top;\n",
       "    }\n",
       "\n",
       "    .dataframe thead th {\n",
       "        text-align: right;\n",
       "    }\n",
       "</style>\n",
       "<table border=\"1\" class=\"dataframe\">\n",
       "  <thead>\n",
       "    <tr style=\"text-align: right;\">\n",
       "      <th></th>\n",
       "      <th>Air temperature [K]</th>\n",
       "      <th>Process temperature [K]</th>\n",
       "      <th>Rotational speed [rpm]</th>\n",
       "      <th>Torque [Nm]</th>\n",
       "      <th>Tool wear [min]</th>\n",
       "      <th>TWF</th>\n",
       "      <th>HDF</th>\n",
       "      <th>PWF</th>\n",
       "      <th>OSF</th>\n",
       "      <th>RNF</th>\n",
       "    </tr>\n",
       "  </thead>\n",
       "  <tbody>\n",
       "    <tr>\n",
       "      <th>0</th>\n",
       "      <td>300.6</td>\n",
       "      <td>309.6</td>\n",
       "      <td>1596</td>\n",
       "      <td>36.1</td>\n",
       "      <td>140</td>\n",
       "      <td>0</td>\n",
       "      <td>0</td>\n",
       "      <td>0</td>\n",
       "      <td>0</td>\n",
       "      <td>0</td>\n",
       "    </tr>\n",
       "    <tr>\n",
       "      <th>1</th>\n",
       "      <td>302.6</td>\n",
       "      <td>312.1</td>\n",
       "      <td>1759</td>\n",
       "      <td>29.1</td>\n",
       "      <td>200</td>\n",
       "      <td>0</td>\n",
       "      <td>0</td>\n",
       "      <td>0</td>\n",
       "      <td>0</td>\n",
       "      <td>0</td>\n",
       "    </tr>\n",
       "    <tr>\n",
       "      <th>2</th>\n",
       "      <td>299.3</td>\n",
       "      <td>308.5</td>\n",
       "      <td>1805</td>\n",
       "      <td>26.5</td>\n",
       "      <td>25</td>\n",
       "      <td>0</td>\n",
       "      <td>0</td>\n",
       "      <td>0</td>\n",
       "      <td>0</td>\n",
       "      <td>0</td>\n",
       "    </tr>\n",
       "    <tr>\n",
       "      <th>3</th>\n",
       "      <td>301.0</td>\n",
       "      <td>310.9</td>\n",
       "      <td>1524</td>\n",
       "      <td>44.3</td>\n",
       "      <td>197</td>\n",
       "      <td>0</td>\n",
       "      <td>0</td>\n",
       "      <td>0</td>\n",
       "      <td>0</td>\n",
       "      <td>0</td>\n",
       "    </tr>\n",
       "    <tr>\n",
       "      <th>4</th>\n",
       "      <td>298.0</td>\n",
       "      <td>309.0</td>\n",
       "      <td>1641</td>\n",
       "      <td>35.4</td>\n",
       "      <td>34</td>\n",
       "      <td>0</td>\n",
       "      <td>0</td>\n",
       "      <td>0</td>\n",
       "      <td>0</td>\n",
       "      <td>0</td>\n",
       "    </tr>\n",
       "  </tbody>\n",
       "</table>\n",
       "</div>"
      ],
      "text/plain": [
       "   Air temperature [K]  Process temperature [K]  Rotational speed [rpm]  \\\n",
       "0                300.6                    309.6                    1596   \n",
       "1                302.6                    312.1                    1759   \n",
       "2                299.3                    308.5                    1805   \n",
       "3                301.0                    310.9                    1524   \n",
       "4                298.0                    309.0                    1641   \n",
       "\n",
       "   Torque [Nm]  Tool wear [min]  TWF  HDF  PWF  OSF  RNF  \n",
       "0         36.1              140    0    0    0    0    0  \n",
       "1         29.1              200    0    0    0    0    0  \n",
       "2         26.5               25    0    0    0    0    0  \n",
       "3         44.3              197    0    0    0    0    0  \n",
       "4         35.4               34    0    0    0    0    0  "
      ]
     },
     "execution_count": 11,
     "metadata": {},
     "output_type": "execute_result"
    }
   ],
   "source": [
    "df.head(5)"
   ]
  },
  {
   "cell_type": "code",
   "execution_count": 12,
   "id": "909e86a4",
   "metadata": {},
   "outputs": [
    {
     "data": {
      "text/plain": [
       "0    132133\n",
       "Name: TWF, dtype: int64"
      ]
     },
     "execution_count": 12,
     "metadata": {},
     "output_type": "execute_result"
    }
   ],
   "source": [
    "df['TWF'].value_counts()"
   ]
  },
  {
   "cell_type": "code",
   "execution_count": 13,
   "id": "9f295189",
   "metadata": {},
   "outputs": [],
   "source": [
    "# df.sample(30000,random_state=1)  #Taking random 30k values"
   ]
  },
  {
   "cell_type": "code",
   "execution_count": 14,
   "id": "5ac05883",
   "metadata": {},
   "outputs": [],
   "source": [
    "#converting dataframe to array"
   ]
  },
  {
   "cell_type": "code",
   "execution_count": 15,
   "id": "faada423",
   "metadata": {},
   "outputs": [],
   "source": [
    "x = df.to_numpy()"
   ]
  },
  {
   "cell_type": "code",
   "execution_count": 16,
   "id": "1b960b32",
   "metadata": {},
   "outputs": [
    {
     "data": {
      "text/plain": [
       "(132133, 10)"
      ]
     },
     "execution_count": 16,
     "metadata": {},
     "output_type": "execute_result"
    }
   ],
   "source": [
    "x.shape"
   ]
  },
  {
   "cell_type": "code",
   "execution_count": 17,
   "id": "b38b4b99",
   "metadata": {},
   "outputs": [],
   "source": [
    "def estimate_gaussian(X):\n",
    "#     X -> (m,n) array -> m =examples and n=attributes\n",
    "#     returns : mu -> mean and var -> variance ; (n dimensional arrays) -> (n,)\n",
    "    #code:\n",
    "    \n",
    "    m,n=X.shape\n",
    "    mu_=(1/m)*np.sum(X,axis=0)\n",
    "    mu=mu_.T\n",
    "    var_=np.sum(((X-mu)**2),axis=0)/m\n",
    "    var=var_.T\n",
    "    \n",
    "    return mu,var\n",
    "        \n",
    "        \n"
   ]
  },
  {
   "cell_type": "code",
   "execution_count": 18,
   "id": "81370e95",
   "metadata": {},
   "outputs": [],
   "source": [
    "mu,var=estimate_gaussian(x)"
   ]
  },
  {
   "cell_type": "code",
   "execution_count": 19,
   "id": "28fbcbc0",
   "metadata": {},
   "outputs": [
    {
     "data": {
      "text/plain": [
       "(10,)"
      ]
     },
     "execution_count": 19,
     "metadata": {},
     "output_type": "execute_result"
    }
   ],
   "source": [
    "mu.shape"
   ]
  },
  {
   "cell_type": "code",
   "execution_count": 20,
   "id": "6e478c33",
   "metadata": {},
   "outputs": [
    {
     "data": {
      "text/plain": [
       "array([2.99847440e+02, 3.09936064e+02, 1.52146350e+03, 4.01870549e+01,\n",
       "       1.03936534e+02, 0.00000000e+00, 3.78406605e-05, 2.27043963e-05,\n",
       "       3.02725284e-05, 2.24016710e-03])"
      ]
     },
     "execution_count": 20,
     "metadata": {},
     "output_type": "execute_result"
    }
   ],
   "source": [
    "mu"
   ]
  },
  {
   "cell_type": "code",
   "execution_count": 21,
   "id": "19449f58",
   "metadata": {},
   "outputs": [
    {
     "data": {
      "text/plain": [
       "(10,)"
      ]
     },
     "execution_count": 21,
     "metadata": {},
     "output_type": "execute_result"
    }
   ],
   "source": [
    "var.shape"
   ]
  },
  {
   "cell_type": "code",
   "execution_count": 22,
   "id": "ea251441",
   "metadata": {},
   "outputs": [
    {
     "data": {
      "text/plain": [
       "array([3.44398299e+00, 1.92335262e+00, 1.82080950e+04, 6.90629176e+01,\n",
       "       4.05841599e+03, 0.00000000e+00, 3.78392286e-05, 2.27038808e-05,\n",
       "       3.02716120e-05, 2.23514876e-03])"
      ]
     },
     "execution_count": 22,
     "metadata": {},
     "output_type": "execute_result"
    }
   ],
   "source": [
    "var"
   ]
  },
  {
   "cell_type": "code",
   "execution_count": 23,
   "id": "9622bed0",
   "metadata": {},
   "outputs": [],
   "source": [
    "# #Wrong function -> correct function present bellow\n",
    "# #Multivariance gussian\n",
    "# def multivariance_gussian(X,mu,var):\n",
    "# #     X -> (m,n) array -> m =examples and n=attributes\n",
    "# #     mu -> (ndarary,)\n",
    "# #     var -> (ndarray,)\n",
    "    \n",
    "#     #code:\n",
    "#     n_features=X.shape[1]\n",
    "#     #constant = 1 / ((2 * np.pi) ** (n_features / 2) * np.sqrt(np.prod(var+(1e-10))))\n",
    "#     constant=1\n",
    "#     # Compute the exponent term of the Gaussian function\n",
    "#     exponent = -np.sum(((X - mu) ** 2) / (var+(1e-10)), axis=1)\n",
    "    \n",
    "#     # Compute the probabilities for each sample\n",
    "#     probabilities = constant * np.exp(exponent)\n",
    "    \n",
    "#     return probabilities\n",
    "    "
   ]
  },
  {
   "cell_type": "code",
   "execution_count": 24,
   "id": "757739cf",
   "metadata": {},
   "outputs": [],
   "source": [
    "# constant = 1 / (1 * np.sqrt(np.prod(var+(1e-10))))   #This is wrong"
   ]
  },
  {
   "cell_type": "code",
   "execution_count": 25,
   "id": "9fc57b3f",
   "metadata": {},
   "outputs": [],
   "source": [
    "# constant"
   ]
  },
  {
   "cell_type": "code",
   "execution_count": 26,
   "id": "665c6e1b",
   "metadata": {},
   "outputs": [],
   "source": [
    "# var"
   ]
  },
  {
   "cell_type": "code",
   "execution_count": 27,
   "id": "d9254718",
   "metadata": {},
   "outputs": [],
   "source": [
    "# multiple=[]\n",
    "# for i in range(len(var)):\n",
    "#     if var[i]==0:\n",
    "#         multiple.append(10**(10))\n",
    "#     else :\n",
    "#         multiple.append((1/var[i]))\n",
    "        \n",
    "        "
   ]
  },
  {
   "cell_type": "code",
   "execution_count": 28,
   "id": "01d7cb24",
   "metadata": {},
   "outputs": [],
   "source": [
    "# multiple"
   ]
  },
  {
   "cell_type": "code",
   "execution_count": 29,
   "id": "762b9bae",
   "metadata": {},
   "outputs": [],
   "source": [
    "# exponent = -((x - mu) ** 2) / (var+(1e-10))"
   ]
  },
  {
   "cell_type": "code",
   "execution_count": 30,
   "id": "c5635cf9",
   "metadata": {},
   "outputs": [],
   "source": [
    "# exponent.shape"
   ]
  },
  {
   "cell_type": "code",
   "execution_count": 31,
   "id": "ce532a60",
   "metadata": {},
   "outputs": [],
   "source": [
    "# pow_term=np.exp(exponent)"
   ]
  },
  {
   "cell_type": "code",
   "execution_count": 32,
   "id": "51bcf7ac",
   "metadata": {},
   "outputs": [],
   "source": [
    "# pow_term.shape"
   ]
  },
  {
   "cell_type": "code",
   "execution_count": 33,
   "id": "9e97e8ea",
   "metadata": {},
   "outputs": [],
   "source": [
    "# arr=multiple*pow_term"
   ]
  },
  {
   "cell_type": "code",
   "execution_count": 34,
   "id": "33af952d",
   "metadata": {},
   "outputs": [],
   "source": [
    "# arr.shape"
   ]
  },
  {
   "cell_type": "code",
   "execution_count": 35,
   "id": "e54e11af",
   "metadata": {},
   "outputs": [],
   "source": [
    "# result = np.prod(arr, axis=1)"
   ]
  },
  {
   "cell_type": "code",
   "execution_count": 36,
   "id": "bbc10dce",
   "metadata": {},
   "outputs": [],
   "source": [
    "# result.shape"
   ]
  },
  {
   "cell_type": "code",
   "execution_count": null,
   "id": "5393e1c0",
   "metadata": {},
   "outputs": [],
   "source": []
  },
  {
   "cell_type": "code",
   "execution_count": null,
   "id": "32c08568",
   "metadata": {},
   "outputs": [],
   "source": []
  },
  {
   "cell_type": "code",
   "execution_count": null,
   "id": "21802033",
   "metadata": {},
   "outputs": [],
   "source": []
  },
  {
   "cell_type": "code",
   "execution_count": null,
   "id": "82b10f9b",
   "metadata": {},
   "outputs": [],
   "source": []
  },
  {
   "cell_type": "code",
   "execution_count": 37,
   "id": "e3503682",
   "metadata": {},
   "outputs": [],
   "source": [
    "#Multivariance gussian\n",
    "def multivariance_gussian(X,mu,var):\n",
    "#     X -> (m,n) array -> m =examples and n=attributes\n",
    "#     mu -> (ndarary,)\n",
    "#     var -> (ndarray,)\n",
    "    \n",
    "    #code:\n",
    "    n_features=X.shape[1]\n",
    "    #constant = 1 / ((2 * np.pi) ** (n_features / 2) * np.sqrt(np.prod(var+(1e-10))))\n",
    "    #constant=1\n",
    "    multiple=[]                      # array of 1/var basically\n",
    "    for i in range(len(var)):\n",
    "        if var[i]==0:\n",
    "            multiple.append(10**(10))\n",
    "        else :\n",
    "            multiple.append((1/var[i]))\n",
    "        \n",
    "    # Compute the exponent term of the Gaussian function\n",
    "    #exponent = -np.sum(((X - mu) ** 2) / (var+(1e-10)), axis=1)\n",
    "    exponent = -((X - mu) ** 2) / (var+(1e-10))\n",
    "    pow_term=np.exp(exponent)\n",
    "    gaussian_array=multiple*pow_term\n",
    "    \n",
    "    \n",
    "    # Compute the probabilities for each sample\n",
    "    #probabilities = constant * np.exp(exponent)\n",
    "    probabilities = np.prod(gaussian_array, axis=1)\n",
    "    \n",
    "    return probabilities\n",
    "    "
   ]
  },
  {
   "cell_type": "code",
   "execution_count": 38,
   "id": "615edb66",
   "metadata": {},
   "outputs": [],
   "source": [
    "#Getting mean and variance of the dataset\n",
    "mu,var=estimate_gaussian(x)"
   ]
  },
  {
   "cell_type": "code",
   "execution_count": 39,
   "id": "b7b29ec1",
   "metadata": {},
   "outputs": [],
   "source": [
    "p=multivariance_gussian(x,mu,var)"
   ]
  },
  {
   "cell_type": "code",
   "execution_count": 40,
   "id": "5f9c8a41",
   "metadata": {},
   "outputs": [
    {
     "data": {
      "text/plain": [
       "(132133,)"
      ]
     },
     "execution_count": 40,
     "metadata": {},
     "output_type": "execute_result"
    }
   ],
   "source": [
    "p.shape"
   ]
  },
  {
   "cell_type": "code",
   "execution_count": 41,
   "id": "484709c7",
   "metadata": {},
   "outputs": [],
   "source": [
    "# #Selecting an epsilon for detecting threshold\n",
    "# def select_threshold(y_val, p_val): \n",
    "#     \"\"\"\n",
    "#     Finds the best threshold to use for selecting outliers \n",
    "#     based on the results from a validation set (p_val) \n",
    "#     and the ground truth (y_val)\n",
    "    \n",
    "#     Args:\n",
    "#         y_val (ndarray): Ground truth on validation set\n",
    "#         p_val (ndarray): Results on validation set\n",
    "        \n",
    "#     Returns:\n",
    "#         epsilon (float): Threshold chosen \n",
    "#         F1 (float):      F1 score by choosing epsilon as threshold\n",
    "#     \"\"\" \n",
    "\n",
    "#     best_epsilon = 0\n",
    "#     best_F1 = 0\n",
    "#     F1 = 0\n",
    "    \n",
    "#     step_size = (max(p_val) - min(p_val)) / 1000\n",
    "    \n",
    "#     for epsilon in np.arange(min(p_val), max(p_val), step_size):\n",
    "    \n",
    "#         ### START CODE HERE ### \n",
    "#         predictions = (p_val < epsilon)\n",
    "#         tp = np.sum((predictions == 1) & (y_val == 1))\n",
    "#         fn = np.sum((predictions == 0) & (y_val == 1))\n",
    "#         fp = np.sum((predictions == 1) & (y_val == 0))\n",
    "#         prec = tp / (tp + fp)\n",
    "#         rec = tp / (tp + fn)\n",
    "#         F1 = 2 * prec * rec / (prec + rec)\n",
    "        \n",
    "        \n",
    "#         ### END CODE HERE ### \n",
    "        \n",
    "#         if F1 > best_F1:\n",
    "#             best_F1 = F1\n",
    "#             best_epsilon = epsilon\n",
    "        \n",
    "#     return best_epsilon, best_F1"
   ]
  },
  {
   "cell_type": "code",
   "execution_count": null,
   "id": "5914bd63",
   "metadata": {},
   "outputs": [],
   "source": []
  },
  {
   "cell_type": "code",
   "execution_count": 119,
   "id": "7f1f62d7",
   "metadata": {},
   "outputs": [],
   "source": [
    "#Selecting an epsilon for detecting threshold\n",
    "def select_threshold(y_val, p_val): \n",
    "    \"\"\"\n",
    "    Finds the best threshold to use for selecting outliers \n",
    "    based on the results from a validation set (p_val) \n",
    "    and the ground truth (y_val)\n",
    "    \n",
    "    Args:\n",
    "        y_val (ndarray): Ground truth on validation set\n",
    "        p_val (ndarray): Results on validation set\n",
    "        \n",
    "    Returns:\n",
    "        epsilon (float): Threshold chosen \n",
    "        F1 (float):      F1 score by choosing epsilon as threshold\n",
    "    \"\"\" \n",
    "\n",
    "    best_epsilon = 0\n",
    "    best_F1 = 0\n",
    "    F1 = 0\n",
    "   \n",
    "    step_size = (max(p_val) - min(p_val)) / 1000\n",
    "    \n",
    "    for epsilon in np.arange(min(p_val)+step_size*10, max(p_val), step_size):\n",
    "    \n",
    "        ### START CODE HERE ### \n",
    "        predictions = (p_val < epsilon)\n",
    "        predictions = predictions.astype(int)\n",
    "        tp = np.sum((predictions == 1) & (y_val == 1))\n",
    "        fn = np.sum((predictions == 0) & (y_val == 1))\n",
    "        fp = np.sum((predictions == 1) & (y_val == 0))\n",
    "        prec = tp / (tp + fp)\n",
    "        rec = tp / (tp + fn)\n",
    "        F1 = 2 * prec * rec / (prec + rec)\n",
    "        \n",
    "        \n",
    "        ### END CODE HERE ### \n",
    "        \n",
    "        if F1 > best_F1:\n",
    "            best_F1 = F1\n",
    "            best_epsilon = epsilon\n",
    "        \n",
    "    return best_epsilon, best_F1"
   ]
  },
  {
   "cell_type": "code",
   "execution_count": null,
   "id": "a87d1a5c",
   "metadata": {},
   "outputs": [],
   "source": []
  },
  {
   "cell_type": "code",
   "execution_count": null,
   "id": "5cb46bf7",
   "metadata": {},
   "outputs": [],
   "source": []
  },
  {
   "cell_type": "code",
   "execution_count": null,
   "id": "f107df39",
   "metadata": {},
   "outputs": [],
   "source": []
  },
  {
   "cell_type": "code",
   "execution_count": null,
   "id": "8aba8e14",
   "metadata": {},
   "outputs": [],
   "source": []
  },
  {
   "cell_type": "code",
   "execution_count": null,
   "id": "424c248a",
   "metadata": {},
   "outputs": [],
   "source": []
  },
  {
   "cell_type": "code",
   "execution_count": null,
   "id": "544e5fe5",
   "metadata": {},
   "outputs": [],
   "source": []
  },
  {
   "cell_type": "code",
   "execution_count": null,
   "id": "3d108007",
   "metadata": {},
   "outputs": [],
   "source": []
  },
  {
   "cell_type": "code",
   "execution_count": null,
   "id": "65ef79cd",
   "metadata": {},
   "outputs": [],
   "source": []
  },
  {
   "cell_type": "code",
   "execution_count": 120,
   "id": "a970121b",
   "metadata": {},
   "outputs": [],
   "source": [
    "df_cv=pd.read_csv('final_cv_data_.csv')"
   ]
  },
  {
   "cell_type": "code",
   "execution_count": 121,
   "id": "e42e3800",
   "metadata": {},
   "outputs": [
    {
     "data": {
      "text/html": [
       "<div>\n",
       "<style scoped>\n",
       "    .dataframe tbody tr th:only-of-type {\n",
       "        vertical-align: middle;\n",
       "    }\n",
       "\n",
       "    .dataframe tbody tr th {\n",
       "        vertical-align: top;\n",
       "    }\n",
       "\n",
       "    .dataframe thead th {\n",
       "        text-align: right;\n",
       "    }\n",
       "</style>\n",
       "<table border=\"1\" class=\"dataframe\">\n",
       "  <thead>\n",
       "    <tr style=\"text-align: right;\">\n",
       "      <th></th>\n",
       "      <th>id</th>\n",
       "      <th>Product ID</th>\n",
       "      <th>Type</th>\n",
       "      <th>Air temperature [K]</th>\n",
       "      <th>Process temperature [K]</th>\n",
       "      <th>Rotational speed [rpm]</th>\n",
       "      <th>Torque [Nm]</th>\n",
       "      <th>Tool wear [min]</th>\n",
       "      <th>Machine failure</th>\n",
       "      <th>TWF</th>\n",
       "      <th>HDF</th>\n",
       "      <th>PWF</th>\n",
       "      <th>OSF</th>\n",
       "      <th>RNF</th>\n",
       "    </tr>\n",
       "  </thead>\n",
       "  <tbody>\n",
       "    <tr>\n",
       "      <th>0</th>\n",
       "      <td>90418</td>\n",
       "      <td>L49271</td>\n",
       "      <td>L</td>\n",
       "      <td>299.5</td>\n",
       "      <td>309.2</td>\n",
       "      <td>1399</td>\n",
       "      <td>47.4</td>\n",
       "      <td>20</td>\n",
       "      <td>0</td>\n",
       "      <td>0</td>\n",
       "      <td>0</td>\n",
       "      <td>0</td>\n",
       "      <td>0</td>\n",
       "      <td>0</td>\n",
       "    </tr>\n",
       "    <tr>\n",
       "      <th>1</th>\n",
       "      <td>103002</td>\n",
       "      <td>L53040</td>\n",
       "      <td>L</td>\n",
       "      <td>301.3</td>\n",
       "      <td>311.0</td>\n",
       "      <td>1497</td>\n",
       "      <td>45.5</td>\n",
       "      <td>84</td>\n",
       "      <td>0</td>\n",
       "      <td>0</td>\n",
       "      <td>0</td>\n",
       "      <td>0</td>\n",
       "      <td>0</td>\n",
       "      <td>0</td>\n",
       "    </tr>\n",
       "    <tr>\n",
       "      <th>2</th>\n",
       "      <td>9653</td>\n",
       "      <td>L54424</td>\n",
       "      <td>L</td>\n",
       "      <td>299.8</td>\n",
       "      <td>309.7</td>\n",
       "      <td>1472</td>\n",
       "      <td>42.3</td>\n",
       "      <td>193</td>\n",
       "      <td>0</td>\n",
       "      <td>0</td>\n",
       "      <td>0</td>\n",
       "      <td>0</td>\n",
       "      <td>0</td>\n",
       "      <td>0</td>\n",
       "    </tr>\n",
       "    <tr>\n",
       "      <th>3</th>\n",
       "      <td>106459</td>\n",
       "      <td>M16074</td>\n",
       "      <td>M</td>\n",
       "      <td>296.8</td>\n",
       "      <td>307.8</td>\n",
       "      <td>1419</td>\n",
       "      <td>47.3</td>\n",
       "      <td>0</td>\n",
       "      <td>0</td>\n",
       "      <td>0</td>\n",
       "      <td>0</td>\n",
       "      <td>0</td>\n",
       "      <td>0</td>\n",
       "      <td>0</td>\n",
       "    </tr>\n",
       "    <tr>\n",
       "      <th>4</th>\n",
       "      <td>133925</td>\n",
       "      <td>L50355</td>\n",
       "      <td>L</td>\n",
       "      <td>300.3</td>\n",
       "      <td>309.6</td>\n",
       "      <td>1488</td>\n",
       "      <td>39.7</td>\n",
       "      <td>82</td>\n",
       "      <td>0</td>\n",
       "      <td>0</td>\n",
       "      <td>0</td>\n",
       "      <td>0</td>\n",
       "      <td>0</td>\n",
       "      <td>0</td>\n",
       "    </tr>\n",
       "  </tbody>\n",
       "</table>\n",
       "</div>"
      ],
      "text/plain": [
       "       id Product ID Type  Air temperature [K]  Process temperature [K]  \\\n",
       "0   90418     L49271    L                299.5                    309.2   \n",
       "1  103002     L53040    L                301.3                    311.0   \n",
       "2    9653     L54424    L                299.8                    309.7   \n",
       "3  106459     M16074    M                296.8                    307.8   \n",
       "4  133925     L50355    L                300.3                    309.6   \n",
       "\n",
       "   Rotational speed [rpm]  Torque [Nm]  Tool wear [min]  Machine failure  TWF  \\\n",
       "0                    1399         47.4               20                0    0   \n",
       "1                    1497         45.5               84                0    0   \n",
       "2                    1472         42.3              193                0    0   \n",
       "3                    1419         47.3                0                0    0   \n",
       "4                    1488         39.7               82                0    0   \n",
       "\n",
       "   HDF  PWF  OSF  RNF  \n",
       "0    0    0    0    0  \n",
       "1    0    0    0    0  \n",
       "2    0    0    0    0  \n",
       "3    0    0    0    0  \n",
       "4    0    0    0    0  "
      ]
     },
     "execution_count": 121,
     "metadata": {},
     "output_type": "execute_result"
    }
   ],
   "source": [
    "df_cv.head(5)"
   ]
  },
  {
   "cell_type": "code",
   "execution_count": 122,
   "id": "60f63c54",
   "metadata": {},
   "outputs": [
    {
     "data": {
      "text/plain": [
       "0    1157\n",
       "1    1139\n",
       "Name: Machine failure, dtype: int64"
      ]
     },
     "execution_count": 122,
     "metadata": {},
     "output_type": "execute_result"
    }
   ],
   "source": [
    "df_cv['Machine failure'].value_counts()"
   ]
  },
  {
   "cell_type": "code",
   "execution_count": 123,
   "id": "a79ada4f",
   "metadata": {},
   "outputs": [],
   "source": [
    "y = df_cv['Machine failure']"
   ]
  },
  {
   "cell_type": "code",
   "execution_count": 124,
   "id": "3c470b9c",
   "metadata": {},
   "outputs": [],
   "source": [
    "y = y.to_numpy()"
   ]
  },
  {
   "cell_type": "code",
   "execution_count": 125,
   "id": "8b36bca0",
   "metadata": {},
   "outputs": [
    {
     "data": {
      "text/plain": [
       "(2296,)"
      ]
     },
     "execution_count": 125,
     "metadata": {},
     "output_type": "execute_result"
    }
   ],
   "source": [
    "y.shape"
   ]
  },
  {
   "cell_type": "code",
   "execution_count": 126,
   "id": "f544fdb2",
   "metadata": {},
   "outputs": [],
   "source": [
    "df_cv=df_cv.drop(['id','Product ID','Machine failure','Type'], axis=1)"
   ]
  },
  {
   "cell_type": "code",
   "execution_count": 127,
   "id": "e9e9e282",
   "metadata": {},
   "outputs": [
    {
     "data": {
      "text/html": [
       "<div>\n",
       "<style scoped>\n",
       "    .dataframe tbody tr th:only-of-type {\n",
       "        vertical-align: middle;\n",
       "    }\n",
       "\n",
       "    .dataframe tbody tr th {\n",
       "        vertical-align: top;\n",
       "    }\n",
       "\n",
       "    .dataframe thead th {\n",
       "        text-align: right;\n",
       "    }\n",
       "</style>\n",
       "<table border=\"1\" class=\"dataframe\">\n",
       "  <thead>\n",
       "    <tr style=\"text-align: right;\">\n",
       "      <th></th>\n",
       "      <th>Air temperature [K]</th>\n",
       "      <th>Process temperature [K]</th>\n",
       "      <th>Rotational speed [rpm]</th>\n",
       "      <th>Torque [Nm]</th>\n",
       "      <th>Tool wear [min]</th>\n",
       "      <th>TWF</th>\n",
       "      <th>HDF</th>\n",
       "      <th>PWF</th>\n",
       "      <th>OSF</th>\n",
       "      <th>RNF</th>\n",
       "    </tr>\n",
       "  </thead>\n",
       "  <tbody>\n",
       "    <tr>\n",
       "      <th>0</th>\n",
       "      <td>299.5</td>\n",
       "      <td>309.2</td>\n",
       "      <td>1399</td>\n",
       "      <td>47.4</td>\n",
       "      <td>20</td>\n",
       "      <td>0</td>\n",
       "      <td>0</td>\n",
       "      <td>0</td>\n",
       "      <td>0</td>\n",
       "      <td>0</td>\n",
       "    </tr>\n",
       "    <tr>\n",
       "      <th>1</th>\n",
       "      <td>301.3</td>\n",
       "      <td>311.0</td>\n",
       "      <td>1497</td>\n",
       "      <td>45.5</td>\n",
       "      <td>84</td>\n",
       "      <td>0</td>\n",
       "      <td>0</td>\n",
       "      <td>0</td>\n",
       "      <td>0</td>\n",
       "      <td>0</td>\n",
       "    </tr>\n",
       "    <tr>\n",
       "      <th>2</th>\n",
       "      <td>299.8</td>\n",
       "      <td>309.7</td>\n",
       "      <td>1472</td>\n",
       "      <td>42.3</td>\n",
       "      <td>193</td>\n",
       "      <td>0</td>\n",
       "      <td>0</td>\n",
       "      <td>0</td>\n",
       "      <td>0</td>\n",
       "      <td>0</td>\n",
       "    </tr>\n",
       "    <tr>\n",
       "      <th>3</th>\n",
       "      <td>296.8</td>\n",
       "      <td>307.8</td>\n",
       "      <td>1419</td>\n",
       "      <td>47.3</td>\n",
       "      <td>0</td>\n",
       "      <td>0</td>\n",
       "      <td>0</td>\n",
       "      <td>0</td>\n",
       "      <td>0</td>\n",
       "      <td>0</td>\n",
       "    </tr>\n",
       "    <tr>\n",
       "      <th>4</th>\n",
       "      <td>300.3</td>\n",
       "      <td>309.6</td>\n",
       "      <td>1488</td>\n",
       "      <td>39.7</td>\n",
       "      <td>82</td>\n",
       "      <td>0</td>\n",
       "      <td>0</td>\n",
       "      <td>0</td>\n",
       "      <td>0</td>\n",
       "      <td>0</td>\n",
       "    </tr>\n",
       "  </tbody>\n",
       "</table>\n",
       "</div>"
      ],
      "text/plain": [
       "   Air temperature [K]  Process temperature [K]  Rotational speed [rpm]  \\\n",
       "0                299.5                    309.2                    1399   \n",
       "1                301.3                    311.0                    1497   \n",
       "2                299.8                    309.7                    1472   \n",
       "3                296.8                    307.8                    1419   \n",
       "4                300.3                    309.6                    1488   \n",
       "\n",
       "   Torque [Nm]  Tool wear [min]  TWF  HDF  PWF  OSF  RNF  \n",
       "0         47.4               20    0    0    0    0    0  \n",
       "1         45.5               84    0    0    0    0    0  \n",
       "2         42.3              193    0    0    0    0    0  \n",
       "3         47.3                0    0    0    0    0    0  \n",
       "4         39.7               82    0    0    0    0    0  "
      ]
     },
     "execution_count": 127,
     "metadata": {},
     "output_type": "execute_result"
    }
   ],
   "source": [
    "df_cv.head(5)"
   ]
  },
  {
   "cell_type": "code",
   "execution_count": 128,
   "id": "703c644f",
   "metadata": {},
   "outputs": [],
   "source": [
    "x_cv = df_cv.to_numpy()"
   ]
  },
  {
   "cell_type": "code",
   "execution_count": 129,
   "id": "46b2f8ff",
   "metadata": {},
   "outputs": [
    {
     "data": {
      "text/plain": [
       "(2296, 10)"
      ]
     },
     "execution_count": 129,
     "metadata": {},
     "output_type": "execute_result"
    }
   ],
   "source": [
    "x_cv.shape"
   ]
  },
  {
   "cell_type": "code",
   "execution_count": 130,
   "id": "fd32379b",
   "metadata": {},
   "outputs": [],
   "source": [
    "# y->   ground truth labels array\n",
    "# x_cv->cross validation dataset array"
   ]
  },
  {
   "cell_type": "code",
   "execution_count": 131,
   "id": "edd50568",
   "metadata": {},
   "outputs": [],
   "source": [
    "p_val=multivariance_gussian(x_cv,mu,var)"
   ]
  },
  {
   "cell_type": "code",
   "execution_count": 132,
   "id": "7b808077",
   "metadata": {},
   "outputs": [
    {
     "data": {
      "text/plain": [
       "(2296,)"
      ]
     },
     "execution_count": 132,
     "metadata": {},
     "output_type": "execute_result"
    }
   ],
   "source": [
    "p_val.shape"
   ]
  },
  {
   "cell_type": "code",
   "execution_count": 133,
   "id": "168fd66b",
   "metadata": {},
   "outputs": [
    {
     "data": {
      "text/plain": [
       "array([1.34664494e+14, 8.90509787e+14, 5.72103930e+14, ...,\n",
       "       0.00000000e+00, 1.56222056e+14, 0.00000000e+00])"
      ]
     },
     "execution_count": 133,
     "metadata": {},
     "output_type": "execute_result"
    }
   ],
   "source": [
    "p_val"
   ]
  },
  {
   "cell_type": "code",
   "execution_count": 134,
   "id": "53c7f120",
   "metadata": {},
   "outputs": [],
   "source": [
    "best_epsilon, best_F1=select_threshold(y, p_val)"
   ]
  },
  {
   "cell_type": "code",
   "execution_count": 135,
   "id": "c14b2a59",
   "metadata": {},
   "outputs": [
    {
     "data": {
      "text/plain": [
       "42519346740183.18"
      ]
     },
     "execution_count": 135,
     "metadata": {},
     "output_type": "execute_result"
    }
   ],
   "source": [
    "best_epsilon"
   ]
  },
  {
   "cell_type": "code",
   "execution_count": 136,
   "id": "09ee4cfc",
   "metadata": {},
   "outputs": [],
   "source": [
    "outliers = p_val < best_epsilon"
   ]
  },
  {
   "cell_type": "code",
   "execution_count": 137,
   "id": "69ac8f16",
   "metadata": {},
   "outputs": [],
   "source": [
    "outliers =outliers.astype(int)"
   ]
  },
  {
   "cell_type": "code",
   "execution_count": 138,
   "id": "221470a2",
   "metadata": {},
   "outputs": [
    {
     "data": {
      "text/plain": [
       "(2296,)"
      ]
     },
     "execution_count": 138,
     "metadata": {},
     "output_type": "execute_result"
    }
   ],
   "source": [
    "outliers.shape"
   ]
  },
  {
   "cell_type": "code",
   "execution_count": 139,
   "id": "6cab506f",
   "metadata": {},
   "outputs": [],
   "source": [
    "#Counting the number of correct predictions :\n",
    "count_correct=0\n",
    "for i in range(len(outliers)):\n",
    "    if outliers[i]==y[i]:\n",
    "       count_correct=count_correct+1"
   ]
  },
  {
   "cell_type": "code",
   "execution_count": 140,
   "id": "7e9279b5",
   "metadata": {},
   "outputs": [
    {
     "name": "stdout",
     "output_type": "stream",
     "text": [
      "1807\n"
     ]
    }
   ],
   "source": [
    "print(count_correct)   #Correct Precictions"
   ]
  },
  {
   "cell_type": "code",
   "execution_count": 141,
   "id": "2ab7afec",
   "metadata": {},
   "outputs": [
    {
     "data": {
      "text/plain": [
       "(2296,)"
      ]
     },
     "execution_count": 141,
     "metadata": {},
     "output_type": "execute_result"
    }
   ],
   "source": [
    "y.shape    #Total Predictions"
   ]
  },
  {
   "cell_type": "code",
   "execution_count": 142,
   "id": "914a14d0",
   "metadata": {},
   "outputs": [],
   "source": [
    "# Detected 1807 outoff 2296 cases correctly for cross validation set"
   ]
  },
  {
   "cell_type": "code",
   "execution_count": 150,
   "id": "95643e16",
   "metadata": {},
   "outputs": [
    {
     "data": {
      "text/plain": [
       "0.787020905923345"
      ]
     },
     "execution_count": 150,
     "metadata": {},
     "output_type": "execute_result"
    }
   ],
   "source": [
    "1807/2296"
   ]
  },
  {
   "cell_type": "code",
   "execution_count": 143,
   "id": "69c94164",
   "metadata": {},
   "outputs": [],
   "source": [
    "c=0\n",
    "for i in range(len(y)):\n",
    "    if y[i]==1:\n",
    "        c=c+1\n",
    "    "
   ]
  },
  {
   "cell_type": "code",
   "execution_count": 144,
   "id": "703ed2ed",
   "metadata": {},
   "outputs": [
    {
     "name": "stdout",
     "output_type": "stream",
     "text": [
      "1139\n"
     ]
    }
   ],
   "source": [
    "print(c)"
   ]
  },
  {
   "cell_type": "code",
   "execution_count": 145,
   "id": "fb2d4983",
   "metadata": {},
   "outputs": [],
   "source": [
    "# 1139 -> not working"
   ]
  },
  {
   "cell_type": "code",
   "execution_count": 146,
   "id": "200f4d7d",
   "metadata": {},
   "outputs": [],
   "source": [
    "#Counting when machine was faulty and was detected as faulty\n",
    "count_faulty_correct=0\n",
    "for i in range(len(outliers)):\n",
    "    if outliers[i]==1 and y[i]==1:\n",
    "        count_faulty_correct=count_faulty_correct+1"
   ]
  },
  {
   "cell_type": "code",
   "execution_count": 147,
   "id": "7c6bf80b",
   "metadata": {},
   "outputs": [
    {
     "name": "stdout",
     "output_type": "stream",
     "text": [
      "1082\n"
     ]
    }
   ],
   "source": [
    "print(count_faulty_correct)   #Not working engines detected"
   ]
  },
  {
   "cell_type": "code",
   "execution_count": 148,
   "id": "ce31998e",
   "metadata": {},
   "outputs": [],
   "source": [
    "# Detected 1082 outoff 1139 not working engines correctly for cross validation set"
   ]
  },
  {
   "cell_type": "code",
   "execution_count": 151,
   "id": "855d16d1",
   "metadata": {},
   "outputs": [
    {
     "data": {
      "text/plain": [
       "0.9499561018437226"
      ]
     },
     "execution_count": 151,
     "metadata": {},
     "output_type": "execute_result"
    }
   ],
   "source": [
    "1082/1139"
   ]
  },
  {
   "cell_type": "markdown",
   "id": "623e50c6",
   "metadata": {},
   "source": [
    "78.7% overall accuracy, and 94.99% accuracy for detecting faulty engines"
   ]
  },
  {
   "cell_type": "code",
   "execution_count": 166,
   "id": "6ce8e6aa",
   "metadata": {},
   "outputs": [],
   "source": [
    "#Plotting Confusion matrix\n",
    "from sklearn.metrics import confusion_matrix, ConfusionMatrixDisplay\n",
    "import matplotlib.pyplot as plt\n",
    "cm_train = confusion_matrix(y,outliers)"
   ]
  },
  {
   "cell_type": "code",
   "execution_count": 167,
   "id": "53659fa6",
   "metadata": {},
   "outputs": [
    {
     "data": {
      "image/png": "[encoded data removed]",
      "text/plain": [
       "<Figure size 432x288 with 2 Axes>"
      ]
     },
     "metadata": {
      "needs_background": "light"
     },
     "output_type": "display_data"
    }
   ],
   "source": [
    "disp = ConfusionMatrixDisplay(confusion_matrix=cm_train)\n",
    "disp.plot()\n",
    "plt.show()"
   ]
  },
  {
   "cell_type": "code",
   "execution_count": 3,
   "id": "8ec98eec",
   "metadata": {},
   "outputs": [
    {
     "data": {
      "text/plain": [
       "94.99561018437225"
      ]
     },
     "execution_count": 3,
     "metadata": {},
     "output_type": "execute_result"
    }
   ],
   "source": [
    "1082/(1082+57)*100"
   ]
  },
  {
   "cell_type": "code",
   "execution_count": 5,
   "id": "9831177f",
   "metadata": {},
   "outputs": [
    {
     "data": {
      "text/plain": [
       "77.78734395178648"
      ]
     },
     "execution_count": 5,
     "metadata": {},
     "output_type": "execute_result"
    }
   ],
   "source": [
    "(725+1082)/(752+432+57+1082)*100"
   ]
  },
  {
   "cell_type": "code",
   "execution_count": null,
   "id": "2594ad37",
   "metadata": {},
   "outputs": [],
   "source": []
  }
 ],
 "metadata": {
  "kernelspec": {
   "display_name": "Python 3 (ipykernel)",
   "language": "python",
   "name": "python3"
  },
  "language_info": {
   "codemirror_mode": {
    "name": "ipython",
    "version": 3
   },
   "file_extension": ".py",
   "mimetype": "text/x-python",
   "name": "python",
   "nbconvert_exporter": "python",
   "pygments_lexer": "ipython3",
   "version": "3.10.1"
  }
 },
 "nbformat": 4,
 "nbformat_minor": 5
}
