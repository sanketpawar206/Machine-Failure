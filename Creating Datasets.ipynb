{
 "cells": [
  {
   "cell_type": "code",
   "execution_count": 3,
   "id": "e2d6bda2",
   "metadata": {},
   "outputs": [],
   "source": [
    "import pandas as pd"
   ]
  },
  {
   "cell_type": "code",
   "execution_count": 2,
   "id": "7063611f",
   "metadata": {},
   "outputs": [],
   "source": [
    "df_0=pd.read_csv('only_train.csv')"
   ]
  },
  {
   "cell_type": "code",
   "execution_count": 3,
   "id": "656cde81",
   "metadata": {},
   "outputs": [],
   "source": [
    "df_1=pd.read_csv('only_cv.csv')"
   ]
  },
  {
   "cell_type": "code",
   "execution_count": 4,
   "id": "08556929",
   "metadata": {},
   "outputs": [
    {
     "data": {
      "text/plain": [
       "(134281, 14)"
      ]
     },
     "execution_count": 4,
     "metadata": {},
     "output_type": "execute_result"
    }
   ],
   "source": [
    "df_0.head(5)\n",
    "df_0.shape"
   ]
  },
  {
   "cell_type": "code",
   "execution_count": 5,
   "id": "27d6a887",
   "metadata": {},
   "outputs": [
    {
     "data": {
      "text/plain": [
       "(2148, 14)"
      ]
     },
     "execution_count": 5,
     "metadata": {},
     "output_type": "execute_result"
    }
   ],
   "source": [
    "df_1.head(5)\n",
    "df_1.shape"
   ]
  },
  {
   "cell_type": "code",
   "execution_count": 10,
   "id": "9e7cb9bf",
   "metadata": {},
   "outputs": [],
   "source": [
    "df=df_0.sample(2148,random_state=1)"
   ]
  },
  {
   "cell_type": "code",
   "execution_count": 11,
   "id": "fc2eb2c0",
   "metadata": {},
   "outputs": [
    {
     "data": {
      "text/html": [
       "<div>\n",
       "<style scoped>\n",
       "    .dataframe tbody tr th:only-of-type {\n",
       "        vertical-align: middle;\n",
       "    }\n",
       "\n",
       "    .dataframe tbody tr th {\n",
       "        vertical-align: top;\n",
       "    }\n",
       "\n",
       "    .dataframe thead th {\n",
       "        text-align: right;\n",
       "    }\n",
       "</style>\n",
       "<table border=\"1\" class=\"dataframe\">\n",
       "  <thead>\n",
       "    <tr style=\"text-align: right;\">\n",
       "      <th></th>\n",
       "      <th>id</th>\n",
       "      <th>Product ID</th>\n",
       "      <th>Type</th>\n",
       "      <th>Air temperature [K]</th>\n",
       "      <th>Process temperature [K]</th>\n",
       "      <th>Rotational speed [rpm]</th>\n",
       "      <th>Torque [Nm]</th>\n",
       "      <th>Tool wear [min]</th>\n",
       "      <th>Machine failure</th>\n",
       "      <th>TWF</th>\n",
       "      <th>HDF</th>\n",
       "      <th>PWF</th>\n",
       "      <th>OSF</th>\n",
       "      <th>RNF</th>\n",
       "    </tr>\n",
       "  </thead>\n",
       "  <tbody>\n",
       "    <tr>\n",
       "      <th>89013</th>\n",
       "      <td>90418</td>\n",
       "      <td>L49271</td>\n",
       "      <td>L</td>\n",
       "      <td>299.5</td>\n",
       "      <td>309.2</td>\n",
       "      <td>1399</td>\n",
       "      <td>47.4</td>\n",
       "      <td>20</td>\n",
       "      <td>0</td>\n",
       "      <td>0</td>\n",
       "      <td>0</td>\n",
       "      <td>0</td>\n",
       "      <td>0</td>\n",
       "      <td>0</td>\n",
       "    </tr>\n",
       "    <tr>\n",
       "      <th>101386</th>\n",
       "      <td>103002</td>\n",
       "      <td>L53040</td>\n",
       "      <td>L</td>\n",
       "      <td>301.3</td>\n",
       "      <td>311.0</td>\n",
       "      <td>1497</td>\n",
       "      <td>45.5</td>\n",
       "      <td>84</td>\n",
       "      <td>0</td>\n",
       "      <td>0</td>\n",
       "      <td>0</td>\n",
       "      <td>0</td>\n",
       "      <td>0</td>\n",
       "      <td>0</td>\n",
       "    </tr>\n",
       "    <tr>\n",
       "      <th>307</th>\n",
       "      <td>313</td>\n",
       "      <td>L49571</td>\n",
       "      <td>L</td>\n",
       "      <td>299.2</td>\n",
       "      <td>308.4</td>\n",
       "      <td>1447</td>\n",
       "      <td>46.6</td>\n",
       "      <td>145</td>\n",
       "      <td>0</td>\n",
       "      <td>0</td>\n",
       "      <td>0</td>\n",
       "      <td>0</td>\n",
       "      <td>0</td>\n",
       "      <td>1</td>\n",
       "    </tr>\n",
       "    <tr>\n",
       "      <th>18986</th>\n",
       "      <td>19270</td>\n",
       "      <td>L50381</td>\n",
       "      <td>L</td>\n",
       "      <td>300.2</td>\n",
       "      <td>309.0</td>\n",
       "      <td>1479</td>\n",
       "      <td>47.0</td>\n",
       "      <td>22</td>\n",
       "      <td>0</td>\n",
       "      <td>0</td>\n",
       "      <td>0</td>\n",
       "      <td>0</td>\n",
       "      <td>0</td>\n",
       "      <td>0</td>\n",
       "    </tr>\n",
       "    <tr>\n",
       "      <th>71203</th>\n",
       "      <td>72337</td>\n",
       "      <td>M18986</td>\n",
       "      <td>M</td>\n",
       "      <td>302.0</td>\n",
       "      <td>310.7</td>\n",
       "      <td>1512</td>\n",
       "      <td>37.5</td>\n",
       "      <td>5</td>\n",
       "      <td>0</td>\n",
       "      <td>0</td>\n",
       "      <td>0</td>\n",
       "      <td>0</td>\n",
       "      <td>0</td>\n",
       "      <td>0</td>\n",
       "    </tr>\n",
       "  </tbody>\n",
       "</table>\n",
       "</div>"
      ],
      "text/plain": [
       "            id Product ID Type  Air temperature [K]  Process temperature [K]  \\\n",
       "89013    90418     L49271    L                299.5                    309.2   \n",
       "101386  103002     L53040    L                301.3                    311.0   \n",
       "307        313     L49571    L                299.2                    308.4   \n",
       "18986    19270     L50381    L                300.2                    309.0   \n",
       "71203    72337     M18986    M                302.0                    310.7   \n",
       "\n",
       "        Rotational speed [rpm]  Torque [Nm]  Tool wear [min]  Machine failure  \\\n",
       "89013                     1399         47.4               20                0   \n",
       "101386                    1497         45.5               84                0   \n",
       "307                       1447         46.6              145                0   \n",
       "18986                     1479         47.0               22                0   \n",
       "71203                     1512         37.5                5                0   \n",
       "\n",
       "        TWF  HDF  PWF  OSF  RNF  \n",
       "89013     0    0    0    0    0  \n",
       "101386    0    0    0    0    0  \n",
       "307       0    0    0    0    1  \n",
       "18986     0    0    0    0    0  \n",
       "71203     0    0    0    0    0  "
      ]
     },
     "execution_count": 11,
     "metadata": {},
     "output_type": "execute_result"
    }
   ],
   "source": [
    "df.head(5)"
   ]
  },
  {
   "cell_type": "code",
   "execution_count": 12,
   "id": "1844917c",
   "metadata": {},
   "outputs": [],
   "source": [
    "df_final_test=pd.concat([df, df_1])"
   ]
  },
  {
   "cell_type": "code",
   "execution_count": 13,
   "id": "52e745fd",
   "metadata": {},
   "outputs": [
    {
     "data": {
      "text/plain": [
       "(4296, 14)"
      ]
     },
     "execution_count": 13,
     "metadata": {},
     "output_type": "execute_result"
    }
   ],
   "source": [
    "df_final_test.shape"
   ]
  },
  {
   "cell_type": "code",
   "execution_count": 14,
   "id": "68a0370e",
   "metadata": {},
   "outputs": [
    {
     "data": {
      "text/plain": [
       "0    2148\n",
       "1    2148\n",
       "Name: Machine failure, dtype: int64"
      ]
     },
     "execution_count": 14,
     "metadata": {},
     "output_type": "execute_result"
    }
   ],
   "source": [
    "df_final_test['Machine failure'].value_counts()"
   ]
  },
  {
   "cell_type": "code",
   "execution_count": 15,
   "id": "a070e183",
   "metadata": {},
   "outputs": [],
   "source": [
    "df_final_test.to_csv('final_test_data.csv',index=False)"
   ]
  },
  {
   "cell_type": "code",
   "execution_count": 16,
   "id": "a04800ee",
   "metadata": {},
   "outputs": [
    {
     "data": {
      "text/plain": [
       "(134281, 14)"
      ]
     },
     "execution_count": 16,
     "metadata": {},
     "output_type": "execute_result"
    }
   ],
   "source": [
    "df_0.shape"
   ]
  },
  {
   "cell_type": "code",
   "execution_count": 17,
   "id": "ba7a4bfd",
   "metadata": {},
   "outputs": [],
   "source": [
    "df_final_train = df_0.merge(df, how='outer', indicator=True).loc[lambda x: x['_merge'] == 'left_only'].drop('_merge', axis=1)"
   ]
  },
  {
   "cell_type": "code",
   "execution_count": 19,
   "id": "5fb8957c",
   "metadata": {},
   "outputs": [
    {
     "data": {
      "text/plain": [
       "(132133, 14)"
      ]
     },
     "execution_count": 19,
     "metadata": {},
     "output_type": "execute_result"
    }
   ],
   "source": [
    "df_final_train.shape"
   ]
  },
  {
   "cell_type": "code",
   "execution_count": 24,
   "id": "57588642",
   "metadata": {},
   "outputs": [
    {
     "data": {
      "text/plain": [
       "0    132133\n",
       "Name: Machine failure, dtype: int64"
      ]
     },
     "execution_count": 24,
     "metadata": {},
     "output_type": "execute_result"
    }
   ],
   "source": [
    "df_final_train['Machine failure'].value_counts()"
   ]
  },
  {
   "cell_type": "code",
   "execution_count": 20,
   "id": "a1185b8b",
   "metadata": {},
   "outputs": [
    {
     "data": {
      "text/plain": [
       "2148"
      ]
     },
     "execution_count": 20,
     "metadata": {},
     "output_type": "execute_result"
    }
   ],
   "source": [
    "134281-132133"
   ]
  },
  {
   "cell_type": "code",
   "execution_count": 26,
   "id": "148f7290",
   "metadata": {},
   "outputs": [],
   "source": [
    "df_final_train.to_csv('final_train_data.csv',index=False)"
   ]
  },
  {
   "cell_type": "code",
   "execution_count": 4,
   "id": "0d27411d",
   "metadata": {},
   "outputs": [],
   "source": [
    "df=pd.read_csv('final_test_data.csv')"
   ]
  },
  {
   "cell_type": "code",
   "execution_count": 5,
   "id": "aada687c",
   "metadata": {},
   "outputs": [
    {
     "data": {
      "text/plain": [
       "(4296, 14)"
      ]
     },
     "execution_count": 5,
     "metadata": {},
     "output_type": "execute_result"
    }
   ],
   "source": [
    "df.shape"
   ]
  },
  {
   "cell_type": "code",
   "execution_count": 6,
   "id": "fd2ad80e",
   "metadata": {},
   "outputs": [],
   "source": [
    "df_r=df.sample(2000,random_state=2)"
   ]
  },
  {
   "cell_type": "code",
   "execution_count": 10,
   "id": "6f928af1",
   "metadata": {},
   "outputs": [
    {
     "data": {
      "text/plain": [
       "1    1009\n",
       "0     991\n",
       "Name: Machine failure, dtype: int64"
      ]
     },
     "execution_count": 10,
     "metadata": {},
     "output_type": "execute_result"
    }
   ],
   "source": [
    "df_r['Machine failure'].value_counts()"
   ]
  },
  {
   "cell_type": "code",
   "execution_count": 11,
   "id": "d7c9d550",
   "metadata": {},
   "outputs": [],
   "source": [
    "df_r.to_csv('final_test_data_.csv',index=False)"
   ]
  },
  {
   "cell_type": "code",
   "execution_count": 12,
   "id": "15b85ad6",
   "metadata": {},
   "outputs": [],
   "source": [
    "df_final_cv = df.merge(df_r, how='outer', indicator=True).loc[lambda x: x['_merge'] == 'left_only'].drop('_merge', axis=1)"
   ]
  },
  {
   "cell_type": "code",
   "execution_count": 13,
   "id": "0b033b22",
   "metadata": {},
   "outputs": [
    {
     "data": {
      "text/plain": [
       "(2296, 14)"
      ]
     },
     "execution_count": 13,
     "metadata": {},
     "output_type": "execute_result"
    }
   ],
   "source": [
    "df_final_cv.shape"
   ]
  },
  {
   "cell_type": "code",
   "execution_count": 14,
   "id": "9c8f4c21",
   "metadata": {},
   "outputs": [
    {
     "data": {
      "text/plain": [
       "4296"
      ]
     },
     "execution_count": 14,
     "metadata": {},
     "output_type": "execute_result"
    }
   ],
   "source": [
    "2296+1009+991\n"
   ]
  },
  {
   "cell_type": "code",
   "execution_count": 15,
   "id": "202e9ac0",
   "metadata": {},
   "outputs": [],
   "source": [
    "df_final_cv.to_csv('final_cv_data_.csv',index=False)"
   ]
  },
  {
   "cell_type": "code",
   "execution_count": null,
   "id": "9f9528a8",
   "metadata": {},
   "outputs": [],
   "source": []
  }
 ],
 "metadata": {
  "kernelspec": {
   "display_name": "Python 3 (ipykernel)",
   "language": "python",
   "name": "python3"
  },
  "language_info": {
   "codemirror_mode": {
    "name": "ipython",
    "version": 3
   },
   "file_extension": ".py",
   "mimetype": "text/x-python",
   "name": "python",
   "nbconvert_exporter": "python",
   "pygments_lexer": "ipython3",
   "version": "3.10.1"
  }
 },
 "nbformat": 4,
 "nbformat_minor": 5
}
