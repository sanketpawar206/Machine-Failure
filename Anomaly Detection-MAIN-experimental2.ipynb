{
 "cells": [
  {
   "cell_type": "code",
   "execution_count": 1,
   "id": "2ddc8449",
   "metadata": {},
   "outputs": [],
   "source": [
    "#Refrence material "
   ]
  },
  {
   "cell_type": "markdown",
   "id": "8c424b6a",
   "metadata": {},
   "source": [
    "https://www.coursera.org/learn/unsupervised-learning-recommenders-reinforcement-learning/programming/Rqh9M/anomaly-detection/lab?path=%2Fnotebooks%2FC3_W1_Anomaly_Detection.ipynb"
   ]
  },
  {
   "cell_type": "code",
   "execution_count": 2,
   "id": "2e8cca79",
   "metadata": {},
   "outputs": [],
   "source": [
    "import pandas as pd\n",
    "import numpy as np"
   ]
  },
  {
   "cell_type": "code",
   "execution_count": 3,
   "id": "9d11a81c",
   "metadata": {},
   "outputs": [],
   "source": [
    "df=pd.read_csv('final_train_data.csv')"
   ]
  },
  {
   "cell_type": "code",
   "execution_count": 4,
   "id": "2406f2d8",
   "metadata": {},
   "outputs": [
    {
     "data": {
      "text/html": [
       "<div>\n",
       "<style scoped>\n",
       "    .dataframe tbody tr th:only-of-type {\n",
       "        vertical-align: middle;\n",
       "    }\n",
       "\n",
       "    .dataframe tbody tr th {\n",
       "        vertical-align: top;\n",
       "    }\n",
       "\n",
       "    .dataframe thead th {\n",
       "        text-align: right;\n",
       "    }\n",
       "</style>\n",
       "<table border=\"1\" class=\"dataframe\">\n",
       "  <thead>\n",
       "    <tr style=\"text-align: right;\">\n",
       "      <th></th>\n",
       "      <th>id</th>\n",
       "      <th>Product ID</th>\n",
       "      <th>Type</th>\n",
       "      <th>Air temperature [K]</th>\n",
       "      <th>Process temperature [K]</th>\n",
       "      <th>Rotational speed [rpm]</th>\n",
       "      <th>Torque [Nm]</th>\n",
       "      <th>Tool wear [min]</th>\n",
       "      <th>Machine failure</th>\n",
       "      <th>TWF</th>\n",
       "      <th>HDF</th>\n",
       "      <th>PWF</th>\n",
       "      <th>OSF</th>\n",
       "      <th>RNF</th>\n",
       "    </tr>\n",
       "  </thead>\n",
       "  <tbody>\n",
       "    <tr>\n",
       "      <th>0</th>\n",
       "      <td>0</td>\n",
       "      <td>L50096</td>\n",
       "      <td>L</td>\n",
       "      <td>300.6</td>\n",
       "      <td>309.6</td>\n",
       "      <td>1596</td>\n",
       "      <td>36.1</td>\n",
       "      <td>140</td>\n",
       "      <td>0</td>\n",
       "      <td>0</td>\n",
       "      <td>0</td>\n",
       "      <td>0</td>\n",
       "      <td>0</td>\n",
       "      <td>0</td>\n",
       "    </tr>\n",
       "    <tr>\n",
       "      <th>1</th>\n",
       "      <td>1</td>\n",
       "      <td>M20343</td>\n",
       "      <td>M</td>\n",
       "      <td>302.6</td>\n",
       "      <td>312.1</td>\n",
       "      <td>1759</td>\n",
       "      <td>29.1</td>\n",
       "      <td>200</td>\n",
       "      <td>0</td>\n",
       "      <td>0</td>\n",
       "      <td>0</td>\n",
       "      <td>0</td>\n",
       "      <td>0</td>\n",
       "      <td>0</td>\n",
       "    </tr>\n",
       "    <tr>\n",
       "      <th>2</th>\n",
       "      <td>2</td>\n",
       "      <td>L49454</td>\n",
       "      <td>L</td>\n",
       "      <td>299.3</td>\n",
       "      <td>308.5</td>\n",
       "      <td>1805</td>\n",
       "      <td>26.5</td>\n",
       "      <td>25</td>\n",
       "      <td>0</td>\n",
       "      <td>0</td>\n",
       "      <td>0</td>\n",
       "      <td>0</td>\n",
       "      <td>0</td>\n",
       "      <td>0</td>\n",
       "    </tr>\n",
       "    <tr>\n",
       "      <th>3</th>\n",
       "      <td>3</td>\n",
       "      <td>L53355</td>\n",
       "      <td>L</td>\n",
       "      <td>301.0</td>\n",
       "      <td>310.9</td>\n",
       "      <td>1524</td>\n",
       "      <td>44.3</td>\n",
       "      <td>197</td>\n",
       "      <td>0</td>\n",
       "      <td>0</td>\n",
       "      <td>0</td>\n",
       "      <td>0</td>\n",
       "      <td>0</td>\n",
       "      <td>0</td>\n",
       "    </tr>\n",
       "    <tr>\n",
       "      <th>4</th>\n",
       "      <td>4</td>\n",
       "      <td>M24050</td>\n",
       "      <td>M</td>\n",
       "      <td>298.0</td>\n",
       "      <td>309.0</td>\n",
       "      <td>1641</td>\n",
       "      <td>35.4</td>\n",
       "      <td>34</td>\n",
       "      <td>0</td>\n",
       "      <td>0</td>\n",
       "      <td>0</td>\n",
       "      <td>0</td>\n",
       "      <td>0</td>\n",
       "      <td>0</td>\n",
       "    </tr>\n",
       "  </tbody>\n",
       "</table>\n",
       "</div>"
      ],
      "text/plain": [
       "   id Product ID Type  Air temperature [K]  Process temperature [K]  \\\n",
       "0   0     L50096    L                300.6                    309.6   \n",
       "1   1     M20343    M                302.6                    312.1   \n",
       "2   2     L49454    L                299.3                    308.5   \n",
       "3   3     L53355    L                301.0                    310.9   \n",
       "4   4     M24050    M                298.0                    309.0   \n",
       "\n",
       "   Rotational speed [rpm]  Torque [Nm]  Tool wear [min]  Machine failure  TWF  \\\n",
       "0                    1596         36.1              140                0    0   \n",
       "1                    1759         29.1              200                0    0   \n",
       "2                    1805         26.5               25                0    0   \n",
       "3                    1524         44.3              197                0    0   \n",
       "4                    1641         35.4               34                0    0   \n",
       "\n",
       "   HDF  PWF  OSF  RNF  \n",
       "0    0    0    0    0  \n",
       "1    0    0    0    0  \n",
       "2    0    0    0    0  \n",
       "3    0    0    0    0  \n",
       "4    0    0    0    0  "
      ]
     },
     "execution_count": 4,
     "metadata": {},
     "output_type": "execute_result"
    }
   ],
   "source": [
    "df.head(5)"
   ]
  },
  {
   "cell_type": "code",
   "execution_count": 5,
   "id": "6479f42c",
   "metadata": {},
   "outputs": [],
   "source": [
    "df=df.drop(['id','Product ID','Machine failure'], axis=1)"
   ]
  },
  {
   "cell_type": "code",
   "execution_count": 6,
   "id": "a3359f67",
   "metadata": {},
   "outputs": [
    {
     "data": {
      "text/html": [
       "<div>\n",
       "<style scoped>\n",
       "    .dataframe tbody tr th:only-of-type {\n",
       "        vertical-align: middle;\n",
       "    }\n",
       "\n",
       "    .dataframe tbody tr th {\n",
       "        vertical-align: top;\n",
       "    }\n",
       "\n",
       "    .dataframe thead th {\n",
       "        text-align: right;\n",
       "    }\n",
       "</style>\n",
       "<table border=\"1\" class=\"dataframe\">\n",
       "  <thead>\n",
       "    <tr style=\"text-align: right;\">\n",
       "      <th></th>\n",
       "      <th>Type</th>\n",
       "      <th>Air temperature [K]</th>\n",
       "      <th>Process temperature [K]</th>\n",
       "      <th>Rotational speed [rpm]</th>\n",
       "      <th>Torque [Nm]</th>\n",
       "      <th>Tool wear [min]</th>\n",
       "      <th>TWF</th>\n",
       "      <th>HDF</th>\n",
       "      <th>PWF</th>\n",
       "      <th>OSF</th>\n",
       "      <th>RNF</th>\n",
       "    </tr>\n",
       "  </thead>\n",
       "  <tbody>\n",
       "    <tr>\n",
       "      <th>0</th>\n",
       "      <td>L</td>\n",
       "      <td>300.6</td>\n",
       "      <td>309.6</td>\n",
       "      <td>1596</td>\n",
       "      <td>36.1</td>\n",
       "      <td>140</td>\n",
       "      <td>0</td>\n",
       "      <td>0</td>\n",
       "      <td>0</td>\n",
       "      <td>0</td>\n",
       "      <td>0</td>\n",
       "    </tr>\n",
       "    <tr>\n",
       "      <th>1</th>\n",
       "      <td>M</td>\n",
       "      <td>302.6</td>\n",
       "      <td>312.1</td>\n",
       "      <td>1759</td>\n",
       "      <td>29.1</td>\n",
       "      <td>200</td>\n",
       "      <td>0</td>\n",
       "      <td>0</td>\n",
       "      <td>0</td>\n",
       "      <td>0</td>\n",
       "      <td>0</td>\n",
       "    </tr>\n",
       "    <tr>\n",
       "      <th>2</th>\n",
       "      <td>L</td>\n",
       "      <td>299.3</td>\n",
       "      <td>308.5</td>\n",
       "      <td>1805</td>\n",
       "      <td>26.5</td>\n",
       "      <td>25</td>\n",
       "      <td>0</td>\n",
       "      <td>0</td>\n",
       "      <td>0</td>\n",
       "      <td>0</td>\n",
       "      <td>0</td>\n",
       "    </tr>\n",
       "    <tr>\n",
       "      <th>3</th>\n",
       "      <td>L</td>\n",
       "      <td>301.0</td>\n",
       "      <td>310.9</td>\n",
       "      <td>1524</td>\n",
       "      <td>44.3</td>\n",
       "      <td>197</td>\n",
       "      <td>0</td>\n",
       "      <td>0</td>\n",
       "      <td>0</td>\n",
       "      <td>0</td>\n",
       "      <td>0</td>\n",
       "    </tr>\n",
       "    <tr>\n",
       "      <th>4</th>\n",
       "      <td>M</td>\n",
       "      <td>298.0</td>\n",
       "      <td>309.0</td>\n",
       "      <td>1641</td>\n",
       "      <td>35.4</td>\n",
       "      <td>34</td>\n",
       "      <td>0</td>\n",
       "      <td>0</td>\n",
       "      <td>0</td>\n",
       "      <td>0</td>\n",
       "      <td>0</td>\n",
       "    </tr>\n",
       "  </tbody>\n",
       "</table>\n",
       "</div>"
      ],
      "text/plain": [
       "  Type  Air temperature [K]  Process temperature [K]  Rotational speed [rpm]  \\\n",
       "0    L                300.6                    309.6                    1596   \n",
       "1    M                302.6                    312.1                    1759   \n",
       "2    L                299.3                    308.5                    1805   \n",
       "3    L                301.0                    310.9                    1524   \n",
       "4    M                298.0                    309.0                    1641   \n",
       "\n",
       "   Torque [Nm]  Tool wear [min]  TWF  HDF  PWF  OSF  RNF  \n",
       "0         36.1              140    0    0    0    0    0  \n",
       "1         29.1              200    0    0    0    0    0  \n",
       "2         26.5               25    0    0    0    0    0  \n",
       "3         44.3              197    0    0    0    0    0  \n",
       "4         35.4               34    0    0    0    0    0  "
      ]
     },
     "execution_count": 6,
     "metadata": {},
     "output_type": "execute_result"
    }
   ],
   "source": [
    "df.head(5)"
   ]
  },
  {
   "cell_type": "code",
   "execution_count": 7,
   "id": "55728d33",
   "metadata": {},
   "outputs": [],
   "source": [
    "df['Type'] = df['Type'].replace({'H':0,'M':1,'L':2})"
   ]
  },
  {
   "cell_type": "code",
   "execution_count": 8,
   "id": "1aee5389",
   "metadata": {},
   "outputs": [
    {
     "data": {
      "text/html": [
       "<div>\n",
       "<style scoped>\n",
       "    .dataframe tbody tr th:only-of-type {\n",
       "        vertical-align: middle;\n",
       "    }\n",
       "\n",
       "    .dataframe tbody tr th {\n",
       "        vertical-align: top;\n",
       "    }\n",
       "\n",
       "    .dataframe thead th {\n",
       "        text-align: right;\n",
       "    }\n",
       "</style>\n",
       "<table border=\"1\" class=\"dataframe\">\n",
       "  <thead>\n",
       "    <tr style=\"text-align: right;\">\n",
       "      <th></th>\n",
       "      <th>Type</th>\n",
       "      <th>Air temperature [K]</th>\n",
       "      <th>Process temperature [K]</th>\n",
       "      <th>Rotational speed [rpm]</th>\n",
       "      <th>Torque [Nm]</th>\n",
       "      <th>Tool wear [min]</th>\n",
       "      <th>TWF</th>\n",
       "      <th>HDF</th>\n",
       "      <th>PWF</th>\n",
       "      <th>OSF</th>\n",
       "      <th>RNF</th>\n",
       "    </tr>\n",
       "  </thead>\n",
       "  <tbody>\n",
       "    <tr>\n",
       "      <th>0</th>\n",
       "      <td>2</td>\n",
       "      <td>300.6</td>\n",
       "      <td>309.6</td>\n",
       "      <td>1596</td>\n",
       "      <td>36.1</td>\n",
       "      <td>140</td>\n",
       "      <td>0</td>\n",
       "      <td>0</td>\n",
       "      <td>0</td>\n",
       "      <td>0</td>\n",
       "      <td>0</td>\n",
       "    </tr>\n",
       "    <tr>\n",
       "      <th>1</th>\n",
       "      <td>1</td>\n",
       "      <td>302.6</td>\n",
       "      <td>312.1</td>\n",
       "      <td>1759</td>\n",
       "      <td>29.1</td>\n",
       "      <td>200</td>\n",
       "      <td>0</td>\n",
       "      <td>0</td>\n",
       "      <td>0</td>\n",
       "      <td>0</td>\n",
       "      <td>0</td>\n",
       "    </tr>\n",
       "    <tr>\n",
       "      <th>2</th>\n",
       "      <td>2</td>\n",
       "      <td>299.3</td>\n",
       "      <td>308.5</td>\n",
       "      <td>1805</td>\n",
       "      <td>26.5</td>\n",
       "      <td>25</td>\n",
       "      <td>0</td>\n",
       "      <td>0</td>\n",
       "      <td>0</td>\n",
       "      <td>0</td>\n",
       "      <td>0</td>\n",
       "    </tr>\n",
       "    <tr>\n",
       "      <th>3</th>\n",
       "      <td>2</td>\n",
       "      <td>301.0</td>\n",
       "      <td>310.9</td>\n",
       "      <td>1524</td>\n",
       "      <td>44.3</td>\n",
       "      <td>197</td>\n",
       "      <td>0</td>\n",
       "      <td>0</td>\n",
       "      <td>0</td>\n",
       "      <td>0</td>\n",
       "      <td>0</td>\n",
       "    </tr>\n",
       "    <tr>\n",
       "      <th>4</th>\n",
       "      <td>1</td>\n",
       "      <td>298.0</td>\n",
       "      <td>309.0</td>\n",
       "      <td>1641</td>\n",
       "      <td>35.4</td>\n",
       "      <td>34</td>\n",
       "      <td>0</td>\n",
       "      <td>0</td>\n",
       "      <td>0</td>\n",
       "      <td>0</td>\n",
       "      <td>0</td>\n",
       "    </tr>\n",
       "  </tbody>\n",
       "</table>\n",
       "</div>"
      ],
      "text/plain": [
       "   Type  Air temperature [K]  Process temperature [K]  Rotational speed [rpm]  \\\n",
       "0     2                300.6                    309.6                    1596   \n",
       "1     1                302.6                    312.1                    1759   \n",
       "2     2                299.3                    308.5                    1805   \n",
       "3     2                301.0                    310.9                    1524   \n",
       "4     1                298.0                    309.0                    1641   \n",
       "\n",
       "   Torque [Nm]  Tool wear [min]  TWF  HDF  PWF  OSF  RNF  \n",
       "0         36.1              140    0    0    0    0    0  \n",
       "1         29.1              200    0    0    0    0    0  \n",
       "2         26.5               25    0    0    0    0    0  \n",
       "3         44.3              197    0    0    0    0    0  \n",
       "4         35.4               34    0    0    0    0    0  "
      ]
     },
     "execution_count": 8,
     "metadata": {},
     "output_type": "execute_result"
    }
   ],
   "source": [
    "df.head(5)"
   ]
  },
  {
   "cell_type": "code",
   "execution_count": 9,
   "id": "87b15e42",
   "metadata": {},
   "outputs": [
    {
     "data": {
      "text/plain": [
       "(132133, 11)"
      ]
     },
     "execution_count": 9,
     "metadata": {},
     "output_type": "execute_result"
    }
   ],
   "source": [
    "df.shape  #We have 11 features"
   ]
  },
  {
   "cell_type": "code",
   "execution_count": 10,
   "id": "e7e87126",
   "metadata": {},
   "outputs": [],
   "source": [
    "df=df.drop(['Type'], axis=1)"
   ]
  },
  {
   "cell_type": "code",
   "execution_count": 11,
   "id": "c36c5642",
   "metadata": {},
   "outputs": [
    {
     "data": {
      "text/html": [
       "<div>\n",
       "<style scoped>\n",
       "    .dataframe tbody tr th:only-of-type {\n",
       "        vertical-align: middle;\n",
       "    }\n",
       "\n",
       "    .dataframe tbody tr th {\n",
       "        vertical-align: top;\n",
       "    }\n",
       "\n",
       "    .dataframe thead th {\n",
       "        text-align: right;\n",
       "    }\n",
       "</style>\n",
       "<table border=\"1\" class=\"dataframe\">\n",
       "  <thead>\n",
       "    <tr style=\"text-align: right;\">\n",
       "      <th></th>\n",
       "      <th>Air temperature [K]</th>\n",
       "      <th>Process temperature [K]</th>\n",
       "      <th>Rotational speed [rpm]</th>\n",
       "      <th>Torque [Nm]</th>\n",
       "      <th>Tool wear [min]</th>\n",
       "      <th>TWF</th>\n",
       "      <th>HDF</th>\n",
       "      <th>PWF</th>\n",
       "      <th>OSF</th>\n",
       "      <th>RNF</th>\n",
       "    </tr>\n",
       "  </thead>\n",
       "  <tbody>\n",
       "    <tr>\n",
       "      <th>0</th>\n",
       "      <td>300.6</td>\n",
       "      <td>309.6</td>\n",
       "      <td>1596</td>\n",
       "      <td>36.1</td>\n",
       "      <td>140</td>\n",
       "      <td>0</td>\n",
       "      <td>0</td>\n",
       "      <td>0</td>\n",
       "      <td>0</td>\n",
       "      <td>0</td>\n",
       "    </tr>\n",
       "    <tr>\n",
       "      <th>1</th>\n",
       "      <td>302.6</td>\n",
       "      <td>312.1</td>\n",
       "      <td>1759</td>\n",
       "      <td>29.1</td>\n",
       "      <td>200</td>\n",
       "      <td>0</td>\n",
       "      <td>0</td>\n",
       "      <td>0</td>\n",
       "      <td>0</td>\n",
       "      <td>0</td>\n",
       "    </tr>\n",
       "    <tr>\n",
       "      <th>2</th>\n",
       "      <td>299.3</td>\n",
       "      <td>308.5</td>\n",
       "      <td>1805</td>\n",
       "      <td>26.5</td>\n",
       "      <td>25</td>\n",
       "      <td>0</td>\n",
       "      <td>0</td>\n",
       "      <td>0</td>\n",
       "      <td>0</td>\n",
       "      <td>0</td>\n",
       "    </tr>\n",
       "    <tr>\n",
       "      <th>3</th>\n",
       "      <td>301.0</td>\n",
       "      <td>310.9</td>\n",
       "      <td>1524</td>\n",
       "      <td>44.3</td>\n",
       "      <td>197</td>\n",
       "      <td>0</td>\n",
       "      <td>0</td>\n",
       "      <td>0</td>\n",
       "      <td>0</td>\n",
       "      <td>0</td>\n",
       "    </tr>\n",
       "    <tr>\n",
       "      <th>4</th>\n",
       "      <td>298.0</td>\n",
       "      <td>309.0</td>\n",
       "      <td>1641</td>\n",
       "      <td>35.4</td>\n",
       "      <td>34</td>\n",
       "      <td>0</td>\n",
       "      <td>0</td>\n",
       "      <td>0</td>\n",
       "      <td>0</td>\n",
       "      <td>0</td>\n",
       "    </tr>\n",
       "  </tbody>\n",
       "</table>\n",
       "</div>"
      ],
      "text/plain": [
       "   Air temperature [K]  Process temperature [K]  Rotational speed [rpm]  \\\n",
       "0                300.6                    309.6                    1596   \n",
       "1                302.6                    312.1                    1759   \n",
       "2                299.3                    308.5                    1805   \n",
       "3                301.0                    310.9                    1524   \n",
       "4                298.0                    309.0                    1641   \n",
       "\n",
       "   Torque [Nm]  Tool wear [min]  TWF  HDF  PWF  OSF  RNF  \n",
       "0         36.1              140    0    0    0    0    0  \n",
       "1         29.1              200    0    0    0    0    0  \n",
       "2         26.5               25    0    0    0    0    0  \n",
       "3         44.3              197    0    0    0    0    0  \n",
       "4         35.4               34    0    0    0    0    0  "
      ]
     },
     "execution_count": 11,
     "metadata": {},
     "output_type": "execute_result"
    }
   ],
   "source": [
    "df.head(5)"
   ]
  },
  {
   "cell_type": "code",
   "execution_count": 12,
   "id": "f13434cf",
   "metadata": {},
   "outputs": [],
   "source": [
    "\n",
    "# p=df['Tool wear [min]']\n",
    "# z=(np.arcsin((np.log(abs(p+0.000001)**0.95))/50))   #Dont ask Y,hehe\n",
    "# df['Tool wear [min]']=z\n",
    "\n",
    "# df['TWF'] = df['TWF'].replace({0: 0.01, 1: 0.99})\n",
    "# df['HDF'] = df['HDF'].replace({0: 0.01, 1: 0.99})\n",
    "# df['PWF'] = df['PWF'].replace({0: 0.01, 1: 0.99})\n",
    "# df['OSF'] = df['OSF'].replace({0: 0.01, 1: 0.99})\n",
    "# df['RNF'] = df['RNF'].replace({0: 0.01, 1: 0.99})"
   ]
  },
  {
   "cell_type": "code",
   "execution_count": 13,
   "id": "5005b29a",
   "metadata": {},
   "outputs": [],
   "source": [
    "import numpy as np\n",
    "from scipy.stats import norm\n",
    "\n",
    "def binnary_to_gaussian(lis):\n",
    "    binary_data = np.array(lis)\n",
    "    # Step 1: Calculate empirical cumulative distribution function (CDF)\n",
    "    cdf = np.cumsum(binary_data) / np.sum(binary_data)\n",
    "\n",
    "    # Step 2: Map binary data to uniform distribution\n",
    "    uniform_data = np.random.uniform(size=len(binary_data))\n",
    "\n",
    "    # Step 3: Map uniform data to Gaussian distribution\n",
    "    gaussian_data = norm.ppf(uniform_data)\n",
    "\n",
    "    # Step 4: Standardize the transformed data\n",
    "    gaussian_data = (gaussian_data - np.mean(gaussian_data)) / np.std(gaussian_data)\n",
    "    return gaussian_data"
   ]
  },
  {
   "cell_type": "code",
   "execution_count": 14,
   "id": "5b8affc1",
   "metadata": {},
   "outputs": [
    {
     "name": "stderr",
     "output_type": "stream",
     "text": [
      "C:\\Users\\hrith\\AppData\\Local\\Temp\\ipykernel_22648\\3141000649.py:7: RuntimeWarning: invalid value encountered in divide\n",
      "  cdf = np.cumsum(binary_data) / np.sum(binary_data)\n"
     ]
    }
   ],
   "source": [
    "df[\"TWF\"]=binnary_to_gaussian(df[\"TWF\"])\n",
    "df[\"HDF\"]=binnary_to_gaussian(df[\"HDF\"])\n",
    "df[\"PWF\"]=binnary_to_gaussian(df[\"PWF\"])\n",
    "df[\"OSF\"]=binnary_to_gaussian(df[\"OSF\"])\n",
    "df[\"RNF\"]=binnary_to_gaussian(df[\"RNF\"])"
   ]
  },
  {
   "cell_type": "code",
   "execution_count": 15,
   "id": "0601e879",
   "metadata": {},
   "outputs": [
    {
     "data": {
      "text/html": [
       "<div>\n",
       "<style scoped>\n",
       "    .dataframe tbody tr th:only-of-type {\n",
       "        vertical-align: middle;\n",
       "    }\n",
       "\n",
       "    .dataframe tbody tr th {\n",
       "        vertical-align: top;\n",
       "    }\n",
       "\n",
       "    .dataframe thead th {\n",
       "        text-align: right;\n",
       "    }\n",
       "</style>\n",
       "<table border=\"1\" class=\"dataframe\">\n",
       "  <thead>\n",
       "    <tr style=\"text-align: right;\">\n",
       "      <th></th>\n",
       "      <th>Air temperature [K]</th>\n",
       "      <th>Process temperature [K]</th>\n",
       "      <th>Rotational speed [rpm]</th>\n",
       "      <th>Torque [Nm]</th>\n",
       "      <th>Tool wear [min]</th>\n",
       "      <th>TWF</th>\n",
       "      <th>HDF</th>\n",
       "      <th>PWF</th>\n",
       "      <th>OSF</th>\n",
       "      <th>RNF</th>\n",
       "    </tr>\n",
       "  </thead>\n",
       "  <tbody>\n",
       "    <tr>\n",
       "      <th>0</th>\n",
       "      <td>300.6</td>\n",
       "      <td>309.6</td>\n",
       "      <td>1596</td>\n",
       "      <td>36.1</td>\n",
       "      <td>140</td>\n",
       "      <td>-0.293982</td>\n",
       "      <td>0.187546</td>\n",
       "      <td>0.507519</td>\n",
       "      <td>-0.019467</td>\n",
       "      <td>-0.502125</td>\n",
       "    </tr>\n",
       "    <tr>\n",
       "      <th>1</th>\n",
       "      <td>302.6</td>\n",
       "      <td>312.1</td>\n",
       "      <td>1759</td>\n",
       "      <td>29.1</td>\n",
       "      <td>200</td>\n",
       "      <td>-2.543647</td>\n",
       "      <td>1.147037</td>\n",
       "      <td>0.492456</td>\n",
       "      <td>-0.463134</td>\n",
       "      <td>1.212275</td>\n",
       "    </tr>\n",
       "    <tr>\n",
       "      <th>2</th>\n",
       "      <td>299.3</td>\n",
       "      <td>308.5</td>\n",
       "      <td>1805</td>\n",
       "      <td>26.5</td>\n",
       "      <td>25</td>\n",
       "      <td>-0.635780</td>\n",
       "      <td>0.190421</td>\n",
       "      <td>-0.220918</td>\n",
       "      <td>-0.504579</td>\n",
       "      <td>-0.666660</td>\n",
       "    </tr>\n",
       "    <tr>\n",
       "      <th>3</th>\n",
       "      <td>301.0</td>\n",
       "      <td>310.9</td>\n",
       "      <td>1524</td>\n",
       "      <td>44.3</td>\n",
       "      <td>197</td>\n",
       "      <td>-1.193018</td>\n",
       "      <td>0.785395</td>\n",
       "      <td>-1.540666</td>\n",
       "      <td>0.411023</td>\n",
       "      <td>-0.392082</td>\n",
       "    </tr>\n",
       "    <tr>\n",
       "      <th>4</th>\n",
       "      <td>298.0</td>\n",
       "      <td>309.0</td>\n",
       "      <td>1641</td>\n",
       "      <td>35.4</td>\n",
       "      <td>34</td>\n",
       "      <td>-0.642643</td>\n",
       "      <td>-1.058954</td>\n",
       "      <td>-0.885291</td>\n",
       "      <td>0.053746</td>\n",
       "      <td>-1.147510</td>\n",
       "    </tr>\n",
       "  </tbody>\n",
       "</table>\n",
       "</div>"
      ],
      "text/plain": [
       "   Air temperature [K]  Process temperature [K]  Rotational speed [rpm]  \\\n",
       "0                300.6                    309.6                    1596   \n",
       "1                302.6                    312.1                    1759   \n",
       "2                299.3                    308.5                    1805   \n",
       "3                301.0                    310.9                    1524   \n",
       "4                298.0                    309.0                    1641   \n",
       "\n",
       "   Torque [Nm]  Tool wear [min]       TWF       HDF       PWF       OSF  \\\n",
       "0         36.1              140 -0.293982  0.187546  0.507519 -0.019467   \n",
       "1         29.1              200 -2.543647  1.147037  0.492456 -0.463134   \n",
       "2         26.5               25 -0.635780  0.190421 -0.220918 -0.504579   \n",
       "3         44.3              197 -1.193018  0.785395 -1.540666  0.411023   \n",
       "4         35.4               34 -0.642643 -1.058954 -0.885291  0.053746   \n",
       "\n",
       "        RNF  \n",
       "0 -0.502125  \n",
       "1  1.212275  \n",
       "2 -0.666660  \n",
       "3 -0.392082  \n",
       "4 -1.147510  "
      ]
     },
     "execution_count": 15,
     "metadata": {},
     "output_type": "execute_result"
    }
   ],
   "source": [
    "df.head(5)"
   ]
  },
  {
   "cell_type": "code",
   "execution_count": 16,
   "id": "909e86a4",
   "metadata": {},
   "outputs": [
    {
     "data": {
      "text/plain": [
       "-0.293982    1\n",
       " 0.876664    1\n",
       "-1.519996    1\n",
       " 0.807195    1\n",
       " 0.155163    1\n",
       "            ..\n",
       "-0.425193    1\n",
       " 0.778452    1\n",
       " 0.576737    1\n",
       "-1.003950    1\n",
       "-0.282801    1\n",
       "Name: TWF, Length: 132133, dtype: int64"
      ]
     },
     "execution_count": 16,
     "metadata": {},
     "output_type": "execute_result"
    }
   ],
   "source": [
    "df['TWF'].value_counts()"
   ]
  },
  {
   "cell_type": "code",
   "execution_count": 92,
   "id": "fbc25b40",
   "metadata": {},
   "outputs": [
    {
     "data": {
      "text/plain": [
       "Text(0.5, 0, 'Data')"
      ]
     },
     "execution_count": 92,
     "metadata": {},
     "output_type": "execute_result"
    },
    {
     "data": {
      "image/png": "[encoded data removed]",
      "text/plain": [
       "<Figure size 432x288 with 1 Axes>"
      ]
     },
     "metadata": {
      "needs_background": "light"
     },
     "output_type": "display_data"
    }
   ],
   "source": [
    "import matplotlib.pyplot as plt\n",
    "%matplotlib inline\n",
    "plt.hist(df['TWF'],density=True, bins=100)\n",
    "plt.ylabel('Probability')\n",
    "plt.xlabel('Data')"
   ]
  },
  {
   "cell_type": "code",
   "execution_count": 17,
   "id": "9f295189",
   "metadata": {},
   "outputs": [],
   "source": [
    "# df.sample(30000,random_state=1)  #Taking random 30k values"
   ]
  },
  {
   "cell_type": "code",
   "execution_count": 18,
   "id": "5ac05883",
   "metadata": {},
   "outputs": [],
   "source": [
    "#converting dataframe to array"
   ]
  },
  {
   "cell_type": "code",
   "execution_count": 19,
   "id": "faada423",
   "metadata": {},
   "outputs": [],
   "source": [
    "x = df.to_numpy()"
   ]
  },
  {
   "cell_type": "code",
   "execution_count": 20,
   "id": "1b960b32",
   "metadata": {},
   "outputs": [
    {
     "data": {
      "text/plain": [
       "(132133, 10)"
      ]
     },
     "execution_count": 20,
     "metadata": {},
     "output_type": "execute_result"
    }
   ],
   "source": [
    "x.shape"
   ]
  },
  {
   "cell_type": "code",
   "execution_count": 21,
   "id": "b38b4b99",
   "metadata": {},
   "outputs": [],
   "source": [
    "# def estimate_gaussian(X):\n",
    "# #     X -> (m,n) array -> m =examples and n=attributes\n",
    "# #     returns : mu -> mean and var -> variance ; (n dimensional arrays) -> (n,)\n",
    "#     #code:\n",
    "    \n",
    "#     m,n=X.shape\n",
    "#     mu_=(1/m)*np.sum(X,axis=0)\n",
    "#     mu=mu_.T\n",
    "#     var_=np.sum(((X-mu)**2),axis=0)/m\n",
    "#     var=var_.T\n",
    "    \n",
    "#     return mu,var\n",
    "        \n",
    "        \n"
   ]
  },
  {
   "cell_type": "code",
   "execution_count": 22,
   "id": "3927a558",
   "metadata": {},
   "outputs": [],
   "source": [
    "def estimate_gaussian(X):\n",
    "#     X -> (m,n) array -> m =examples and n=attributes\n",
    "#     returns : mu -> mean and var -> variance ; (n dimensional arrays) -> (n,)\n",
    "    #code:\n",
    "    \n",
    "    m,n=X.shape\n",
    "    mu_=(1/m)*np.sum(X,axis=0)\n",
    "    mu=mu_.T\n",
    "#     var_=np.sum(((X-mu)**2),axis=0)/m\n",
    "#     var=var_.T\n",
    "    \n",
    "#     return mu,var\n",
    "    var=[]\n",
    "    for i in range(10):\n",
    "        if i<5:\n",
    "            v=np.sum((X[:,i]-mu[i])**2,axis=0)/m\n",
    "            var.append(v)\n",
    "        else:\n",
    "            v=mu[i]*(1-mu[i])\n",
    "            var.append(v)\n",
    "            \n",
    "    var_=np.array(var)\n",
    "    var=var_.T\n",
    "\n",
    "    return mu,var\n",
    "        \n",
    "        \n",
    "        "
   ]
  },
  {
   "cell_type": "code",
   "execution_count": 23,
   "id": "81370e95",
   "metadata": {},
   "outputs": [],
   "source": [
    "mu,var=estimate_gaussian(x)"
   ]
  },
  {
   "cell_type": "code",
   "execution_count": 24,
   "id": "28fbcbc0",
   "metadata": {},
   "outputs": [
    {
     "data": {
      "text/plain": [
       "(10,)"
      ]
     },
     "execution_count": 24,
     "metadata": {},
     "output_type": "execute_result"
    }
   ],
   "source": [
    "mu.shape"
   ]
  },
  {
   "cell_type": "code",
   "execution_count": 25,
   "id": "6e478c33",
   "metadata": {},
   "outputs": [
    {
     "data": {
      "text/plain": [
       "array([ 2.99847440e+02,  3.09936064e+02,  1.52146350e+03,  4.01870549e+01,\n",
       "        1.03936534e+02, -2.57043606e-17,  4.16754800e-18, -2.23031037e-17,\n",
       "       -2.92400545e-17, -1.50569476e-17])"
      ]
     },
     "execution_count": 25,
     "metadata": {},
     "output_type": "execute_result"
    }
   ],
   "source": [
    "mu"
   ]
  },
  {
   "cell_type": "code",
   "execution_count": 26,
   "id": "19449f58",
   "metadata": {},
   "outputs": [
    {
     "data": {
      "text/plain": [
       "(10,)"
      ]
     },
     "execution_count": 26,
     "metadata": {},
     "output_type": "execute_result"
    }
   ],
   "source": [
    "var.shape"
   ]
  },
  {
   "cell_type": "code",
   "execution_count": 27,
   "id": "ea251441",
   "metadata": {},
   "outputs": [
    {
     "data": {
      "text/plain": [
       "array([ 3.44398299e+00,  1.92335262e+00,  1.82080950e+04,  6.90629176e+01,\n",
       "        4.05841599e+03, -2.57043606e-17,  4.16754800e-18, -2.23031037e-17,\n",
       "       -2.92400545e-17, -1.50569476e-17])"
      ]
     },
     "execution_count": 27,
     "metadata": {},
     "output_type": "execute_result"
    }
   ],
   "source": [
    "var"
   ]
  },
  {
   "cell_type": "code",
   "execution_count": 28,
   "id": "9622bed0",
   "metadata": {},
   "outputs": [],
   "source": [
    "# #Wrong function -> correct function present bellow\n",
    "# #Multivariance gussian\n",
    "# def multivariance_gussian(X,mu,var):\n",
    "# #     X -> (m,n) array -> m =examples and n=attributes\n",
    "# #     mu -> (ndarary,)\n",
    "# #     var -> (ndarray,)\n",
    "    \n",
    "#     #code:\n",
    "#     n_features=X.shape[1]\n",
    "#     #constant = 1 / ((2 * np.pi) ** (n_features / 2) * np.sqrt(np.prod(var+(1e-10))))\n",
    "#     constant=1\n",
    "#     # Compute the exponent term of the Gaussian function\n",
    "#     exponent = -np.sum(((X - mu) ** 2) / (var+(1e-10)), axis=1)\n",
    "    \n",
    "#     # Compute the probabilities for each sample\n",
    "#     probabilities = constant * np.exp(exponent)\n",
    "    \n",
    "#     return probabilities\n",
    "    "
   ]
  },
  {
   "cell_type": "code",
   "execution_count": 29,
   "id": "757739cf",
   "metadata": {},
   "outputs": [],
   "source": [
    "# constant = 1 / (1 * np.sqrt(np.prod(var+(1e-10))))   #This is wrong"
   ]
  },
  {
   "cell_type": "code",
   "execution_count": 30,
   "id": "9fc57b3f",
   "metadata": {},
   "outputs": [],
   "source": [
    "# constant"
   ]
  },
  {
   "cell_type": "code",
   "execution_count": 31,
   "id": "665c6e1b",
   "metadata": {},
   "outputs": [],
   "source": [
    "# var"
   ]
  },
  {
   "cell_type": "code",
   "execution_count": 32,
   "id": "d9254718",
   "metadata": {},
   "outputs": [],
   "source": [
    "# multiple=[]\n",
    "# for i in range(len(var)):\n",
    "#     if var[i]==0:\n",
    "#         multiple.append(10**(10))\n",
    "#     else :\n",
    "#         multiple.append((1/var[i]))\n",
    "        \n",
    "        "
   ]
  },
  {
   "cell_type": "code",
   "execution_count": 33,
   "id": "01d7cb24",
   "metadata": {},
   "outputs": [],
   "source": [
    "# multiple"
   ]
  },
  {
   "cell_type": "code",
   "execution_count": 34,
   "id": "762b9bae",
   "metadata": {},
   "outputs": [],
   "source": [
    "# exponent = -((x - mu) ** 2) / (var+(1e-10))"
   ]
  },
  {
   "cell_type": "code",
   "execution_count": 35,
   "id": "c5635cf9",
   "metadata": {},
   "outputs": [],
   "source": [
    "# exponent.shape"
   ]
  },
  {
   "cell_type": "code",
   "execution_count": 36,
   "id": "ce532a60",
   "metadata": {},
   "outputs": [],
   "source": [
    "# pow_term=np.exp(exponent)"
   ]
  },
  {
   "cell_type": "code",
   "execution_count": 37,
   "id": "51bcf7ac",
   "metadata": {},
   "outputs": [],
   "source": [
    "# pow_term.shape"
   ]
  },
  {
   "cell_type": "code",
   "execution_count": 38,
   "id": "9e97e8ea",
   "metadata": {},
   "outputs": [],
   "source": [
    "# arr=multiple*pow_term"
   ]
  },
  {
   "cell_type": "code",
   "execution_count": 39,
   "id": "33af952d",
   "metadata": {},
   "outputs": [],
   "source": [
    "# arr.shape"
   ]
  },
  {
   "cell_type": "code",
   "execution_count": 40,
   "id": "e54e11af",
   "metadata": {},
   "outputs": [],
   "source": [
    "# result = np.prod(arr, axis=1)"
   ]
  },
  {
   "cell_type": "code",
   "execution_count": 41,
   "id": "bbc10dce",
   "metadata": {},
   "outputs": [],
   "source": [
    "# result.shape"
   ]
  },
  {
   "cell_type": "code",
   "execution_count": null,
   "id": "5393e1c0",
   "metadata": {},
   "outputs": [],
   "source": []
  },
  {
   "cell_type": "code",
   "execution_count": null,
   "id": "32c08568",
   "metadata": {},
   "outputs": [],
   "source": []
  },
  {
   "cell_type": "code",
   "execution_count": 76,
   "id": "21802033",
   "metadata": {},
   "outputs": [
    {
     "data": {
      "text/plain": [
       "array([ 2.99847440e+02,  3.09936064e+02,  1.52146350e+03,  4.01870549e+01,\n",
       "        1.03936534e+02, -2.57043606e-17,  4.16754800e-18, -2.23031037e-17,\n",
       "       -2.92400545e-17, -1.50569476e-17])"
      ]
     },
     "execution_count": 76,
     "metadata": {},
     "output_type": "execute_result"
    }
   ],
   "source": [
    "mu"
   ]
  },
  {
   "cell_type": "code",
   "execution_count": 77,
   "id": "82b10f9b",
   "metadata": {},
   "outputs": [
    {
     "data": {
      "text/plain": [
       "array([ 3.44398299e+00,  1.92335262e+00,  1.82080950e+04,  6.90629176e+01,\n",
       "        4.05841599e+03, -2.57043606e-17,  4.16754800e-18, -2.23031037e-17,\n",
       "       -2.92400545e-17, -1.50569476e-17])"
      ]
     },
     "execution_count": 77,
     "metadata": {},
     "output_type": "execute_result"
    }
   ],
   "source": [
    "var"
   ]
  },
  {
   "cell_type": "code",
   "execution_count": 78,
   "id": "e3503682",
   "metadata": {},
   "outputs": [],
   "source": [
    "#Multivariance gussian\n",
    "# def multivariance_gussian(X,mu,var):\n",
    "# #     X -> (m,n) array -> m =examples and n=attributes\n",
    "# #     mu -> (ndarary,)\n",
    "# #     var -> (ndarray,)\n",
    "    \n",
    "#     #code:\n",
    "#     n_features=X.shape[1]\n",
    "#     #constant = 1 / ((2 * np.pi) ** (n_features / 2) * np.sqrt(np.prod(var+(1e-10))))\n",
    "#     #constant=1\n",
    "#     multiple=[]                      # array of 1/var basically\n",
    "#     for i in range(len(var)):\n",
    "#         if var[i]==0:\n",
    "#             multiple.append(10**(10))\n",
    "#         else :\n",
    "#             multiple.append((1/var[i]))\n",
    "        \n",
    "#     # Compute the exponent term of the Gaussian function\n",
    "#     #exponent = -np.sum(((X - mu) ** 2) / (var+(1e-10)), axis=1)\n",
    "#     exponent = -((X - mu) ** 2) / (var+(1e-10))\n",
    "#     pow_term=np.exp(exponent)\n",
    "#     gaussian_array=multiple*pow_term\n",
    "    \n",
    "    \n",
    "#     # Compute the probabilities for each sample\n",
    "#     #probabilities = constant * np.exp(exponent)\n",
    "#     probabilities = np.prod(gaussian_array, axis=1)\n",
    "    \n",
    "#     return probabilities\n",
    "    "
   ]
  },
  {
   "cell_type": "code",
   "execution_count": 79,
   "id": "f2321efb",
   "metadata": {},
   "outputs": [],
   "source": [
    "    n_features=x.shape[1]\n",
    "    #constant = 1 / ((2 * np.pi) ** (n_features / 2) * np.sqrt(np.prod(var+(1e-10))))\n",
    "    #constant=1\n",
    "    multiple=[]                      # array of 1/var basically\n",
    "    for i in range(len(var)):\n",
    "        if var[i]==0:\n",
    "            multiple.append(10**(10))\n",
    "        else :\n",
    "            multiple.append((1/var[i]))\n",
    "        \n",
    "    # Compute the exponent term of the Gaussian function\n",
    "    #exponent = -np.sum(((X - mu) ** 2) / (var+(1e-10)), axis=1)\n",
    "    exponent = -((x - mu) ** 2) / (var+(1e-10))\n",
    "    pow_term=np.exp(exponent)\n",
    "    gaussian_array=multiple*pow_term\n",
    "    \n",
    "    \n",
    "    # Compute the probabilities for each sample\n",
    "    #probabilities = constant * np.exp(exponent)\n",
    "    probabilities = np.prod(gaussian_array, axis=1)"
   ]
  },
  {
   "cell_type": "code",
   "execution_count": 80,
   "id": "b7b29ec1",
   "metadata": {},
   "outputs": [],
   "source": [
    "# p=multivariance_gussian(x,mu,var)"
   ]
  },
  {
   "cell_type": "code",
   "execution_count": 83,
   "id": "5a3c1753",
   "metadata": {},
   "outputs": [
    {
     "data": {
      "text/plain": [
       "[0.29036148081799584,\n",
       " 0.5199254612534614,\n",
       " 5.492062732417505e-05,\n",
       " 0.014479550456998317,\n",
       " 0.0002464015524537732,\n",
       " -3.890390491392166e+16,\n",
       " 2.3994924579167165e+17,\n",
       " -4.483680903882955e+16,\n",
       " -3.4199662618583092e+16,\n",
       " -6.6414523388766264e+16]"
      ]
     },
     "execution_count": 83,
     "metadata": {},
     "output_type": "execute_result"
    }
   ],
   "source": [
    "multiple"
   ]
  },
  {
   "cell_type": "code",
   "execution_count": 85,
   "id": "1f9fd10a",
   "metadata": {},
   "outputs": [
    {
     "data": {
      "text/plain": [
       "array([[0.84836441, 0.94297075, 0.73703344, ..., 0.        , 0.        ,\n",
       "        0.        ],\n",
       "       [0.11080891, 0.08763175, 0.04510244, ..., 0.        , 0.        ,\n",
       "        0.        ],\n",
       "       [0.91665991, 0.34224364, 0.01209176, ..., 0.        , 0.        ,\n",
       "        0.        ],\n",
       "       ...,\n",
       "       [0.88369282, 0.1642519 , 0.99964671, ..., 0.        , 0.        ,\n",
       "        0.        ],\n",
       "       [0.36916417, 0.61686809, 0.73747392, ..., 0.        , 0.        ,\n",
       "        0.        ],\n",
       "       [0.08025968, 0.17329886, 0.93299434, ..., 0.        , 0.        ,\n",
       "        0.        ]])"
      ]
     },
     "execution_count": 85,
     "metadata": {},
     "output_type": "execute_result"
    }
   ],
   "source": [
    "pow_term"
   ]
  },
  {
   "cell_type": "code",
   "execution_count": 87,
   "id": "0fc02bc7",
   "metadata": {},
   "outputs": [
    {
     "data": {
      "text/plain": [
       "array([[ 2.46332346e+02,  4.90274502e+02,  4.04783390e-02, ...,\n",
       "        -0.00000000e+00, -0.00000000e+00, -0.00000000e+00],\n",
       "       [ 3.21746390e+01,  4.55619780e+01,  2.47705408e-03, ...,\n",
       "        -0.00000000e+00, -0.00000000e+00, -0.00000000e+00],\n",
       "       [ 2.66162728e+02,  1.77941180e+02,  6.64086929e-04, ...,\n",
       "        -0.00000000e+00, -0.00000000e+00, -0.00000000e+00],\n",
       "       ...,\n",
       "       [ 2.56590356e+02,  8.53987432e+01,  5.49012245e-02, ...,\n",
       "        -0.00000000e+00, -0.00000000e+00, -0.00000000e+00],\n",
       "       [ 1.07191054e+02,  3.20725424e+02,  4.05025301e-02, ...,\n",
       "        -0.00000000e+00, -0.00000000e+00, -0.00000000e+00],\n",
       "       [ 2.33043191e+01,  9.01024908e+01,  5.12406347e-02, ...,\n",
       "        -0.00000000e+00, -0.00000000e+00, -0.00000000e+00]])"
      ]
     },
     "execution_count": 87,
     "metadata": {},
     "output_type": "execute_result"
    }
   ],
   "source": [
    "gaussian_array=multiple*pow_term\n",
    "gaussian_array*1000"
   ]
  },
  {
   "cell_type": "code",
   "execution_count": 88,
   "id": "43ae91fb",
   "metadata": {},
   "outputs": [],
   "source": [
    "probabilities = np.prod(gaussian_array, axis=1)"
   ]
  },
  {
   "cell_type": "code",
   "execution_count": 89,
   "id": "5f9c8a41",
   "metadata": {},
   "outputs": [
    {
     "data": {
      "text/plain": [
       "(132133,)"
      ]
     },
     "execution_count": 89,
     "metadata": {},
     "output_type": "execute_result"
    }
   ],
   "source": [
    "probabilities.shape"
   ]
  },
  {
   "cell_type": "code",
   "execution_count": 90,
   "id": "d0d63174",
   "metadata": {},
   "outputs": [
    {
     "data": {
      "text/plain": [
       "array([0., 0., 0., ..., 0., 0., 0.])"
      ]
     },
     "execution_count": 90,
     "metadata": {},
     "output_type": "execute_result"
    }
   ],
   "source": [
    "probabilities"
   ]
  },
  {
   "cell_type": "code",
   "execution_count": 46,
   "id": "484709c7",
   "metadata": {},
   "outputs": [],
   "source": [
    "# #Selecting an epsilon for detecting threshold\n",
    "# def select_threshold(y_val, p_val): \n",
    "#     \"\"\"\n",
    "#     Finds the best threshold to use for selecting outliers \n",
    "#     based on the results from a validation set (p_val) \n",
    "#     and the ground truth (y_val)\n",
    "    \n",
    "#     Args:\n",
    "#         y_val (ndarray): Ground truth on validation set\n",
    "#         p_val (ndarray): Results on validation set\n",
    "        \n",
    "#     Returns:\n",
    "#         epsilon (float): Threshold chosen \n",
    "#         F1 (float):      F1 score by choosing epsilon as threshold\n",
    "#     \"\"\" \n",
    "\n",
    "#     best_epsilon = 0\n",
    "#     best_F1 = 0\n",
    "#     F1 = 0\n",
    "    \n",
    "#     step_size = (max(p_val) - min(p_val)) / 1000\n",
    "    \n",
    "#     for epsilon in np.arange(min(p_val), max(p_val), step_size):\n",
    "    \n",
    "#         ### START CODE HERE ### \n",
    "#         predictions = (p_val < epsilon)\n",
    "#         tp = np.sum((predictions == 1) & (y_val == 1))\n",
    "#         fn = np.sum((predictions == 0) & (y_val == 1))\n",
    "#         fp = np.sum((predictions == 1) & (y_val == 0))\n",
    "#         prec = tp / (tp + fp)\n",
    "#         rec = tp / (tp + fn)\n",
    "#         F1 = 2 * prec * rec / (prec + rec)\n",
    "        \n",
    "        \n",
    "#         ### END CODE HERE ### \n",
    "        \n",
    "#         if F1 > best_F1:\n",
    "#             best_F1 = F1\n",
    "#             best_epsilon = epsilon\n",
    "        \n",
    "#     return best_epsilon, best_F1"
   ]
  },
  {
   "cell_type": "code",
   "execution_count": null,
   "id": "5914bd63",
   "metadata": {},
   "outputs": [],
   "source": []
  },
  {
   "cell_type": "code",
   "execution_count": 47,
   "id": "7f1f62d7",
   "metadata": {},
   "outputs": [],
   "source": [
    "#Selecting an epsilon for detecting threshold\n",
    "def select_threshold(y_val, p_val): \n",
    "    \"\"\"\n",
    "    Finds the best threshold to use for selecting outliers \n",
    "    based on the results from a validation set (p_val) \n",
    "    and the ground truth (y_val)\n",
    "    \n",
    "    Args:\n",
    "        y_val (ndarray): Ground truth on validation set\n",
    "        p_val (ndarray): Results on validation set\n",
    "        \n",
    "    Returns:\n",
    "        epsilon (float): Threshold chosen \n",
    "        F1 (float):      F1 score by choosing epsilon as threshold\n",
    "    \"\"\" \n",
    "\n",
    "    best_epsilon = 0\n",
    "    best_F1 = 0\n",
    "    F1 = 0\n",
    "   \n",
    "    step_size = (max(p_val) - min(p_val)) / 1000\n",
    "    \n",
    "    for epsilon in np.arange(min(p_val)+step_size*20, max(p_val), step_size):\n",
    "    \n",
    "        ### START CODE HERE ### \n",
    "        predictions = (p_val < epsilon)\n",
    "        predictions = predictions.astype(int)\n",
    "        tp = np.sum((predictions == 1) & (y_val == 1))\n",
    "        fn = np.sum((predictions == 0) & (y_val == 1))\n",
    "        fp = np.sum((predictions == 1) & (y_val == 0))\n",
    "        prec = tp / (tp + fp)\n",
    "        rec = tp / (tp + fn)\n",
    "        F1 = 2 * prec * rec / (prec + rec)\n",
    "        \n",
    "        \n",
    "        ### END CODE HERE ### \n",
    "        \n",
    "        if F1 > best_F1:\n",
    "            best_F1 = F1\n",
    "            best_epsilon = epsilon\n",
    "        \n",
    "    return best_epsilon, best_F1"
   ]
  },
  {
   "cell_type": "code",
   "execution_count": null,
   "id": "a87d1a5c",
   "metadata": {},
   "outputs": [],
   "source": []
  },
  {
   "cell_type": "code",
   "execution_count": null,
   "id": "5cb46bf7",
   "metadata": {},
   "outputs": [],
   "source": []
  },
  {
   "cell_type": "code",
   "execution_count": null,
   "id": "f107df39",
   "metadata": {},
   "outputs": [],
   "source": []
  },
  {
   "cell_type": "code",
   "execution_count": null,
   "id": "8aba8e14",
   "metadata": {},
   "outputs": [],
   "source": []
  },
  {
   "cell_type": "code",
   "execution_count": null,
   "id": "424c248a",
   "metadata": {},
   "outputs": [],
   "source": []
  },
  {
   "cell_type": "code",
   "execution_count": null,
   "id": "544e5fe5",
   "metadata": {},
   "outputs": [],
   "source": []
  },
  {
   "cell_type": "code",
   "execution_count": null,
   "id": "3d108007",
   "metadata": {},
   "outputs": [],
   "source": []
  },
  {
   "cell_type": "code",
   "execution_count": null,
   "id": "65ef79cd",
   "metadata": {},
   "outputs": [],
   "source": []
  },
  {
   "cell_type": "code",
   "execution_count": 48,
   "id": "a970121b",
   "metadata": {},
   "outputs": [],
   "source": [
    "df_cv=pd.read_csv('final_cv_data_.csv')"
   ]
  },
  {
   "cell_type": "code",
   "execution_count": 49,
   "id": "e42e3800",
   "metadata": {},
   "outputs": [
    {
     "data": {
      "text/html": [
       "<div>\n",
       "<style scoped>\n",
       "    .dataframe tbody tr th:only-of-type {\n",
       "        vertical-align: middle;\n",
       "    }\n",
       "\n",
       "    .dataframe tbody tr th {\n",
       "        vertical-align: top;\n",
       "    }\n",
       "\n",
       "    .dataframe thead th {\n",
       "        text-align: right;\n",
       "    }\n",
       "</style>\n",
       "<table border=\"1\" class=\"dataframe\">\n",
       "  <thead>\n",
       "    <tr style=\"text-align: right;\">\n",
       "      <th></th>\n",
       "      <th>id</th>\n",
       "      <th>Product ID</th>\n",
       "      <th>Type</th>\n",
       "      <th>Air temperature [K]</th>\n",
       "      <th>Process temperature [K]</th>\n",
       "      <th>Rotational speed [rpm]</th>\n",
       "      <th>Torque [Nm]</th>\n",
       "      <th>Tool wear [min]</th>\n",
       "      <th>Machine failure</th>\n",
       "      <th>TWF</th>\n",
       "      <th>HDF</th>\n",
       "      <th>PWF</th>\n",
       "      <th>OSF</th>\n",
       "      <th>RNF</th>\n",
       "    </tr>\n",
       "  </thead>\n",
       "  <tbody>\n",
       "    <tr>\n",
       "      <th>0</th>\n",
       "      <td>90418</td>\n",
       "      <td>L49271</td>\n",
       "      <td>L</td>\n",
       "      <td>299.5</td>\n",
       "      <td>309.2</td>\n",
       "      <td>1399</td>\n",
       "      <td>47.4</td>\n",
       "      <td>20</td>\n",
       "      <td>0</td>\n",
       "      <td>0</td>\n",
       "      <td>0</td>\n",
       "      <td>0</td>\n",
       "      <td>0</td>\n",
       "      <td>0</td>\n",
       "    </tr>\n",
       "    <tr>\n",
       "      <th>1</th>\n",
       "      <td>103002</td>\n",
       "      <td>L53040</td>\n",
       "      <td>L</td>\n",
       "      <td>301.3</td>\n",
       "      <td>311.0</td>\n",
       "      <td>1497</td>\n",
       "      <td>45.5</td>\n",
       "      <td>84</td>\n",
       "      <td>0</td>\n",
       "      <td>0</td>\n",
       "      <td>0</td>\n",
       "      <td>0</td>\n",
       "      <td>0</td>\n",
       "      <td>0</td>\n",
       "    </tr>\n",
       "    <tr>\n",
       "      <th>2</th>\n",
       "      <td>9653</td>\n",
       "      <td>L54424</td>\n",
       "      <td>L</td>\n",
       "      <td>299.8</td>\n",
       "      <td>309.7</td>\n",
       "      <td>1472</td>\n",
       "      <td>42.3</td>\n",
       "      <td>193</td>\n",
       "      <td>0</td>\n",
       "      <td>0</td>\n",
       "      <td>0</td>\n",
       "      <td>0</td>\n",
       "      <td>0</td>\n",
       "      <td>0</td>\n",
       "    </tr>\n",
       "    <tr>\n",
       "      <th>3</th>\n",
       "      <td>106459</td>\n",
       "      <td>M16074</td>\n",
       "      <td>M</td>\n",
       "      <td>296.8</td>\n",
       "      <td>307.8</td>\n",
       "      <td>1419</td>\n",
       "      <td>47.3</td>\n",
       "      <td>0</td>\n",
       "      <td>0</td>\n",
       "      <td>0</td>\n",
       "      <td>0</td>\n",
       "      <td>0</td>\n",
       "      <td>0</td>\n",
       "      <td>0</td>\n",
       "    </tr>\n",
       "    <tr>\n",
       "      <th>4</th>\n",
       "      <td>133925</td>\n",
       "      <td>L50355</td>\n",
       "      <td>L</td>\n",
       "      <td>300.3</td>\n",
       "      <td>309.6</td>\n",
       "      <td>1488</td>\n",
       "      <td>39.7</td>\n",
       "      <td>82</td>\n",
       "      <td>0</td>\n",
       "      <td>0</td>\n",
       "      <td>0</td>\n",
       "      <td>0</td>\n",
       "      <td>0</td>\n",
       "      <td>0</td>\n",
       "    </tr>\n",
       "  </tbody>\n",
       "</table>\n",
       "</div>"
      ],
      "text/plain": [
       "       id Product ID Type  Air temperature [K]  Process temperature [K]  \\\n",
       "0   90418     L49271    L                299.5                    309.2   \n",
       "1  103002     L53040    L                301.3                    311.0   \n",
       "2    9653     L54424    L                299.8                    309.7   \n",
       "3  106459     M16074    M                296.8                    307.8   \n",
       "4  133925     L50355    L                300.3                    309.6   \n",
       "\n",
       "   Rotational speed [rpm]  Torque [Nm]  Tool wear [min]  Machine failure  TWF  \\\n",
       "0                    1399         47.4               20                0    0   \n",
       "1                    1497         45.5               84                0    0   \n",
       "2                    1472         42.3              193                0    0   \n",
       "3                    1419         47.3                0                0    0   \n",
       "4                    1488         39.7               82                0    0   \n",
       "\n",
       "   HDF  PWF  OSF  RNF  \n",
       "0    0    0    0    0  \n",
       "1    0    0    0    0  \n",
       "2    0    0    0    0  \n",
       "3    0    0    0    0  \n",
       "4    0    0    0    0  "
      ]
     },
     "execution_count": 49,
     "metadata": {},
     "output_type": "execute_result"
    }
   ],
   "source": [
    "df_cv.head(5)"
   ]
  },
  {
   "cell_type": "code",
   "execution_count": 50,
   "id": "60f63c54",
   "metadata": {},
   "outputs": [
    {
     "data": {
      "text/plain": [
       "0    1157\n",
       "1    1139\n",
       "Name: Machine failure, dtype: int64"
      ]
     },
     "execution_count": 50,
     "metadata": {},
     "output_type": "execute_result"
    }
   ],
   "source": [
    "df_cv['Machine failure'].value_counts()"
   ]
  },
  {
   "cell_type": "code",
   "execution_count": 51,
   "id": "a79ada4f",
   "metadata": {},
   "outputs": [],
   "source": [
    "y = df_cv['Machine failure']"
   ]
  },
  {
   "cell_type": "code",
   "execution_count": 52,
   "id": "3c470b9c",
   "metadata": {},
   "outputs": [],
   "source": [
    "y = y.to_numpy()"
   ]
  },
  {
   "cell_type": "code",
   "execution_count": 53,
   "id": "8b36bca0",
   "metadata": {},
   "outputs": [
    {
     "data": {
      "text/plain": [
       "(2296,)"
      ]
     },
     "execution_count": 53,
     "metadata": {},
     "output_type": "execute_result"
    }
   ],
   "source": [
    "y.shape"
   ]
  },
  {
   "cell_type": "code",
   "execution_count": 54,
   "id": "f544fdb2",
   "metadata": {},
   "outputs": [],
   "source": [
    "df_cv=df_cv.drop(['id','Product ID','Machine failure','Type'], axis=1)"
   ]
  },
  {
   "cell_type": "code",
   "execution_count": 55,
   "id": "e9e9e282",
   "metadata": {},
   "outputs": [
    {
     "data": {
      "text/html": [
       "<div>\n",
       "<style scoped>\n",
       "    .dataframe tbody tr th:only-of-type {\n",
       "        vertical-align: middle;\n",
       "    }\n",
       "\n",
       "    .dataframe tbody tr th {\n",
       "        vertical-align: top;\n",
       "    }\n",
       "\n",
       "    .dataframe thead th {\n",
       "        text-align: right;\n",
       "    }\n",
       "</style>\n",
       "<table border=\"1\" class=\"dataframe\">\n",
       "  <thead>\n",
       "    <tr style=\"text-align: right;\">\n",
       "      <th></th>\n",
       "      <th>Air temperature [K]</th>\n",
       "      <th>Process temperature [K]</th>\n",
       "      <th>Rotational speed [rpm]</th>\n",
       "      <th>Torque [Nm]</th>\n",
       "      <th>Tool wear [min]</th>\n",
       "      <th>TWF</th>\n",
       "      <th>HDF</th>\n",
       "      <th>PWF</th>\n",
       "      <th>OSF</th>\n",
       "      <th>RNF</th>\n",
       "    </tr>\n",
       "  </thead>\n",
       "  <tbody>\n",
       "    <tr>\n",
       "      <th>0</th>\n",
       "      <td>299.5</td>\n",
       "      <td>309.2</td>\n",
       "      <td>1399</td>\n",
       "      <td>47.4</td>\n",
       "      <td>20</td>\n",
       "      <td>0</td>\n",
       "      <td>0</td>\n",
       "      <td>0</td>\n",
       "      <td>0</td>\n",
       "      <td>0</td>\n",
       "    </tr>\n",
       "    <tr>\n",
       "      <th>1</th>\n",
       "      <td>301.3</td>\n",
       "      <td>311.0</td>\n",
       "      <td>1497</td>\n",
       "      <td>45.5</td>\n",
       "      <td>84</td>\n",
       "      <td>0</td>\n",
       "      <td>0</td>\n",
       "      <td>0</td>\n",
       "      <td>0</td>\n",
       "      <td>0</td>\n",
       "    </tr>\n",
       "    <tr>\n",
       "      <th>2</th>\n",
       "      <td>299.8</td>\n",
       "      <td>309.7</td>\n",
       "      <td>1472</td>\n",
       "      <td>42.3</td>\n",
       "      <td>193</td>\n",
       "      <td>0</td>\n",
       "      <td>0</td>\n",
       "      <td>0</td>\n",
       "      <td>0</td>\n",
       "      <td>0</td>\n",
       "    </tr>\n",
       "    <tr>\n",
       "      <th>3</th>\n",
       "      <td>296.8</td>\n",
       "      <td>307.8</td>\n",
       "      <td>1419</td>\n",
       "      <td>47.3</td>\n",
       "      <td>0</td>\n",
       "      <td>0</td>\n",
       "      <td>0</td>\n",
       "      <td>0</td>\n",
       "      <td>0</td>\n",
       "      <td>0</td>\n",
       "    </tr>\n",
       "    <tr>\n",
       "      <th>4</th>\n",
       "      <td>300.3</td>\n",
       "      <td>309.6</td>\n",
       "      <td>1488</td>\n",
       "      <td>39.7</td>\n",
       "      <td>82</td>\n",
       "      <td>0</td>\n",
       "      <td>0</td>\n",
       "      <td>0</td>\n",
       "      <td>0</td>\n",
       "      <td>0</td>\n",
       "    </tr>\n",
       "  </tbody>\n",
       "</table>\n",
       "</div>"
      ],
      "text/plain": [
       "   Air temperature [K]  Process temperature [K]  Rotational speed [rpm]  \\\n",
       "0                299.5                    309.2                    1399   \n",
       "1                301.3                    311.0                    1497   \n",
       "2                299.8                    309.7                    1472   \n",
       "3                296.8                    307.8                    1419   \n",
       "4                300.3                    309.6                    1488   \n",
       "\n",
       "   Torque [Nm]  Tool wear [min]  TWF  HDF  PWF  OSF  RNF  \n",
       "0         47.4               20    0    0    0    0    0  \n",
       "1         45.5               84    0    0    0    0    0  \n",
       "2         42.3              193    0    0    0    0    0  \n",
       "3         47.3                0    0    0    0    0    0  \n",
       "4         39.7               82    0    0    0    0    0  "
      ]
     },
     "execution_count": 55,
     "metadata": {},
     "output_type": "execute_result"
    }
   ],
   "source": [
    "df_cv.head(5)"
   ]
  },
  {
   "cell_type": "code",
   "execution_count": 56,
   "id": "5e4e74d0",
   "metadata": {},
   "outputs": [],
   "source": [
    "# p=df_cv['Tool wear [min]']\n",
    "# z=(np.arcsin((np.log(abs(p+0.000001)**0.95))/50) )  #Dont ask Y,hehe\n",
    "# df_cv['Tool wear [min]']=z\n",
    "# df_cv['TWF'] = df_cv['TWF'].replace({0: 0.01, 1: 0.99})\n",
    "# df_cv['HDF'] = df_cv['HDF'].replace({0: 0.01, 1: 0.99})\n",
    "# df_cv['PWF'] = df_cv['PWF'].replace({0: 0.01, 1: 0.99})\n",
    "# df_cv['OSF'] = df_cv['OSF'].replace({0: 0.01, 1: 0.99})\n",
    "# df_cv['RNF'] = df_cv['RNF'].replace({0: 0.01, 1: 0.99})"
   ]
  },
  {
   "cell_type": "code",
   "execution_count": 57,
   "id": "e660c5d8",
   "metadata": {},
   "outputs": [],
   "source": [
    "df_cv[\"TWF\"]=binnary_to_gaussian(df_cv[\"TWF\"])\n",
    "df_cv[\"HDF\"]=binnary_to_gaussian(df_cv[\"HDF\"])\n",
    "df_cv[\"PWF\"]=binnary_to_gaussian(df_cv[\"PWF\"])\n",
    "df_cv[\"OSF\"]=binnary_to_gaussian(df_cv[\"OSF\"])\n",
    "df_cv[\"RNF\"]=binnary_to_gaussian(df_cv[\"RNF\"])"
   ]
  },
  {
   "cell_type": "code",
   "execution_count": 58,
   "id": "387a2f11",
   "metadata": {},
   "outputs": [
    {
     "data": {
      "text/html": [
       "<div>\n",
       "<style scoped>\n",
       "    .dataframe tbody tr th:only-of-type {\n",
       "        vertical-align: middle;\n",
       "    }\n",
       "\n",
       "    .dataframe tbody tr th {\n",
       "        vertical-align: top;\n",
       "    }\n",
       "\n",
       "    .dataframe thead th {\n",
       "        text-align: right;\n",
       "    }\n",
       "</style>\n",
       "<table border=\"1\" class=\"dataframe\">\n",
       "  <thead>\n",
       "    <tr style=\"text-align: right;\">\n",
       "      <th></th>\n",
       "      <th>Air temperature [K]</th>\n",
       "      <th>Process temperature [K]</th>\n",
       "      <th>Rotational speed [rpm]</th>\n",
       "      <th>Torque [Nm]</th>\n",
       "      <th>Tool wear [min]</th>\n",
       "      <th>TWF</th>\n",
       "      <th>HDF</th>\n",
       "      <th>PWF</th>\n",
       "      <th>OSF</th>\n",
       "      <th>RNF</th>\n",
       "    </tr>\n",
       "  </thead>\n",
       "  <tbody>\n",
       "    <tr>\n",
       "      <th>0</th>\n",
       "      <td>299.5</td>\n",
       "      <td>309.2</td>\n",
       "      <td>1399</td>\n",
       "      <td>47.4</td>\n",
       "      <td>20</td>\n",
       "      <td>0.391448</td>\n",
       "      <td>-0.039270</td>\n",
       "      <td>0.809327</td>\n",
       "      <td>3.077020</td>\n",
       "      <td>0.109959</td>\n",
       "    </tr>\n",
       "    <tr>\n",
       "      <th>1</th>\n",
       "      <td>301.3</td>\n",
       "      <td>311.0</td>\n",
       "      <td>1497</td>\n",
       "      <td>45.5</td>\n",
       "      <td>84</td>\n",
       "      <td>-2.056807</td>\n",
       "      <td>0.169493</td>\n",
       "      <td>0.844636</td>\n",
       "      <td>1.105738</td>\n",
       "      <td>0.703469</td>\n",
       "    </tr>\n",
       "    <tr>\n",
       "      <th>2</th>\n",
       "      <td>299.8</td>\n",
       "      <td>309.7</td>\n",
       "      <td>1472</td>\n",
       "      <td>42.3</td>\n",
       "      <td>193</td>\n",
       "      <td>0.220291</td>\n",
       "      <td>-0.213439</td>\n",
       "      <td>0.435419</td>\n",
       "      <td>-0.846550</td>\n",
       "      <td>-0.427516</td>\n",
       "    </tr>\n",
       "    <tr>\n",
       "      <th>3</th>\n",
       "      <td>296.8</td>\n",
       "      <td>307.8</td>\n",
       "      <td>1419</td>\n",
       "      <td>47.3</td>\n",
       "      <td>0</td>\n",
       "      <td>-0.259891</td>\n",
       "      <td>1.291609</td>\n",
       "      <td>0.553542</td>\n",
       "      <td>-0.122114</td>\n",
       "      <td>-0.367063</td>\n",
       "    </tr>\n",
       "    <tr>\n",
       "      <th>4</th>\n",
       "      <td>300.3</td>\n",
       "      <td>309.6</td>\n",
       "      <td>1488</td>\n",
       "      <td>39.7</td>\n",
       "      <td>82</td>\n",
       "      <td>-0.701182</td>\n",
       "      <td>-0.370653</td>\n",
       "      <td>0.087060</td>\n",
       "      <td>-0.031807</td>\n",
       "      <td>0.357851</td>\n",
       "    </tr>\n",
       "  </tbody>\n",
       "</table>\n",
       "</div>"
      ],
      "text/plain": [
       "   Air temperature [K]  Process temperature [K]  Rotational speed [rpm]  \\\n",
       "0                299.5                    309.2                    1399   \n",
       "1                301.3                    311.0                    1497   \n",
       "2                299.8                    309.7                    1472   \n",
       "3                296.8                    307.8                    1419   \n",
       "4                300.3                    309.6                    1488   \n",
       "\n",
       "   Torque [Nm]  Tool wear [min]       TWF       HDF       PWF       OSF  \\\n",
       "0         47.4               20  0.391448 -0.039270  0.809327  3.077020   \n",
       "1         45.5               84 -2.056807  0.169493  0.844636  1.105738   \n",
       "2         42.3              193  0.220291 -0.213439  0.435419 -0.846550   \n",
       "3         47.3                0 -0.259891  1.291609  0.553542 -0.122114   \n",
       "4         39.7               82 -0.701182 -0.370653  0.087060 -0.031807   \n",
       "\n",
       "        RNF  \n",
       "0  0.109959  \n",
       "1  0.703469  \n",
       "2 -0.427516  \n",
       "3 -0.367063  \n",
       "4  0.357851  "
      ]
     },
     "execution_count": 58,
     "metadata": {},
     "output_type": "execute_result"
    }
   ],
   "source": [
    "df_cv.head(5)"
   ]
  },
  {
   "cell_type": "code",
   "execution_count": 59,
   "id": "703c644f",
   "metadata": {},
   "outputs": [],
   "source": [
    "x_cv = df_cv.to_numpy()"
   ]
  },
  {
   "cell_type": "code",
   "execution_count": 60,
   "id": "46b2f8ff",
   "metadata": {},
   "outputs": [
    {
     "data": {
      "text/plain": [
       "(2296, 10)"
      ]
     },
     "execution_count": 60,
     "metadata": {},
     "output_type": "execute_result"
    }
   ],
   "source": [
    "x_cv.shape"
   ]
  },
  {
   "cell_type": "code",
   "execution_count": 61,
   "id": "fd32379b",
   "metadata": {},
   "outputs": [],
   "source": [
    "# y->   ground truth labels array\n",
    "# x_cv->cross validation dataset array"
   ]
  },
  {
   "cell_type": "code",
   "execution_count": 62,
   "id": "edd50568",
   "metadata": {},
   "outputs": [],
   "source": [
    "p_val=multivariance_gussian(x_cv,mu,var)"
   ]
  },
  {
   "cell_type": "code",
   "execution_count": 63,
   "id": "7b808077",
   "metadata": {},
   "outputs": [
    {
     "data": {
      "text/plain": [
       "(2296,)"
      ]
     },
     "execution_count": 63,
     "metadata": {},
     "output_type": "execute_result"
    }
   ],
   "source": [
    "p_val.shape"
   ]
  },
  {
   "cell_type": "code",
   "execution_count": 64,
   "id": "168fd66b",
   "metadata": {},
   "outputs": [
    {
     "data": {
      "text/plain": [
       "array([0., 0., 0., ..., 0., 0., 0.])"
      ]
     },
     "execution_count": 64,
     "metadata": {},
     "output_type": "execute_result"
    }
   ],
   "source": [
    "p_val"
   ]
  },
  {
   "cell_type": "code",
   "execution_count": 65,
   "id": "53c7f120",
   "metadata": {},
   "outputs": [
    {
     "name": "stderr",
     "output_type": "stream",
     "text": [
      "C:\\Users\\hrith\\AppData\\Local\\Temp\\ipykernel_22648\\804832922.py:23: RuntimeWarning: invalid value encountered in double_scalars\n",
      "  for epsilon in np.arange(min(p_val)+step_size*20, max(p_val), step_size):\n"
     ]
    },
    {
     "ename": "ValueError",
     "evalue": "arange: cannot compute length",
     "output_type": "error",
     "traceback": [
      "\u001b[1;31m---------------------------------------------------------------------------\u001b[0m",
      "\u001b[1;31mValueError\u001b[0m                                Traceback (most recent call last)",
      "Input \u001b[1;32mIn [65]\u001b[0m, in \u001b[0;36m<cell line: 1>\u001b[1;34m()\u001b[0m\n\u001b[1;32m----> 1\u001b[0m best_epsilon, best_F1\u001b[38;5;241m=\u001b[39m\u001b[43mselect_threshold\u001b[49m\u001b[43m(\u001b[49m\u001b[43my\u001b[49m\u001b[43m,\u001b[49m\u001b[43m \u001b[49m\u001b[43mp_val\u001b[49m\u001b[43m)\u001b[49m\n",
      "Input \u001b[1;32mIn [47]\u001b[0m, in \u001b[0;36mselect_threshold\u001b[1;34m(y_val, p_val)\u001b[0m\n\u001b[0;32m     19\u001b[0m F1 \u001b[38;5;241m=\u001b[39m \u001b[38;5;241m0\u001b[39m\n\u001b[0;32m     21\u001b[0m step_size \u001b[38;5;241m=\u001b[39m (\u001b[38;5;28mmax\u001b[39m(p_val) \u001b[38;5;241m-\u001b[39m \u001b[38;5;28mmin\u001b[39m(p_val)) \u001b[38;5;241m/\u001b[39m \u001b[38;5;241m1000\u001b[39m\n\u001b[1;32m---> 23\u001b[0m \u001b[38;5;28;01mfor\u001b[39;00m epsilon \u001b[38;5;129;01min\u001b[39;00m \u001b[43mnp\u001b[49m\u001b[38;5;241;43m.\u001b[39;49m\u001b[43marange\u001b[49m\u001b[43m(\u001b[49m\u001b[38;5;28;43mmin\u001b[39;49m\u001b[43m(\u001b[49m\u001b[43mp_val\u001b[49m\u001b[43m)\u001b[49m\u001b[38;5;241;43m+\u001b[39;49m\u001b[43mstep_size\u001b[49m\u001b[38;5;241;43m*\u001b[39;49m\u001b[38;5;241;43m20\u001b[39;49m\u001b[43m,\u001b[49m\u001b[43m \u001b[49m\u001b[38;5;28;43mmax\u001b[39;49m\u001b[43m(\u001b[49m\u001b[43mp_val\u001b[49m\u001b[43m)\u001b[49m\u001b[43m,\u001b[49m\u001b[43m \u001b[49m\u001b[43mstep_size\u001b[49m\u001b[43m)\u001b[49m:\n\u001b[0;32m     24\u001b[0m \n\u001b[0;32m     25\u001b[0m     \u001b[38;5;66;03m### START CODE HERE ### \u001b[39;00m\n\u001b[0;32m     26\u001b[0m     predictions \u001b[38;5;241m=\u001b[39m (p_val \u001b[38;5;241m<\u001b[39m epsilon)\n\u001b[0;32m     27\u001b[0m     predictions \u001b[38;5;241m=\u001b[39m predictions\u001b[38;5;241m.\u001b[39mastype(\u001b[38;5;28mint\u001b[39m)\n",
      "\u001b[1;31mValueError\u001b[0m: arange: cannot compute length"
     ]
    }
   ],
   "source": [
    "best_epsilon, best_F1=select_threshold(y, p_val)"
   ]
  },
  {
   "cell_type": "code",
   "execution_count": null,
   "id": "c14b2a59",
   "metadata": {},
   "outputs": [],
   "source": [
    "best_epsilon"
   ]
  },
  {
   "cell_type": "code",
   "execution_count": null,
   "id": "09ee4cfc",
   "metadata": {},
   "outputs": [],
   "source": [
    "outliers = p_val < best_epsilon"
   ]
  },
  {
   "cell_type": "code",
   "execution_count": null,
   "id": "69ac8f16",
   "metadata": {},
   "outputs": [],
   "source": [
    "outliers =outliers.astype(int)"
   ]
  },
  {
   "cell_type": "code",
   "execution_count": null,
   "id": "221470a2",
   "metadata": {},
   "outputs": [],
   "source": [
    "outliers.shape"
   ]
  },
  {
   "cell_type": "code",
   "execution_count": null,
   "id": "6cab506f",
   "metadata": {},
   "outputs": [],
   "source": [
    "#Counting the number of correct predictions :\n",
    "count_correct=0\n",
    "for i in range(len(outliers)):\n",
    "    if outliers[i]==y[i]:\n",
    "       count_correct=count_correct+1"
   ]
  },
  {
   "cell_type": "code",
   "execution_count": null,
   "id": "7e9279b5",
   "metadata": {},
   "outputs": [],
   "source": [
    "print(count_correct)   #Correct Precictions"
   ]
  },
  {
   "cell_type": "code",
   "execution_count": null,
   "id": "2ab7afec",
   "metadata": {},
   "outputs": [],
   "source": [
    "y.shape    #Total Predictions"
   ]
  },
  {
   "cell_type": "code",
   "execution_count": null,
   "id": "914a14d0",
   "metadata": {},
   "outputs": [],
   "source": [
    "# Detected 1807 outoff 2296 cases correctly for cross validation set"
   ]
  },
  {
   "cell_type": "code",
   "execution_count": null,
   "id": "95643e16",
   "metadata": {},
   "outputs": [],
   "source": [
    "1807/2296"
   ]
  },
  {
   "cell_type": "code",
   "execution_count": null,
   "id": "69c94164",
   "metadata": {},
   "outputs": [],
   "source": [
    "c=0\n",
    "for i in range(len(y)):\n",
    "    if y[i]==1:\n",
    "        c=c+1\n",
    "    "
   ]
  },
  {
   "cell_type": "code",
   "execution_count": null,
   "id": "703ed2ed",
   "metadata": {},
   "outputs": [],
   "source": [
    "print(c)"
   ]
  },
  {
   "cell_type": "code",
   "execution_count": null,
   "id": "fb2d4983",
   "metadata": {},
   "outputs": [],
   "source": [
    "# 1139 -> not working"
   ]
  },
  {
   "cell_type": "code",
   "execution_count": null,
   "id": "200f4d7d",
   "metadata": {},
   "outputs": [],
   "source": [
    "#Counting when machine was faulty and was detected as faulty\n",
    "count_faulty_correct=0\n",
    "for i in range(len(outliers)):\n",
    "    if outliers[i]==1 and y[i]==1:\n",
    "        count_faulty_correct=count_faulty_correct+1"
   ]
  },
  {
   "cell_type": "code",
   "execution_count": null,
   "id": "7c6bf80b",
   "metadata": {},
   "outputs": [],
   "source": [
    "print(count_faulty_correct)   #Not working engines detected"
   ]
  },
  {
   "cell_type": "code",
   "execution_count": null,
   "id": "ce31998e",
   "metadata": {},
   "outputs": [],
   "source": [
    "# Detected 1082 outoff 1139 not working engines correctly for cross validation set"
   ]
  },
  {
   "cell_type": "code",
   "execution_count": null,
   "id": "855d16d1",
   "metadata": {},
   "outputs": [],
   "source": [
    "1082/1139"
   ]
  },
  {
   "cell_type": "markdown",
   "id": "623e50c6",
   "metadata": {},
   "source": [
    "78.7% overall accuracy, and 94.99% accuracy for detecting faulty engines"
   ]
  },
  {
   "cell_type": "code",
   "execution_count": null,
   "id": "6ce8e6aa",
   "metadata": {},
   "outputs": [],
   "source": [
    "#Plotting Confusion matrix\n",
    "from sklearn.metrics import confusion_matrix, ConfusionMatrixDisplay\n",
    "import matplotlib.pyplot as plt\n",
    "cm_train = confusion_matrix(y,outliers)"
   ]
  },
  {
   "cell_type": "code",
   "execution_count": null,
   "id": "53659fa6",
   "metadata": {},
   "outputs": [],
   "source": [
    "disp = ConfusionMatrixDisplay(confusion_matrix=cm_train)\n",
    "disp.plot()\n",
    "plt.show()"
   ]
  },
  {
   "cell_type": "code",
   "execution_count": null,
   "id": "8ec98eec",
   "metadata": {},
   "outputs": [],
   "source": [
    "1101/(1101+38)*100"
   ]
  },
  {
   "cell_type": "code",
   "execution_count": null,
   "id": "bba60b73",
   "metadata": {},
   "outputs": [],
   "source": [
    "(1101+617)/(617+38+1101+540)*100"
   ]
  },
  {
   "cell_type": "code",
   "execution_count": null,
   "id": "e1430914",
   "metadata": {},
   "outputs": [],
   "source": [
    "# import numpy as np\n",
    "# from scipy.stats import norm\n",
    "\n",
    "# # Binary data\n",
    "# binary_data = np.array(df_cv[\"TWF\"])\n",
    "\n",
    "# # Step 1: Calculate empirical cumulative distribution function (CDF)\n",
    "# cdf = np.cumsum(binary_data) / np.sum(binary_data)\n",
    "\n",
    "# # Step 2: Map binary data to uniform distribution\n",
    "# uniform_data = np.random.uniform(size=len(binary_data))\n",
    "\n",
    "# # Step 3: Map uniform data to Gaussian distribution\n",
    "# gaussian_data = norm.ppf(uniform_data)\n",
    "\n",
    "# # Step 4: Standardize the transformed data\n",
    "# gaussian_data = (gaussian_data - np.mean(gaussian_data)) / np.std(gaussian_data)\n",
    "\n",
    "# print(\"Binary Data:\", binary_data)\n",
    "# print(\"Gaussian Data:\", gaussian_data)"
   ]
  },
  {
   "cell_type": "code",
   "execution_count": null,
   "id": "0ec5ec34",
   "metadata": {},
   "outputs": [],
   "source": [
    "\n"
   ]
  },
  {
   "cell_type": "code",
   "execution_count": null,
   "id": "be9201b3",
   "metadata": {},
   "outputs": [],
   "source": []
  }
 ],
 "metadata": {
  "kernelspec": {
   "display_name": "Python 3 (ipykernel)",
   "language": "python",
   "name": "python3"
  },
  "language_info": {
   "codemirror_mode": {
    "name": "ipython",
    "version": 3
   },
   "file_extension": ".py",
   "mimetype": "text/x-python",
   "name": "python",
   "nbconvert_exporter": "python",
   "pygments_lexer": "ipython3",
   "version": "3.10.1"
  }
 },
 "nbformat": 4,
 "nbformat_minor": 5
}
