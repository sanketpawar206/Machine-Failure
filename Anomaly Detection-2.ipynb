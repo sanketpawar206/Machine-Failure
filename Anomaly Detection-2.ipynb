{
 "cells": [
  {
   "cell_type": "code",
   "execution_count": 1,
   "id": "2ddc8449",
   "metadata": {},
   "outputs": [],
   "source": [
    "#Refrence material "
   ]
  },
  {
   "cell_type": "markdown",
   "id": "8c424b6a",
   "metadata": {},
   "source": [
    "https://www.coursera.org/learn/unsupervised-learning-recommenders-reinforcement-learning/programming/Rqh9M/anomaly-detection/lab?path=%2Fnotebooks%2FC3_W1_Anomaly_Detection.ipynb"
   ]
  },
  {
   "cell_type": "code",
   "execution_count": 1,
   "id": "2e8cca79",
   "metadata": {},
   "outputs": [],
   "source": [
    "import pandas as pd\n",
    "import numpy as np"
   ]
  },
  {
   "cell_type": "code",
   "execution_count": 8,
   "id": "9d11a81c",
   "metadata": {},
   "outputs": [],
   "source": [
    "df=pd.read_csv('final_train_data.csv')"
   ]
  },
  {
   "cell_type": "code",
   "execution_count": 9,
   "id": "2406f2d8",
   "metadata": {},
   "outputs": [
    {
     "data": {
      "text/html": [
       "<div>\n",
       "<style scoped>\n",
       "    .dataframe tbody tr th:only-of-type {\n",
       "        vertical-align: middle;\n",
       "    }\n",
       "\n",
       "    .dataframe tbody tr th {\n",
       "        vertical-align: top;\n",
       "    }\n",
       "\n",
       "    .dataframe thead th {\n",
       "        text-align: right;\n",
       "    }\n",
       "</style>\n",
       "<table border=\"1\" class=\"dataframe\">\n",
       "  <thead>\n",
       "    <tr style=\"text-align: right;\">\n",
       "      <th></th>\n",
       "      <th>id</th>\n",
       "      <th>Product ID</th>\n",
       "      <th>Type</th>\n",
       "      <th>Air temperature [K]</th>\n",
       "      <th>Process temperature [K]</th>\n",
       "      <th>Rotational speed [rpm]</th>\n",
       "      <th>Torque [Nm]</th>\n",
       "      <th>Tool wear [min]</th>\n",
       "      <th>Machine failure</th>\n",
       "      <th>TWF</th>\n",
       "      <th>HDF</th>\n",
       "      <th>PWF</th>\n",
       "      <th>OSF</th>\n",
       "      <th>RNF</th>\n",
       "    </tr>\n",
       "  </thead>\n",
       "  <tbody>\n",
       "    <tr>\n",
       "      <th>0</th>\n",
       "      <td>0</td>\n",
       "      <td>L50096</td>\n",
       "      <td>L</td>\n",
       "      <td>300.6</td>\n",
       "      <td>309.6</td>\n",
       "      <td>1596</td>\n",
       "      <td>36.1</td>\n",
       "      <td>140</td>\n",
       "      <td>0</td>\n",
       "      <td>0</td>\n",
       "      <td>0</td>\n",
       "      <td>0</td>\n",
       "      <td>0</td>\n",
       "      <td>0</td>\n",
       "    </tr>\n",
       "    <tr>\n",
       "      <th>1</th>\n",
       "      <td>1</td>\n",
       "      <td>M20343</td>\n",
       "      <td>M</td>\n",
       "      <td>302.6</td>\n",
       "      <td>312.1</td>\n",
       "      <td>1759</td>\n",
       "      <td>29.1</td>\n",
       "      <td>200</td>\n",
       "      <td>0</td>\n",
       "      <td>0</td>\n",
       "      <td>0</td>\n",
       "      <td>0</td>\n",
       "      <td>0</td>\n",
       "      <td>0</td>\n",
       "    </tr>\n",
       "    <tr>\n",
       "      <th>2</th>\n",
       "      <td>2</td>\n",
       "      <td>L49454</td>\n",
       "      <td>L</td>\n",
       "      <td>299.3</td>\n",
       "      <td>308.5</td>\n",
       "      <td>1805</td>\n",
       "      <td>26.5</td>\n",
       "      <td>25</td>\n",
       "      <td>0</td>\n",
       "      <td>0</td>\n",
       "      <td>0</td>\n",
       "      <td>0</td>\n",
       "      <td>0</td>\n",
       "      <td>0</td>\n",
       "    </tr>\n",
       "    <tr>\n",
       "      <th>3</th>\n",
       "      <td>3</td>\n",
       "      <td>L53355</td>\n",
       "      <td>L</td>\n",
       "      <td>301.0</td>\n",
       "      <td>310.9</td>\n",
       "      <td>1524</td>\n",
       "      <td>44.3</td>\n",
       "      <td>197</td>\n",
       "      <td>0</td>\n",
       "      <td>0</td>\n",
       "      <td>0</td>\n",
       "      <td>0</td>\n",
       "      <td>0</td>\n",
       "      <td>0</td>\n",
       "    </tr>\n",
       "    <tr>\n",
       "      <th>4</th>\n",
       "      <td>4</td>\n",
       "      <td>M24050</td>\n",
       "      <td>M</td>\n",
       "      <td>298.0</td>\n",
       "      <td>309.0</td>\n",
       "      <td>1641</td>\n",
       "      <td>35.4</td>\n",
       "      <td>34</td>\n",
       "      <td>0</td>\n",
       "      <td>0</td>\n",
       "      <td>0</td>\n",
       "      <td>0</td>\n",
       "      <td>0</td>\n",
       "      <td>0</td>\n",
       "    </tr>\n",
       "  </tbody>\n",
       "</table>\n",
       "</div>"
      ],
      "text/plain": [
       "   id Product ID Type  Air temperature [K]  Process temperature [K]  \\\n",
       "0   0     L50096    L                300.6                    309.6   \n",
       "1   1     M20343    M                302.6                    312.1   \n",
       "2   2     L49454    L                299.3                    308.5   \n",
       "3   3     L53355    L                301.0                    310.9   \n",
       "4   4     M24050    M                298.0                    309.0   \n",
       "\n",
       "   Rotational speed [rpm]  Torque [Nm]  Tool wear [min]  Machine failure  TWF  \\\n",
       "0                    1596         36.1              140                0    0   \n",
       "1                    1759         29.1              200                0    0   \n",
       "2                    1805         26.5               25                0    0   \n",
       "3                    1524         44.3              197                0    0   \n",
       "4                    1641         35.4               34                0    0   \n",
       "\n",
       "   HDF  PWF  OSF  RNF  \n",
       "0    0    0    0    0  \n",
       "1    0    0    0    0  \n",
       "2    0    0    0    0  \n",
       "3    0    0    0    0  \n",
       "4    0    0    0    0  "
      ]
     },
     "execution_count": 9,
     "metadata": {},
     "output_type": "execute_result"
    }
   ],
   "source": [
    "df.head(5)"
   ]
  },
  {
   "cell_type": "code",
   "execution_count": 10,
   "id": "6479f42c",
   "metadata": {},
   "outputs": [],
   "source": [
    "df=df.drop(['id','Product ID','Machine failure','TWF','HDF','PWF','OSF','RNF','Type'], axis=1)"
   ]
  },
  {
   "cell_type": "code",
   "execution_count": 11,
   "id": "a3359f67",
   "metadata": {},
   "outputs": [
    {
     "data": {
      "text/html": [
       "<div>\n",
       "<style scoped>\n",
       "    .dataframe tbody tr th:only-of-type {\n",
       "        vertical-align: middle;\n",
       "    }\n",
       "\n",
       "    .dataframe tbody tr th {\n",
       "        vertical-align: top;\n",
       "    }\n",
       "\n",
       "    .dataframe thead th {\n",
       "        text-align: right;\n",
       "    }\n",
       "</style>\n",
       "<table border=\"1\" class=\"dataframe\">\n",
       "  <thead>\n",
       "    <tr style=\"text-align: right;\">\n",
       "      <th></th>\n",
       "      <th>Air temperature [K]</th>\n",
       "      <th>Process temperature [K]</th>\n",
       "      <th>Rotational speed [rpm]</th>\n",
       "      <th>Torque [Nm]</th>\n",
       "      <th>Tool wear [min]</th>\n",
       "    </tr>\n",
       "  </thead>\n",
       "  <tbody>\n",
       "    <tr>\n",
       "      <th>0</th>\n",
       "      <td>300.6</td>\n",
       "      <td>309.6</td>\n",
       "      <td>1596</td>\n",
       "      <td>36.1</td>\n",
       "      <td>140</td>\n",
       "    </tr>\n",
       "    <tr>\n",
       "      <th>1</th>\n",
       "      <td>302.6</td>\n",
       "      <td>312.1</td>\n",
       "      <td>1759</td>\n",
       "      <td>29.1</td>\n",
       "      <td>200</td>\n",
       "    </tr>\n",
       "    <tr>\n",
       "      <th>2</th>\n",
       "      <td>299.3</td>\n",
       "      <td>308.5</td>\n",
       "      <td>1805</td>\n",
       "      <td>26.5</td>\n",
       "      <td>25</td>\n",
       "    </tr>\n",
       "    <tr>\n",
       "      <th>3</th>\n",
       "      <td>301.0</td>\n",
       "      <td>310.9</td>\n",
       "      <td>1524</td>\n",
       "      <td>44.3</td>\n",
       "      <td>197</td>\n",
       "    </tr>\n",
       "    <tr>\n",
       "      <th>4</th>\n",
       "      <td>298.0</td>\n",
       "      <td>309.0</td>\n",
       "      <td>1641</td>\n",
       "      <td>35.4</td>\n",
       "      <td>34</td>\n",
       "    </tr>\n",
       "  </tbody>\n",
       "</table>\n",
       "</div>"
      ],
      "text/plain": [
       "   Air temperature [K]  Process temperature [K]  Rotational speed [rpm]  \\\n",
       "0                300.6                    309.6                    1596   \n",
       "1                302.6                    312.1                    1759   \n",
       "2                299.3                    308.5                    1805   \n",
       "3                301.0                    310.9                    1524   \n",
       "4                298.0                    309.0                    1641   \n",
       "\n",
       "   Torque [Nm]  Tool wear [min]  \n",
       "0         36.1              140  \n",
       "1         29.1              200  \n",
       "2         26.5               25  \n",
       "3         44.3              197  \n",
       "4         35.4               34  "
      ]
     },
     "execution_count": 11,
     "metadata": {},
     "output_type": "execute_result"
    }
   ],
   "source": [
    "df.head(5)"
   ]
  },
  {
   "cell_type": "code",
   "execution_count": 6,
   "id": "55728d33",
   "metadata": {},
   "outputs": [],
   "source": [
    "# df['Type'] = df['Type'].replace({'H':0,'M':1,'L':2})"
   ]
  },
  {
   "cell_type": "code",
   "execution_count": 7,
   "id": "1aee5389",
   "metadata": {},
   "outputs": [
    {
     "data": {
      "text/html": [
       "<div>\n",
       "<style scoped>\n",
       "    .dataframe tbody tr th:only-of-type {\n",
       "        vertical-align: middle;\n",
       "    }\n",
       "\n",
       "    .dataframe tbody tr th {\n",
       "        vertical-align: top;\n",
       "    }\n",
       "\n",
       "    .dataframe thead th {\n",
       "        text-align: right;\n",
       "    }\n",
       "</style>\n",
       "<table border=\"1\" class=\"dataframe\">\n",
       "  <thead>\n",
       "    <tr style=\"text-align: right;\">\n",
       "      <th></th>\n",
       "      <th>Type</th>\n",
       "      <th>Air temperature [K]</th>\n",
       "      <th>Process temperature [K]</th>\n",
       "      <th>Rotational speed [rpm]</th>\n",
       "      <th>Torque [Nm]</th>\n",
       "      <th>Tool wear [min]</th>\n",
       "      <th>TWF</th>\n",
       "      <th>HDF</th>\n",
       "      <th>PWF</th>\n",
       "      <th>OSF</th>\n",
       "      <th>RNF</th>\n",
       "    </tr>\n",
       "  </thead>\n",
       "  <tbody>\n",
       "    <tr>\n",
       "      <th>0</th>\n",
       "      <td>2</td>\n",
       "      <td>300.6</td>\n",
       "      <td>309.6</td>\n",
       "      <td>1596</td>\n",
       "      <td>36.1</td>\n",
       "      <td>140</td>\n",
       "      <td>0</td>\n",
       "      <td>0</td>\n",
       "      <td>0</td>\n",
       "      <td>0</td>\n",
       "      <td>0</td>\n",
       "    </tr>\n",
       "    <tr>\n",
       "      <th>1</th>\n",
       "      <td>1</td>\n",
       "      <td>302.6</td>\n",
       "      <td>312.1</td>\n",
       "      <td>1759</td>\n",
       "      <td>29.1</td>\n",
       "      <td>200</td>\n",
       "      <td>0</td>\n",
       "      <td>0</td>\n",
       "      <td>0</td>\n",
       "      <td>0</td>\n",
       "      <td>0</td>\n",
       "    </tr>\n",
       "    <tr>\n",
       "      <th>2</th>\n",
       "      <td>2</td>\n",
       "      <td>299.3</td>\n",
       "      <td>308.5</td>\n",
       "      <td>1805</td>\n",
       "      <td>26.5</td>\n",
       "      <td>25</td>\n",
       "      <td>0</td>\n",
       "      <td>0</td>\n",
       "      <td>0</td>\n",
       "      <td>0</td>\n",
       "      <td>0</td>\n",
       "    </tr>\n",
       "    <tr>\n",
       "      <th>3</th>\n",
       "      <td>2</td>\n",
       "      <td>301.0</td>\n",
       "      <td>310.9</td>\n",
       "      <td>1524</td>\n",
       "      <td>44.3</td>\n",
       "      <td>197</td>\n",
       "      <td>0</td>\n",
       "      <td>0</td>\n",
       "      <td>0</td>\n",
       "      <td>0</td>\n",
       "      <td>0</td>\n",
       "    </tr>\n",
       "    <tr>\n",
       "      <th>4</th>\n",
       "      <td>1</td>\n",
       "      <td>298.0</td>\n",
       "      <td>309.0</td>\n",
       "      <td>1641</td>\n",
       "      <td>35.4</td>\n",
       "      <td>34</td>\n",
       "      <td>0</td>\n",
       "      <td>0</td>\n",
       "      <td>0</td>\n",
       "      <td>0</td>\n",
       "      <td>0</td>\n",
       "    </tr>\n",
       "  </tbody>\n",
       "</table>\n",
       "</div>"
      ],
      "text/plain": [
       "   Type  Air temperature [K]  Process temperature [K]  Rotational speed [rpm]  \\\n",
       "0     2                300.6                    309.6                    1596   \n",
       "1     1                302.6                    312.1                    1759   \n",
       "2     2                299.3                    308.5                    1805   \n",
       "3     2                301.0                    310.9                    1524   \n",
       "4     1                298.0                    309.0                    1641   \n",
       "\n",
       "   Torque [Nm]  Tool wear [min]  TWF  HDF  PWF  OSF  RNF  \n",
       "0         36.1              140    0    0    0    0    0  \n",
       "1         29.1              200    0    0    0    0    0  \n",
       "2         26.5               25    0    0    0    0    0  \n",
       "3         44.3              197    0    0    0    0    0  \n",
       "4         35.4               34    0    0    0    0    0  "
      ]
     },
     "execution_count": 7,
     "metadata": {},
     "output_type": "execute_result"
    }
   ],
   "source": [
    "# df.head(5)"
   ]
  },
  {
   "cell_type": "code",
   "execution_count": 12,
   "id": "87b15e42",
   "metadata": {},
   "outputs": [
    {
     "data": {
      "text/plain": [
       "(132133, 5)"
      ]
     },
     "execution_count": 12,
     "metadata": {},
     "output_type": "execute_result"
    }
   ],
   "source": [
    "df.shape  #We have 11 features"
   ]
  },
  {
   "cell_type": "code",
   "execution_count": 9,
   "id": "e7e87126",
   "metadata": {},
   "outputs": [],
   "source": [
    "# df=df.drop(['Type'], axis=1)"
   ]
  },
  {
   "cell_type": "code",
   "execution_count": 10,
   "id": "c36c5642",
   "metadata": {},
   "outputs": [
    {
     "data": {
      "text/html": [
       "<div>\n",
       "<style scoped>\n",
       "    .dataframe tbody tr th:only-of-type {\n",
       "        vertical-align: middle;\n",
       "    }\n",
       "\n",
       "    .dataframe tbody tr th {\n",
       "        vertical-align: top;\n",
       "    }\n",
       "\n",
       "    .dataframe thead th {\n",
       "        text-align: right;\n",
       "    }\n",
       "</style>\n",
       "<table border=\"1\" class=\"dataframe\">\n",
       "  <thead>\n",
       "    <tr style=\"text-align: right;\">\n",
       "      <th></th>\n",
       "      <th>Air temperature [K]</th>\n",
       "      <th>Process temperature [K]</th>\n",
       "      <th>Rotational speed [rpm]</th>\n",
       "      <th>Torque [Nm]</th>\n",
       "      <th>Tool wear [min]</th>\n",
       "      <th>TWF</th>\n",
       "      <th>HDF</th>\n",
       "      <th>PWF</th>\n",
       "      <th>OSF</th>\n",
       "      <th>RNF</th>\n",
       "    </tr>\n",
       "  </thead>\n",
       "  <tbody>\n",
       "    <tr>\n",
       "      <th>0</th>\n",
       "      <td>300.6</td>\n",
       "      <td>309.6</td>\n",
       "      <td>1596</td>\n",
       "      <td>36.1</td>\n",
       "      <td>140</td>\n",
       "      <td>0</td>\n",
       "      <td>0</td>\n",
       "      <td>0</td>\n",
       "      <td>0</td>\n",
       "      <td>0</td>\n",
       "    </tr>\n",
       "    <tr>\n",
       "      <th>1</th>\n",
       "      <td>302.6</td>\n",
       "      <td>312.1</td>\n",
       "      <td>1759</td>\n",
       "      <td>29.1</td>\n",
       "      <td>200</td>\n",
       "      <td>0</td>\n",
       "      <td>0</td>\n",
       "      <td>0</td>\n",
       "      <td>0</td>\n",
       "      <td>0</td>\n",
       "    </tr>\n",
       "    <tr>\n",
       "      <th>2</th>\n",
       "      <td>299.3</td>\n",
       "      <td>308.5</td>\n",
       "      <td>1805</td>\n",
       "      <td>26.5</td>\n",
       "      <td>25</td>\n",
       "      <td>0</td>\n",
       "      <td>0</td>\n",
       "      <td>0</td>\n",
       "      <td>0</td>\n",
       "      <td>0</td>\n",
       "    </tr>\n",
       "    <tr>\n",
       "      <th>3</th>\n",
       "      <td>301.0</td>\n",
       "      <td>310.9</td>\n",
       "      <td>1524</td>\n",
       "      <td>44.3</td>\n",
       "      <td>197</td>\n",
       "      <td>0</td>\n",
       "      <td>0</td>\n",
       "      <td>0</td>\n",
       "      <td>0</td>\n",
       "      <td>0</td>\n",
       "    </tr>\n",
       "    <tr>\n",
       "      <th>4</th>\n",
       "      <td>298.0</td>\n",
       "      <td>309.0</td>\n",
       "      <td>1641</td>\n",
       "      <td>35.4</td>\n",
       "      <td>34</td>\n",
       "      <td>0</td>\n",
       "      <td>0</td>\n",
       "      <td>0</td>\n",
       "      <td>0</td>\n",
       "      <td>0</td>\n",
       "    </tr>\n",
       "  </tbody>\n",
       "</table>\n",
       "</div>"
      ],
      "text/plain": [
       "   Air temperature [K]  Process temperature [K]  Rotational speed [rpm]  \\\n",
       "0                300.6                    309.6                    1596   \n",
       "1                302.6                    312.1                    1759   \n",
       "2                299.3                    308.5                    1805   \n",
       "3                301.0                    310.9                    1524   \n",
       "4                298.0                    309.0                    1641   \n",
       "\n",
       "   Torque [Nm]  Tool wear [min]  TWF  HDF  PWF  OSF  RNF  \n",
       "0         36.1              140    0    0    0    0    0  \n",
       "1         29.1              200    0    0    0    0    0  \n",
       "2         26.5               25    0    0    0    0    0  \n",
       "3         44.3              197    0    0    0    0    0  \n",
       "4         35.4               34    0    0    0    0    0  "
      ]
     },
     "execution_count": 10,
     "metadata": {},
     "output_type": "execute_result"
    }
   ],
   "source": [
    "# df.head(5)"
   ]
  },
  {
   "cell_type": "code",
   "execution_count": 83,
   "id": "909e86a4",
   "metadata": {},
   "outputs": [
    {
     "data": {
      "text/plain": [
       "0    132133\n",
       "Name: TWF, dtype: int64"
      ]
     },
     "execution_count": 83,
     "metadata": {},
     "output_type": "execute_result"
    }
   ],
   "source": [
    "# df['TWF'].value_counts()"
   ]
  },
  {
   "cell_type": "code",
   "execution_count": 11,
   "id": "9f295189",
   "metadata": {},
   "outputs": [],
   "source": [
    "# df.sample(30000,random_state=1)  #Taking random 30k values"
   ]
  },
  {
   "cell_type": "code",
   "execution_count": 12,
   "id": "5ac05883",
   "metadata": {},
   "outputs": [],
   "source": [
    "#converting dataframe to array"
   ]
  },
  {
   "cell_type": "code",
   "execution_count": 13,
   "id": "faada423",
   "metadata": {},
   "outputs": [],
   "source": [
    "x = df.to_numpy()"
   ]
  },
  {
   "cell_type": "code",
   "execution_count": 14,
   "id": "1b960b32",
   "metadata": {},
   "outputs": [
    {
     "data": {
      "text/plain": [
       "(132133, 5)"
      ]
     },
     "execution_count": 14,
     "metadata": {},
     "output_type": "execute_result"
    }
   ],
   "source": [
    "x.shape"
   ]
  },
  {
   "cell_type": "code",
   "execution_count": 15,
   "id": "b38b4b99",
   "metadata": {},
   "outputs": [],
   "source": [
    "def estimate_gaussian(X):\n",
    "#     X -> (m,n) array -> m =examples and n=attributes\n",
    "#     returns : mu -> mean and var -> variance ; (n dimensional arrays) -> (n,)\n",
    "    #code:\n",
    "    \n",
    "    m,n=X.shape\n",
    "    mu_=(1/m)*np.sum(X,axis=0)\n",
    "    mu=mu_.T\n",
    "    var_=np.sum(((X-mu)**2),axis=0)/m\n",
    "    var=var_.T\n",
    "    \n",
    "    return mu,var\n",
    "        \n",
    "        \n"
   ]
  },
  {
   "cell_type": "code",
   "execution_count": 16,
   "id": "81370e95",
   "metadata": {},
   "outputs": [],
   "source": [
    "mu,var=estimate_gaussian(x)"
   ]
  },
  {
   "cell_type": "code",
   "execution_count": 17,
   "id": "28fbcbc0",
   "metadata": {},
   "outputs": [
    {
     "data": {
      "text/plain": [
       "(5,)"
      ]
     },
     "execution_count": 17,
     "metadata": {},
     "output_type": "execute_result"
    }
   ],
   "source": [
    "mu.shape"
   ]
  },
  {
   "cell_type": "code",
   "execution_count": 18,
   "id": "6e478c33",
   "metadata": {},
   "outputs": [
    {
     "data": {
      "text/plain": [
       "array([ 299.8474405 ,  309.93606442, 1521.46349511,   40.18705494,\n",
       "        103.93653364])"
      ]
     },
     "execution_count": 18,
     "metadata": {},
     "output_type": "execute_result"
    }
   ],
   "source": [
    "mu"
   ]
  },
  {
   "cell_type": "code",
   "execution_count": 19,
   "id": "19449f58",
   "metadata": {},
   "outputs": [
    {
     "data": {
      "text/plain": [
       "(5,)"
      ]
     },
     "execution_count": 19,
     "metadata": {},
     "output_type": "execute_result"
    }
   ],
   "source": [
    "var.shape"
   ]
  },
  {
   "cell_type": "code",
   "execution_count": 20,
   "id": "ea251441",
   "metadata": {},
   "outputs": [
    {
     "data": {
      "text/plain": [
       "array([3.44398299e+00, 1.92335262e+00, 1.82080950e+04, 6.90629176e+01,\n",
       "       4.05841599e+03])"
      ]
     },
     "execution_count": 20,
     "metadata": {},
     "output_type": "execute_result"
    }
   ],
   "source": [
    "var"
   ]
  },
  {
   "cell_type": "code",
   "execution_count": 21,
   "id": "9622bed0",
   "metadata": {},
   "outputs": [],
   "source": [
    "#Multivariance gussian\n",
    "def multivariance_gussian(X,mu,var):\n",
    "#     X -> (m,n) array -> m =examples and n=attributes\n",
    "#     mu -> (ndarary,)\n",
    "#     var -> (ndarray,)\n",
    "    \n",
    "    #code:\n",
    "    n_features=X.shape[1]\n",
    "    #constant = 1 / ((2 * np.pi) ** (n_features / 2) * np.sqrt(np.prod(var+(1e-10))))\n",
    "    constant=1\n",
    "    # Compute the exponent term of the Gaussian function\n",
    "    exponent = -np.sum(((X - mu) ** 2) / (var+(1e-10)), axis=1)\n",
    "    \n",
    "    # Compute the probabilities for each sample\n",
    "    probabilities = constant * np.exp(exponent)\n",
    "    \n",
    "    return probabilities\n",
    "    "
   ]
  },
  {
   "cell_type": "code",
   "execution_count": 22,
   "id": "615edb66",
   "metadata": {},
   "outputs": [],
   "source": [
    "#Getting mean and variance of the dataset\n",
    "mu,var=estimate_gaussian(x)"
   ]
  },
  {
   "cell_type": "code",
   "execution_count": 23,
   "id": "b7b29ec1",
   "metadata": {},
   "outputs": [],
   "source": [
    "p=multivariance_gussian(x,mu,var)"
   ]
  },
  {
   "cell_type": "code",
   "execution_count": 24,
   "id": "5f9c8a41",
   "metadata": {},
   "outputs": [
    {
     "data": {
      "text/plain": [
       "(132133,)"
      ]
     },
     "execution_count": 24,
     "metadata": {},
     "output_type": "execute_result"
    }
   ],
   "source": [
    "p.shape"
   ]
  },
  {
   "cell_type": "code",
   "execution_count": 25,
   "id": "484709c7",
   "metadata": {},
   "outputs": [],
   "source": [
    "#Selecting an epsilon for detecting threshold\n",
    "def select_threshold(y_val, p_val): \n",
    "    \"\"\"\n",
    "    Finds the best threshold to use for selecting outliers \n",
    "    based on the results from a validation set (p_val) \n",
    "    and the ground truth (y_val)\n",
    "    \n",
    "    Args:\n",
    "        y_val (ndarray): Ground truth on validation set\n",
    "        p_val (ndarray): Results on validation set\n",
    "        \n",
    "    Returns:\n",
    "        epsilon (float): Threshold chosen \n",
    "        F1 (float):      F1 score by choosing epsilon as threshold\n",
    "    \"\"\" \n",
    "\n",
    "    best_epsilon = 0\n",
    "    best_F1 = 0\n",
    "    F1 = 0\n",
    "    \n",
    "    step_size = (max(p_val) - min(p_val)) / 1000\n",
    "    \n",
    "    for epsilon in np.arange(min(p_val), max(p_val), step_size):\n",
    "    \n",
    "        ### START CODE HERE ### \n",
    "        predictions = (p_val < epsilon)\n",
    "        tp = np.sum((predictions == 1) & (y_val == 1))\n",
    "        fn = np.sum((predictions == 0) & (y_val == 1))\n",
    "        fp = sum((predictions == 1) & (y_val == 0))\n",
    "        prec = tp / (tp + fp)\n",
    "        rec = tp / (tp + fn)\n",
    "        F1 = 2 * prec * rec / (prec + rec)\n",
    "        \n",
    "        \n",
    "        \n",
    "        \n",
    "        \n",
    "        \n",
    "        ### END CODE HERE ### \n",
    "        \n",
    "        if F1 > best_F1:\n",
    "            best_F1 = F1\n",
    "            best_epsilon = epsilon\n",
    "        \n",
    "    return best_epsilon, best_F1"
   ]
  },
  {
   "cell_type": "code",
   "execution_count": 26,
   "id": "a970121b",
   "metadata": {},
   "outputs": [],
   "source": [
    "df_cv=pd.read_csv('final_cv_data_.csv')"
   ]
  },
  {
   "cell_type": "code",
   "execution_count": 27,
   "id": "e42e3800",
   "metadata": {},
   "outputs": [
    {
     "data": {
      "text/html": [
       "<div>\n",
       "<style scoped>\n",
       "    .dataframe tbody tr th:only-of-type {\n",
       "        vertical-align: middle;\n",
       "    }\n",
       "\n",
       "    .dataframe tbody tr th {\n",
       "        vertical-align: top;\n",
       "    }\n",
       "\n",
       "    .dataframe thead th {\n",
       "        text-align: right;\n",
       "    }\n",
       "</style>\n",
       "<table border=\"1\" class=\"dataframe\">\n",
       "  <thead>\n",
       "    <tr style=\"text-align: right;\">\n",
       "      <th></th>\n",
       "      <th>id</th>\n",
       "      <th>Product ID</th>\n",
       "      <th>Type</th>\n",
       "      <th>Air temperature [K]</th>\n",
       "      <th>Process temperature [K]</th>\n",
       "      <th>Rotational speed [rpm]</th>\n",
       "      <th>Torque [Nm]</th>\n",
       "      <th>Tool wear [min]</th>\n",
       "      <th>Machine failure</th>\n",
       "      <th>TWF</th>\n",
       "      <th>HDF</th>\n",
       "      <th>PWF</th>\n",
       "      <th>OSF</th>\n",
       "      <th>RNF</th>\n",
       "    </tr>\n",
       "  </thead>\n",
       "  <tbody>\n",
       "    <tr>\n",
       "      <th>0</th>\n",
       "      <td>90418</td>\n",
       "      <td>L49271</td>\n",
       "      <td>L</td>\n",
       "      <td>299.5</td>\n",
       "      <td>309.2</td>\n",
       "      <td>1399</td>\n",
       "      <td>47.4</td>\n",
       "      <td>20</td>\n",
       "      <td>0</td>\n",
       "      <td>0</td>\n",
       "      <td>0</td>\n",
       "      <td>0</td>\n",
       "      <td>0</td>\n",
       "      <td>0</td>\n",
       "    </tr>\n",
       "    <tr>\n",
       "      <th>1</th>\n",
       "      <td>103002</td>\n",
       "      <td>L53040</td>\n",
       "      <td>L</td>\n",
       "      <td>301.3</td>\n",
       "      <td>311.0</td>\n",
       "      <td>1497</td>\n",
       "      <td>45.5</td>\n",
       "      <td>84</td>\n",
       "      <td>0</td>\n",
       "      <td>0</td>\n",
       "      <td>0</td>\n",
       "      <td>0</td>\n",
       "      <td>0</td>\n",
       "      <td>0</td>\n",
       "    </tr>\n",
       "    <tr>\n",
       "      <th>2</th>\n",
       "      <td>9653</td>\n",
       "      <td>L54424</td>\n",
       "      <td>L</td>\n",
       "      <td>299.8</td>\n",
       "      <td>309.7</td>\n",
       "      <td>1472</td>\n",
       "      <td>42.3</td>\n",
       "      <td>193</td>\n",
       "      <td>0</td>\n",
       "      <td>0</td>\n",
       "      <td>0</td>\n",
       "      <td>0</td>\n",
       "      <td>0</td>\n",
       "      <td>0</td>\n",
       "    </tr>\n",
       "    <tr>\n",
       "      <th>3</th>\n",
       "      <td>106459</td>\n",
       "      <td>M16074</td>\n",
       "      <td>M</td>\n",
       "      <td>296.8</td>\n",
       "      <td>307.8</td>\n",
       "      <td>1419</td>\n",
       "      <td>47.3</td>\n",
       "      <td>0</td>\n",
       "      <td>0</td>\n",
       "      <td>0</td>\n",
       "      <td>0</td>\n",
       "      <td>0</td>\n",
       "      <td>0</td>\n",
       "      <td>0</td>\n",
       "    </tr>\n",
       "    <tr>\n",
       "      <th>4</th>\n",
       "      <td>133925</td>\n",
       "      <td>L50355</td>\n",
       "      <td>L</td>\n",
       "      <td>300.3</td>\n",
       "      <td>309.6</td>\n",
       "      <td>1488</td>\n",
       "      <td>39.7</td>\n",
       "      <td>82</td>\n",
       "      <td>0</td>\n",
       "      <td>0</td>\n",
       "      <td>0</td>\n",
       "      <td>0</td>\n",
       "      <td>0</td>\n",
       "      <td>0</td>\n",
       "    </tr>\n",
       "  </tbody>\n",
       "</table>\n",
       "</div>"
      ],
      "text/plain": [
       "       id Product ID Type  Air temperature [K]  Process temperature [K]  \\\n",
       "0   90418     L49271    L                299.5                    309.2   \n",
       "1  103002     L53040    L                301.3                    311.0   \n",
       "2    9653     L54424    L                299.8                    309.7   \n",
       "3  106459     M16074    M                296.8                    307.8   \n",
       "4  133925     L50355    L                300.3                    309.6   \n",
       "\n",
       "   Rotational speed [rpm]  Torque [Nm]  Tool wear [min]  Machine failure  TWF  \\\n",
       "0                    1399         47.4               20                0    0   \n",
       "1                    1497         45.5               84                0    0   \n",
       "2                    1472         42.3              193                0    0   \n",
       "3                    1419         47.3                0                0    0   \n",
       "4                    1488         39.7               82                0    0   \n",
       "\n",
       "   HDF  PWF  OSF  RNF  \n",
       "0    0    0    0    0  \n",
       "1    0    0    0    0  \n",
       "2    0    0    0    0  \n",
       "3    0    0    0    0  \n",
       "4    0    0    0    0  "
      ]
     },
     "execution_count": 27,
     "metadata": {},
     "output_type": "execute_result"
    }
   ],
   "source": [
    "df_cv.head(5)"
   ]
  },
  {
   "cell_type": "code",
   "execution_count": 28,
   "id": "60f63c54",
   "metadata": {},
   "outputs": [
    {
     "data": {
      "text/plain": [
       "0    1157\n",
       "1    1139\n",
       "Name: Machine failure, dtype: int64"
      ]
     },
     "execution_count": 28,
     "metadata": {},
     "output_type": "execute_result"
    }
   ],
   "source": [
    "df_cv['Machine failure'].value_counts()"
   ]
  },
  {
   "cell_type": "code",
   "execution_count": 29,
   "id": "a79ada4f",
   "metadata": {},
   "outputs": [],
   "source": [
    "y = df_cv['Machine failure']"
   ]
  },
  {
   "cell_type": "code",
   "execution_count": 30,
   "id": "3c470b9c",
   "metadata": {},
   "outputs": [],
   "source": [
    "y = y.to_numpy()"
   ]
  },
  {
   "cell_type": "code",
   "execution_count": 31,
   "id": "8b36bca0",
   "metadata": {},
   "outputs": [
    {
     "data": {
      "text/plain": [
       "(2296,)"
      ]
     },
     "execution_count": 31,
     "metadata": {},
     "output_type": "execute_result"
    }
   ],
   "source": [
    "y.shape"
   ]
  },
  {
   "cell_type": "code",
   "execution_count": 33,
   "id": "f544fdb2",
   "metadata": {},
   "outputs": [],
   "source": [
    "df_cv=df_cv.drop(['id','Product ID','Machine failure','TWF','HDF','PWF','OSF','RNF','Type'], axis=1)"
   ]
  },
  {
   "cell_type": "code",
   "execution_count": 34,
   "id": "e9e9e282",
   "metadata": {},
   "outputs": [
    {
     "data": {
      "text/html": [
       "<div>\n",
       "<style scoped>\n",
       "    .dataframe tbody tr th:only-of-type {\n",
       "        vertical-align: middle;\n",
       "    }\n",
       "\n",
       "    .dataframe tbody tr th {\n",
       "        vertical-align: top;\n",
       "    }\n",
       "\n",
       "    .dataframe thead th {\n",
       "        text-align: right;\n",
       "    }\n",
       "</style>\n",
       "<table border=\"1\" class=\"dataframe\">\n",
       "  <thead>\n",
       "    <tr style=\"text-align: right;\">\n",
       "      <th></th>\n",
       "      <th>Air temperature [K]</th>\n",
       "      <th>Process temperature [K]</th>\n",
       "      <th>Rotational speed [rpm]</th>\n",
       "      <th>Torque [Nm]</th>\n",
       "      <th>Tool wear [min]</th>\n",
       "    </tr>\n",
       "  </thead>\n",
       "  <tbody>\n",
       "    <tr>\n",
       "      <th>0</th>\n",
       "      <td>299.5</td>\n",
       "      <td>309.2</td>\n",
       "      <td>1399</td>\n",
       "      <td>47.4</td>\n",
       "      <td>20</td>\n",
       "    </tr>\n",
       "    <tr>\n",
       "      <th>1</th>\n",
       "      <td>301.3</td>\n",
       "      <td>311.0</td>\n",
       "      <td>1497</td>\n",
       "      <td>45.5</td>\n",
       "      <td>84</td>\n",
       "    </tr>\n",
       "    <tr>\n",
       "      <th>2</th>\n",
       "      <td>299.8</td>\n",
       "      <td>309.7</td>\n",
       "      <td>1472</td>\n",
       "      <td>42.3</td>\n",
       "      <td>193</td>\n",
       "    </tr>\n",
       "    <tr>\n",
       "      <th>3</th>\n",
       "      <td>296.8</td>\n",
       "      <td>307.8</td>\n",
       "      <td>1419</td>\n",
       "      <td>47.3</td>\n",
       "      <td>0</td>\n",
       "    </tr>\n",
       "    <tr>\n",
       "      <th>4</th>\n",
       "      <td>300.3</td>\n",
       "      <td>309.6</td>\n",
       "      <td>1488</td>\n",
       "      <td>39.7</td>\n",
       "      <td>82</td>\n",
       "    </tr>\n",
       "  </tbody>\n",
       "</table>\n",
       "</div>"
      ],
      "text/plain": [
       "   Air temperature [K]  Process temperature [K]  Rotational speed [rpm]  \\\n",
       "0                299.5                    309.2                    1399   \n",
       "1                301.3                    311.0                    1497   \n",
       "2                299.8                    309.7                    1472   \n",
       "3                296.8                    307.8                    1419   \n",
       "4                300.3                    309.6                    1488   \n",
       "\n",
       "   Torque [Nm]  Tool wear [min]  \n",
       "0         47.4               20  \n",
       "1         45.5               84  \n",
       "2         42.3              193  \n",
       "3         47.3                0  \n",
       "4         39.7               82  "
      ]
     },
     "execution_count": 34,
     "metadata": {},
     "output_type": "execute_result"
    }
   ],
   "source": [
    "df_cv.head(5)"
   ]
  },
  {
   "cell_type": "code",
   "execution_count": 35,
   "id": "703c644f",
   "metadata": {},
   "outputs": [],
   "source": [
    "x_cv = df_cv.to_numpy()"
   ]
  },
  {
   "cell_type": "code",
   "execution_count": 36,
   "id": "46b2f8ff",
   "metadata": {},
   "outputs": [
    {
     "data": {
      "text/plain": [
       "(2296, 5)"
      ]
     },
     "execution_count": 36,
     "metadata": {},
     "output_type": "execute_result"
    }
   ],
   "source": [
    "x_cv.shape"
   ]
  },
  {
   "cell_type": "code",
   "execution_count": 37,
   "id": "fd32379b",
   "metadata": {},
   "outputs": [],
   "source": [
    "# y->   ground truth labels array\n",
    "# x_cv->cross validation dataset array"
   ]
  },
  {
   "cell_type": "code",
   "execution_count": 38,
   "id": "edd50568",
   "metadata": {},
   "outputs": [],
   "source": [
    "p_val=multivariance_gussian(x_cv,mu,var)"
   ]
  },
  {
   "cell_type": "code",
   "execution_count": 39,
   "id": "7b808077",
   "metadata": {},
   "outputs": [
    {
     "data": {
      "text/plain": [
       "(2296,)"
      ]
     },
     "execution_count": 39,
     "metadata": {},
     "output_type": "execute_result"
    }
   ],
   "source": [
    "p_val.shape"
   ]
  },
  {
   "cell_type": "code",
   "execution_count": 40,
   "id": "168fd66b",
   "metadata": {},
   "outputs": [
    {
     "data": {
      "text/plain": [
       "array([2.65239305e-02, 1.75397530e-01, 1.12683339e-01, ...,\n",
       "       1.49324315e-04, 3.07699738e-02, 1.74237363e-03])"
      ]
     },
     "execution_count": 40,
     "metadata": {},
     "output_type": "execute_result"
    }
   ],
   "source": [
    "p_val"
   ]
  },
  {
   "cell_type": "code",
   "execution_count": 41,
   "id": "53c7f120",
   "metadata": {},
   "outputs": [
    {
     "name": "stderr",
     "output_type": "stream",
     "text": [
      "C:\\Users\\hrith\\AppData\\Local\\Temp\\ipykernel_24900\\251301137.py:30: RuntimeWarning: invalid value encountered in long_scalars\n",
      "  prec = tp / (tp + fp)\n"
     ]
    }
   ],
   "source": [
    "best_epsilon, best_F1=select_threshold(y, p_val)"
   ]
  },
  {
   "cell_type": "code",
   "execution_count": 42,
   "id": "c14b2a59",
   "metadata": {},
   "outputs": [
    {
     "data": {
      "text/plain": [
       "0.013399584845001979"
      ]
     },
     "execution_count": 42,
     "metadata": {},
     "output_type": "execute_result"
    }
   ],
   "source": [
    "best_epsilon"
   ]
  },
  {
   "cell_type": "code",
   "execution_count": 43,
   "id": "09ee4cfc",
   "metadata": {},
   "outputs": [],
   "source": [
    "outliers = p_val < best_epsilon"
   ]
  },
  {
   "cell_type": "code",
   "execution_count": 44,
   "id": "69ac8f16",
   "metadata": {},
   "outputs": [],
   "source": [
    "outliers =outliers.astype(int)"
   ]
  },
  {
   "cell_type": "code",
   "execution_count": 45,
   "id": "221470a2",
   "metadata": {},
   "outputs": [
    {
     "data": {
      "text/plain": [
       "(2296,)"
      ]
     },
     "execution_count": 45,
     "metadata": {},
     "output_type": "execute_result"
    }
   ],
   "source": [
    "outliers.shape"
   ]
  },
  {
   "cell_type": "code",
   "execution_count": 46,
   "id": "6cab506f",
   "metadata": {},
   "outputs": [],
   "source": [
    "#Counting the number of correct predictions :\n",
    "count_correct=0\n",
    "for i in range(len(outliers)):\n",
    "    if outliers[i]==y[i]:\n",
    "       count_correct=count_correct+1"
   ]
  },
  {
   "cell_type": "code",
   "execution_count": 47,
   "id": "7e9279b5",
   "metadata": {},
   "outputs": [
    {
     "name": "stdout",
     "output_type": "stream",
     "text": [
      "1699\n"
     ]
    }
   ],
   "source": [
    "print(count_correct)   #Correct Precictions"
   ]
  },
  {
   "cell_type": "code",
   "execution_count": 48,
   "id": "2ab7afec",
   "metadata": {},
   "outputs": [
    {
     "data": {
      "text/plain": [
       "(2296,)"
      ]
     },
     "execution_count": 48,
     "metadata": {},
     "output_type": "execute_result"
    }
   ],
   "source": [
    "y.shape    #Total Predictions"
   ]
  },
  {
   "cell_type": "code",
   "execution_count": 49,
   "id": "914a14d0",
   "metadata": {},
   "outputs": [],
   "source": [
    "# Detected 1669 outoff 2296 cases correctly for cross validation set"
   ]
  },
  {
   "cell_type": "code",
   "execution_count": 50,
   "id": "69c94164",
   "metadata": {},
   "outputs": [],
   "source": [
    "c=0\n",
    "for i in range(len(y)):\n",
    "    if y[i]==1:\n",
    "        c=c+1\n",
    "    "
   ]
  },
  {
   "cell_type": "code",
   "execution_count": 51,
   "id": "703ed2ed",
   "metadata": {},
   "outputs": [
    {
     "name": "stdout",
     "output_type": "stream",
     "text": [
      "1139\n"
     ]
    }
   ],
   "source": [
    "print(c)"
   ]
  },
  {
   "cell_type": "code",
   "execution_count": 52,
   "id": "fb2d4983",
   "metadata": {},
   "outputs": [],
   "source": [
    "# 1139 -> not working"
   ]
  },
  {
   "cell_type": "code",
   "execution_count": 53,
   "id": "200f4d7d",
   "metadata": {},
   "outputs": [],
   "source": [
    "#Counting when machine was faulty and was detected as faulty\n",
    "count_faulty_correct=0\n",
    "for i in range(len(outliers)):\n",
    "    if outliers[i]==1 and y[i]==1:\n",
    "        count_faulty_correct=count_faulty_correct+1"
   ]
  },
  {
   "cell_type": "code",
   "execution_count": 54,
   "id": "7c6bf80b",
   "metadata": {},
   "outputs": [
    {
     "name": "stdout",
     "output_type": "stream",
     "text": [
      "1040\n"
     ]
    }
   ],
   "source": [
    "print(count_faulty_correct)   #Not working engines detected"
   ]
  },
  {
   "cell_type": "code",
   "execution_count": 55,
   "id": "ce31998e",
   "metadata": {},
   "outputs": [],
   "source": [
    "# Detected 1040 outoff 1139 not working engines correctly for cross validation set"
   ]
  },
  {
   "cell_type": "code",
   "execution_count": 57,
   "id": "0c6e4d47",
   "metadata": {},
   "outputs": [
    {
     "data": {
      "text/plain": [
       "0.7269163763066202"
      ]
     },
     "execution_count": 57,
     "metadata": {},
     "output_type": "execute_result"
    }
   ],
   "source": [
    "1669/2296   #Droping those columns didnt halp help at all"
   ]
  },
  {
   "cell_type": "markdown",
   "id": "623e50c6",
   "metadata": {},
   "source": [
    "86.32% accuracy"
   ]
  },
  {
   "cell_type": "code",
   "execution_count": null,
   "id": "6ce8e6aa",
   "metadata": {},
   "outputs": [],
   "source": []
  }
 ],
 "metadata": {
  "kernelspec": {
   "display_name": "Python 3 (ipykernel)",
   "language": "python",
   "name": "python3"
  },
  "language_info": {
   "codemirror_mode": {
    "name": "ipython",
    "version": 3
   },
   "file_extension": ".py",
   "mimetype": "text/x-python",
   "name": "python",
   "nbconvert_exporter": "python",
   "pygments_lexer": "ipython3",
   "version": "3.10.1"
  }
 },
 "nbformat": 4,
 "nbformat_minor": 5
}
