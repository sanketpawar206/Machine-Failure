{
 "cells": [
  {
   "cell_type": "code",
   "execution_count": 16,
   "id": "c3492095",
   "metadata": {},
   "outputs": [],
   "source": [
    "#We will be using anomoly detection for this"
   ]
  },
  {
   "cell_type": "markdown",
   "id": "960fc058",
   "metadata": {},
   "source": [
    "https://www.coursera.org/learn/unsupervised-learning-recommenders-reinforcement-learning/programming/Rqh9M/anomaly-detection/lab?path=%2Fnotebooks%2FC3_W1_Anomaly_Detection.ipynb"
   ]
  },
  {
   "cell_type": "code",
   "execution_count": 2,
   "id": "e5d96832",
   "metadata": {},
   "outputs": [],
   "source": [
    "import pandas as pd\n",
    "import numpy as np\n",
    "import matplotlib.pyplot as plt\n",
    "%matplotlib inline"
   ]
  },
  {
   "cell_type": "code",
   "execution_count": 21,
   "id": "af9fa223",
   "metadata": {},
   "outputs": [],
   "source": [
    "df=pd.read_csv('train.csv')"
   ]
  },
  {
   "cell_type": "code",
   "execution_count": 22,
   "id": "5b82ab26",
   "metadata": {},
   "outputs": [
    {
     "data": {
      "text/html": [
       "<div>\n",
       "<style scoped>\n",
       "    .dataframe tbody tr th:only-of-type {\n",
       "        vertical-align: middle;\n",
       "    }\n",
       "\n",
       "    .dataframe tbody tr th {\n",
       "        vertical-align: top;\n",
       "    }\n",
       "\n",
       "    .dataframe thead th {\n",
       "        text-align: right;\n",
       "    }\n",
       "</style>\n",
       "<table border=\"1\" class=\"dataframe\">\n",
       "  <thead>\n",
       "    <tr style=\"text-align: right;\">\n",
       "      <th></th>\n",
       "      <th>id</th>\n",
       "      <th>Product ID</th>\n",
       "      <th>Type</th>\n",
       "      <th>Air temperature [K]</th>\n",
       "      <th>Process temperature [K]</th>\n",
       "      <th>Rotational speed [rpm]</th>\n",
       "      <th>Torque [Nm]</th>\n",
       "      <th>Tool wear [min]</th>\n",
       "      <th>Machine failure</th>\n",
       "      <th>TWF</th>\n",
       "      <th>HDF</th>\n",
       "      <th>PWF</th>\n",
       "      <th>OSF</th>\n",
       "      <th>RNF</th>\n",
       "    </tr>\n",
       "  </thead>\n",
       "  <tbody>\n",
       "    <tr>\n",
       "      <th>0</th>\n",
       "      <td>0</td>\n",
       "      <td>L50096</td>\n",
       "      <td>L</td>\n",
       "      <td>300.6</td>\n",
       "      <td>309.6</td>\n",
       "      <td>1596</td>\n",
       "      <td>36.1</td>\n",
       "      <td>140</td>\n",
       "      <td>0</td>\n",
       "      <td>0</td>\n",
       "      <td>0</td>\n",
       "      <td>0</td>\n",
       "      <td>0</td>\n",
       "      <td>0</td>\n",
       "    </tr>\n",
       "    <tr>\n",
       "      <th>1</th>\n",
       "      <td>1</td>\n",
       "      <td>M20343</td>\n",
       "      <td>M</td>\n",
       "      <td>302.6</td>\n",
       "      <td>312.1</td>\n",
       "      <td>1759</td>\n",
       "      <td>29.1</td>\n",
       "      <td>200</td>\n",
       "      <td>0</td>\n",
       "      <td>0</td>\n",
       "      <td>0</td>\n",
       "      <td>0</td>\n",
       "      <td>0</td>\n",
       "      <td>0</td>\n",
       "    </tr>\n",
       "    <tr>\n",
       "      <th>2</th>\n",
       "      <td>2</td>\n",
       "      <td>L49454</td>\n",
       "      <td>L</td>\n",
       "      <td>299.3</td>\n",
       "      <td>308.5</td>\n",
       "      <td>1805</td>\n",
       "      <td>26.5</td>\n",
       "      <td>25</td>\n",
       "      <td>0</td>\n",
       "      <td>0</td>\n",
       "      <td>0</td>\n",
       "      <td>0</td>\n",
       "      <td>0</td>\n",
       "      <td>0</td>\n",
       "    </tr>\n",
       "    <tr>\n",
       "      <th>3</th>\n",
       "      <td>3</td>\n",
       "      <td>L53355</td>\n",
       "      <td>L</td>\n",
       "      <td>301.0</td>\n",
       "      <td>310.9</td>\n",
       "      <td>1524</td>\n",
       "      <td>44.3</td>\n",
       "      <td>197</td>\n",
       "      <td>0</td>\n",
       "      <td>0</td>\n",
       "      <td>0</td>\n",
       "      <td>0</td>\n",
       "      <td>0</td>\n",
       "      <td>0</td>\n",
       "    </tr>\n",
       "    <tr>\n",
       "      <th>4</th>\n",
       "      <td>4</td>\n",
       "      <td>M24050</td>\n",
       "      <td>M</td>\n",
       "      <td>298.0</td>\n",
       "      <td>309.0</td>\n",
       "      <td>1641</td>\n",
       "      <td>35.4</td>\n",
       "      <td>34</td>\n",
       "      <td>0</td>\n",
       "      <td>0</td>\n",
       "      <td>0</td>\n",
       "      <td>0</td>\n",
       "      <td>0</td>\n",
       "      <td>0</td>\n",
       "    </tr>\n",
       "  </tbody>\n",
       "</table>\n",
       "</div>"
      ],
      "text/plain": [
       "   id Product ID Type  Air temperature [K]  Process temperature [K]  \\\n",
       "0   0     L50096    L                300.6                    309.6   \n",
       "1   1     M20343    M                302.6                    312.1   \n",
       "2   2     L49454    L                299.3                    308.5   \n",
       "3   3     L53355    L                301.0                    310.9   \n",
       "4   4     M24050    M                298.0                    309.0   \n",
       "\n",
       "   Rotational speed [rpm]  Torque [Nm]  Tool wear [min]  Machine failure  TWF  \\\n",
       "0                    1596         36.1              140                0    0   \n",
       "1                    1759         29.1              200                0    0   \n",
       "2                    1805         26.5               25                0    0   \n",
       "3                    1524         44.3              197                0    0   \n",
       "4                    1641         35.4               34                0    0   \n",
       "\n",
       "   HDF  PWF  OSF  RNF  \n",
       "0    0    0    0    0  \n",
       "1    0    0    0    0  \n",
       "2    0    0    0    0  \n",
       "3    0    0    0    0  \n",
       "4    0    0    0    0  "
      ]
     },
     "execution_count": 22,
     "metadata": {},
     "output_type": "execute_result"
    }
   ],
   "source": [
    "df.head(5)"
   ]
  },
  {
   "cell_type": "code",
   "execution_count": 23,
   "id": "8ae9440c",
   "metadata": {},
   "outputs": [
    {
     "data": {
      "text/plain": [
       "(136429, 14)"
      ]
     },
     "execution_count": 23,
     "metadata": {},
     "output_type": "execute_result"
    }
   ],
   "source": [
    "df.shape"
   ]
  },
  {
   "cell_type": "raw",
   "id": "937ccbc9",
   "metadata": {},
   "source": [
    "#Todays Tasks (3/7/2023)\n",
    "1. Change data -> Train and cv set\n",
    "2. 30k dataset -> handel missing values if any"
   ]
  },
  {
   "cell_type": "markdown",
   "id": "fdf4ad5e",
   "metadata": {},
   "source": [
    "##  <center> creating TEST and CV datasets </center>"
   ]
  },
  {
   "cell_type": "code",
   "execution_count": 25,
   "id": "0eb74817",
   "metadata": {},
   "outputs": [
    {
     "data": {
      "text/plain": [
       "0    134281\n",
       "1      2148\n",
       "Name: Machine failure, dtype: int64"
      ]
     },
     "execution_count": 25,
     "metadata": {},
     "output_type": "execute_result"
    }
   ],
   "source": [
    "df['Machine failure'].value_counts()"
   ]
  },
  {
   "cell_type": "code",
   "execution_count": 26,
   "id": "aa4faa18",
   "metadata": {},
   "outputs": [],
   "source": [
    "new_df = df[df['Machine failure'] ==0 ]                  "
   ]
  },
  {
   "cell_type": "code",
   "execution_count": 28,
   "id": "2633a586",
   "metadata": {},
   "outputs": [
    {
     "data": {
      "text/plain": [
       "0    134281\n",
       "Name: Machine failure, dtype: int64"
      ]
     },
     "execution_count": 28,
     "metadata": {},
     "output_type": "execute_result"
    }
   ],
   "source": [
    "new_df['Machine failure'].value_counts()"
   ]
  },
  {
   "cell_type": "code",
   "execution_count": 29,
   "id": "d0ace100",
   "metadata": {},
   "outputs": [],
   "source": [
    "# new_df.to_csv('only_train.csv', index=False)"
   ]
  },
  {
   "cell_type": "code",
   "execution_count": 30,
   "id": "a895895a",
   "metadata": {},
   "outputs": [],
   "source": [
    "new_dfcv = df[df['Machine failure'] ==1 ]   "
   ]
  },
  {
   "cell_type": "code",
   "execution_count": 31,
   "id": "17f477fb",
   "metadata": {},
   "outputs": [
    {
     "data": {
      "text/plain": [
       "1    2148\n",
       "Name: Machine failure, dtype: int64"
      ]
     },
     "execution_count": 31,
     "metadata": {},
     "output_type": "execute_result"
    }
   ],
   "source": [
    "new_dfcv['Machine failure'].value_counts()"
   ]
  },
  {
   "cell_type": "code",
   "execution_count": 32,
   "id": "efe30c44",
   "metadata": {},
   "outputs": [],
   "source": [
    "# new_dfcv.to_csv('only_cv.csv', index=False)"
   ]
  },
  {
   "cell_type": "code",
   "execution_count": 33,
   "id": "84bffd3a",
   "metadata": {},
   "outputs": [],
   "source": [
    "df=pd.read_csv('only_train.csv')"
   ]
  },
  {
   "cell_type": "code",
   "execution_count": 34,
   "id": "dab96500",
   "metadata": {},
   "outputs": [
    {
     "data": {
      "text/html": [
       "<div>\n",
       "<style scoped>\n",
       "    .dataframe tbody tr th:only-of-type {\n",
       "        vertical-align: middle;\n",
       "    }\n",
       "\n",
       "    .dataframe tbody tr th {\n",
       "        vertical-align: top;\n",
       "    }\n",
       "\n",
       "    .dataframe thead th {\n",
       "        text-align: right;\n",
       "    }\n",
       "</style>\n",
       "<table border=\"1\" class=\"dataframe\">\n",
       "  <thead>\n",
       "    <tr style=\"text-align: right;\">\n",
       "      <th></th>\n",
       "      <th>id</th>\n",
       "      <th>Product ID</th>\n",
       "      <th>Type</th>\n",
       "      <th>Air temperature [K]</th>\n",
       "      <th>Process temperature [K]</th>\n",
       "      <th>Rotational speed [rpm]</th>\n",
       "      <th>Torque [Nm]</th>\n",
       "      <th>Tool wear [min]</th>\n",
       "      <th>Machine failure</th>\n",
       "      <th>TWF</th>\n",
       "      <th>HDF</th>\n",
       "      <th>PWF</th>\n",
       "      <th>OSF</th>\n",
       "      <th>RNF</th>\n",
       "    </tr>\n",
       "  </thead>\n",
       "  <tbody>\n",
       "    <tr>\n",
       "      <th>0</th>\n",
       "      <td>0</td>\n",
       "      <td>L50096</td>\n",
       "      <td>L</td>\n",
       "      <td>300.6</td>\n",
       "      <td>309.6</td>\n",
       "      <td>1596</td>\n",
       "      <td>36.1</td>\n",
       "      <td>140</td>\n",
       "      <td>0</td>\n",
       "      <td>0</td>\n",
       "      <td>0</td>\n",
       "      <td>0</td>\n",
       "      <td>0</td>\n",
       "      <td>0</td>\n",
       "    </tr>\n",
       "    <tr>\n",
       "      <th>1</th>\n",
       "      <td>1</td>\n",
       "      <td>M20343</td>\n",
       "      <td>M</td>\n",
       "      <td>302.6</td>\n",
       "      <td>312.1</td>\n",
       "      <td>1759</td>\n",
       "      <td>29.1</td>\n",
       "      <td>200</td>\n",
       "      <td>0</td>\n",
       "      <td>0</td>\n",
       "      <td>0</td>\n",
       "      <td>0</td>\n",
       "      <td>0</td>\n",
       "      <td>0</td>\n",
       "    </tr>\n",
       "    <tr>\n",
       "      <th>2</th>\n",
       "      <td>2</td>\n",
       "      <td>L49454</td>\n",
       "      <td>L</td>\n",
       "      <td>299.3</td>\n",
       "      <td>308.5</td>\n",
       "      <td>1805</td>\n",
       "      <td>26.5</td>\n",
       "      <td>25</td>\n",
       "      <td>0</td>\n",
       "      <td>0</td>\n",
       "      <td>0</td>\n",
       "      <td>0</td>\n",
       "      <td>0</td>\n",
       "      <td>0</td>\n",
       "    </tr>\n",
       "    <tr>\n",
       "      <th>3</th>\n",
       "      <td>3</td>\n",
       "      <td>L53355</td>\n",
       "      <td>L</td>\n",
       "      <td>301.0</td>\n",
       "      <td>310.9</td>\n",
       "      <td>1524</td>\n",
       "      <td>44.3</td>\n",
       "      <td>197</td>\n",
       "      <td>0</td>\n",
       "      <td>0</td>\n",
       "      <td>0</td>\n",
       "      <td>0</td>\n",
       "      <td>0</td>\n",
       "      <td>0</td>\n",
       "    </tr>\n",
       "    <tr>\n",
       "      <th>4</th>\n",
       "      <td>4</td>\n",
       "      <td>M24050</td>\n",
       "      <td>M</td>\n",
       "      <td>298.0</td>\n",
       "      <td>309.0</td>\n",
       "      <td>1641</td>\n",
       "      <td>35.4</td>\n",
       "      <td>34</td>\n",
       "      <td>0</td>\n",
       "      <td>0</td>\n",
       "      <td>0</td>\n",
       "      <td>0</td>\n",
       "      <td>0</td>\n",
       "      <td>0</td>\n",
       "    </tr>\n",
       "  </tbody>\n",
       "</table>\n",
       "</div>"
      ],
      "text/plain": [
       "   id Product ID Type  Air temperature [K]  Process temperature [K]  \\\n",
       "0   0     L50096    L                300.6                    309.6   \n",
       "1   1     M20343    M                302.6                    312.1   \n",
       "2   2     L49454    L                299.3                    308.5   \n",
       "3   3     L53355    L                301.0                    310.9   \n",
       "4   4     M24050    M                298.0                    309.0   \n",
       "\n",
       "   Rotational speed [rpm]  Torque [Nm]  Tool wear [min]  Machine failure  TWF  \\\n",
       "0                    1596         36.1              140                0    0   \n",
       "1                    1759         29.1              200                0    0   \n",
       "2                    1805         26.5               25                0    0   \n",
       "3                    1524         44.3              197                0    0   \n",
       "4                    1641         35.4               34                0    0   \n",
       "\n",
       "   HDF  PWF  OSF  RNF  \n",
       "0    0    0    0    0  \n",
       "1    0    0    0    0  \n",
       "2    0    0    0    0  \n",
       "3    0    0    0    0  \n",
       "4    0    0    0    0  "
      ]
     },
     "execution_count": 34,
     "metadata": {},
     "output_type": "execute_result"
    }
   ],
   "source": [
    "df.head(5)"
   ]
  },
  {
   "cell_type": "code",
   "execution_count": 36,
   "id": "b8c78b55",
   "metadata": {},
   "outputs": [
    {
     "data": {
      "text/plain": [
       "L    1595\n",
       "M     437\n",
       "H     116\n",
       "Name: Type, dtype: int64"
      ]
     },
     "execution_count": 36,
     "metadata": {},
     "output_type": "execute_result"
    }
   ],
   "source": [
    "df['Type'].value_counts()"
   ]
  },
  {
   "cell_type": "markdown",
   "id": "abc0b505",
   "metadata": {},
   "source": [
    "# <center> PLOTTING DATA \"only_cv.csv\" <center>"
   ]
  },
  {
   "cell_type": "markdown",
   "id": "0b5ca1e6",
   "metadata": {},
   "source": [
    "All values in train data have non working engine"
   ]
  },
  {
   "cell_type": "code",
   "execution_count": 3,
   "id": "dd38fa72",
   "metadata": {},
   "outputs": [],
   "source": [
    "df=pd.read_csv('only_cv.csv')"
   ]
  },
  {
   "cell_type": "code",
   "execution_count": 10,
   "id": "b8cf22dc",
   "metadata": {},
   "outputs": [
    {
     "data": {
      "text/plain": [
       "1    2148\n",
       "Name: Machine failure, dtype: int64"
      ]
     },
     "execution_count": 10,
     "metadata": {},
     "output_type": "execute_result"
    }
   ],
   "source": [
    "df['Machine failure'].value_counts()"
   ]
  },
  {
   "cell_type": "markdown",
   "id": "b75a51c5",
   "metadata": {},
   "source": [
    "### AIR Temperature"
   ]
  },
  {
   "cell_type": "code",
   "execution_count": 34,
   "id": "039b725d",
   "metadata": {},
   "outputs": [
    {
     "data": {
      "text/plain": [
       "Text(0.5, 0, 'Data')"
      ]
     },
     "execution_count": 34,
     "metadata": {},
     "output_type": "execute_result"
    },
    {
     "data": {
      "image/png": "[encoded data removed]",
      "text/plain": [
       "<Figure size 432x288 with 1 Axes>"
      ]
     },
     "metadata": {
      "needs_background": "light"
     },
     "output_type": "display_data"
    }
   ],
   "source": [
    "plt.hist(df['Air temperature [K]'],density=True, bins=20)\n",
    "plt.ylabel('Probability')\n",
    "plt.xlabel('Data')"
   ]
  },
  {
   "cell_type": "code",
   "execution_count": 12,
   "id": "7f55aedd",
   "metadata": {},
   "outputs": [
    {
     "data": {
      "text/plain": [
       "304.4"
      ]
     },
     "execution_count": 12,
     "metadata": {},
     "output_type": "execute_result"
    }
   ],
   "source": [
    "max(df['Air temperature [K]'])   #max temperature"
   ]
  },
  {
   "cell_type": "code",
   "execution_count": 13,
   "id": "93fb13ba",
   "metadata": {},
   "outputs": [
    {
     "data": {
      "text/plain": [
       "295.6"
      ]
     },
     "execution_count": 13,
     "metadata": {},
     "output_type": "execute_result"
    }
   ],
   "source": [
    "min(df['Air temperature [K]']) #min temperature"
   ]
  },
  {
   "cell_type": "markdown",
   "id": "23a8c5f0",
   "metadata": {},
   "source": [
    "### Process temperature [K]"
   ]
  },
  {
   "cell_type": "code",
   "execution_count": 35,
   "id": "0fcacea0",
   "metadata": {},
   "outputs": [
    {
     "data": {
      "text/plain": [
       "Text(0.5, 0, 'Data')"
      ]
     },
     "execution_count": 35,
     "metadata": {},
     "output_type": "execute_result"
    },
    {
     "data": {
      "image/png": "[encoded data removed]",
      "text/plain": [
       "<Figure size 432x288 with 1 Axes>"
      ]
     },
     "metadata": {
      "needs_background": "light"
     },
     "output_type": "display_data"
    }
   ],
   "source": [
    "plt.hist(df['Process temperature [K]'],density=True, bins=20)\n",
    "plt.ylabel('Probability')\n",
    "plt.xlabel('Data')"
   ]
  },
  {
   "cell_type": "code",
   "execution_count": 15,
   "id": "9661326b",
   "metadata": {},
   "outputs": [
    {
     "data": {
      "text/plain": [
       "313.6"
      ]
     },
     "execution_count": 15,
     "metadata": {},
     "output_type": "execute_result"
    }
   ],
   "source": [
    "max(df['Process temperature [K]'])"
   ]
  },
  {
   "cell_type": "code",
   "execution_count": 16,
   "id": "b4685e10",
   "metadata": {},
   "outputs": [
    {
     "data": {
      "text/plain": [
       "306.0"
      ]
     },
     "execution_count": 16,
     "metadata": {},
     "output_type": "execute_result"
    }
   ],
   "source": [
    "min(df['Process temperature [K]']) "
   ]
  },
  {
   "cell_type": "markdown",
   "id": "62dbe253",
   "metadata": {},
   "source": [
    "### Rotational speed [rpm]"
   ]
  },
  {
   "cell_type": "code",
   "execution_count": 17,
   "id": "72080fd8",
   "metadata": {},
   "outputs": [
    {
     "data": {
      "text/plain": [
       "Text(0.5, 0, 'Data')"
      ]
     },
     "execution_count": 17,
     "metadata": {},
     "output_type": "execute_result"
    },
    {
     "data": {
      "image/png": "[encoded data removed]",
      "text/plain": [
       "<Figure size 432x288 with 1 Axes>"
      ]
     },
     "metadata": {
      "needs_background": "light"
     },
     "output_type": "display_data"
    }
   ],
   "source": [
    "plt.hist(df['Rotational speed [rpm]'],density=True, bins=50)\n",
    "plt.ylabel('Probability')\n",
    "plt.xlabel('Data')"
   ]
  },
  {
   "cell_type": "code",
   "execution_count": 18,
   "id": "96081f4d",
   "metadata": {},
   "outputs": [
    {
     "data": {
      "text/plain": [
       "2886"
      ]
     },
     "execution_count": 18,
     "metadata": {},
     "output_type": "execute_result"
    }
   ],
   "source": [
    "max(df['Rotational speed [rpm]'])"
   ]
  },
  {
   "cell_type": "code",
   "execution_count": 19,
   "id": "d14b4915",
   "metadata": {},
   "outputs": [
    {
     "data": {
      "text/plain": [
       "1181"
      ]
     },
     "execution_count": 19,
     "metadata": {},
     "output_type": "execute_result"
    }
   ],
   "source": [
    "min(df['Rotational speed [rpm]'])"
   ]
  },
  {
   "cell_type": "markdown",
   "id": "7dac139f",
   "metadata": {},
   "source": [
    "### Torque [Nm]"
   ]
  },
  {
   "cell_type": "code",
   "execution_count": 20,
   "id": "d4fbd9f0",
   "metadata": {},
   "outputs": [
    {
     "data": {
      "text/plain": [
       "Text(0.5, 0, 'Data')"
      ]
     },
     "execution_count": 20,
     "metadata": {},
     "output_type": "execute_result"
    },
    {
     "data": {
      "image/png": "[encoded data removed]",
      "text/plain": [
       "<Figure size 432x288 with 1 Axes>"
      ]
     },
     "metadata": {
      "needs_background": "light"
     },
     "output_type": "display_data"
    }
   ],
   "source": [
    "plt.hist(df['Torque [Nm]'],density=True, bins=50)\n",
    "plt.ylabel('Probability')\n",
    "plt.xlabel('Data')"
   ]
  },
  {
   "cell_type": "code",
   "execution_count": 21,
   "id": "c872f1c7",
   "metadata": {},
   "outputs": [
    {
     "data": {
      "text/plain": [
       "76.6"
      ]
     },
     "execution_count": 21,
     "metadata": {},
     "output_type": "execute_result"
    }
   ],
   "source": [
    "max(df['Torque [Nm]'])"
   ]
  },
  {
   "cell_type": "code",
   "execution_count": 22,
   "id": "3342991d",
   "metadata": {},
   "outputs": [
    {
     "data": {
      "text/plain": [
       "3.8"
      ]
     },
     "execution_count": 22,
     "metadata": {},
     "output_type": "execute_result"
    }
   ],
   "source": [
    "min(df['Torque [Nm]'])"
   ]
  },
  {
   "cell_type": "markdown",
   "id": "868d7e2e",
   "metadata": {},
   "source": [
    "### Tool wear [min]"
   ]
  },
  {
   "cell_type": "code",
   "execution_count": 23,
   "id": "c1868e37",
   "metadata": {},
   "outputs": [
    {
     "data": {
      "text/plain": [
       "Text(0.5, 0, 'Data')"
      ]
     },
     "execution_count": 23,
     "metadata": {},
     "output_type": "execute_result"
    },
    {
     "data": {
      "image/png": "[encoded data removed]",
      "text/plain": [
       "<Figure size 432x288 with 1 Axes>"
      ]
     },
     "metadata": {
      "needs_background": "light"
     },
     "output_type": "display_data"
    }
   ],
   "source": [
    "plt.hist(df['Tool wear [min]'],density=True, bins=50)\n",
    "plt.ylabel('Probability')\n",
    "plt.xlabel('Data')"
   ]
  },
  {
   "cell_type": "code",
   "execution_count": 26,
   "id": "66c693da",
   "metadata": {},
   "outputs": [
    {
     "data": {
      "text/plain": [
       "0"
      ]
     },
     "execution_count": 26,
     "metadata": {},
     "output_type": "execute_result"
    }
   ],
   "source": [
    "min(df['Tool wear [min]'])"
   ]
  },
  {
   "cell_type": "code",
   "execution_count": 27,
   "id": "e6049323",
   "metadata": {},
   "outputs": [
    {
     "data": {
      "text/plain": [
       "253"
      ]
     },
     "execution_count": 27,
     "metadata": {},
     "output_type": "execute_result"
    }
   ],
   "source": [
    "max(df['Tool wear [min]'])"
   ]
  },
  {
   "cell_type": "markdown",
   "id": "6aa7648d",
   "metadata": {},
   "source": [
    "### Other Data"
   ]
  },
  {
   "cell_type": "code",
   "execution_count": 28,
   "id": "fcfd62db",
   "metadata": {},
   "outputs": [
    {
     "data": {
      "text/plain": [
       "0    1936\n",
       "1     212\n",
       "Name: TWF, dtype: int64"
      ]
     },
     "execution_count": 28,
     "metadata": {},
     "output_type": "execute_result"
    }
   ],
   "source": [
    "df['TWF'].value_counts()"
   ]
  },
  {
   "cell_type": "code",
   "execution_count": 29,
   "id": "9a953754",
   "metadata": {},
   "outputs": [
    {
     "data": {
      "text/plain": [
       "0    1450\n",
       "1     698\n",
       "Name: HDF, dtype: int64"
      ]
     },
     "execution_count": 29,
     "metadata": {},
     "output_type": "execute_result"
    }
   ],
   "source": [
    "df['HDF'].value_counts()"
   ]
  },
  {
   "cell_type": "code",
   "execution_count": 30,
   "id": "371576dd",
   "metadata": {},
   "outputs": [
    {
     "data": {
      "text/plain": [
       "0    1824\n",
       "1     324\n",
       "Name: PWF, dtype: int64"
      ]
     },
     "execution_count": 30,
     "metadata": {},
     "output_type": "execute_result"
    }
   ],
   "source": [
    "df['PWF'].value_counts()"
   ]
  },
  {
   "cell_type": "code",
   "execution_count": 31,
   "id": "6159a9e7",
   "metadata": {},
   "outputs": [
    {
     "data": {
      "text/plain": [
       "0    1612\n",
       "1     536\n",
       "Name: OSF, dtype: int64"
      ]
     },
     "execution_count": 31,
     "metadata": {},
     "output_type": "execute_result"
    }
   ],
   "source": [
    "df['OSF'].value_counts()"
   ]
  },
  {
   "cell_type": "code",
   "execution_count": 32,
   "id": "b15975f7",
   "metadata": {},
   "outputs": [
    {
     "data": {
      "text/plain": [
       "0    2142\n",
       "1       6\n",
       "Name: RNF, dtype: int64"
      ]
     },
     "execution_count": 32,
     "metadata": {},
     "output_type": "execute_result"
    }
   ],
   "source": [
    "df['RNF'].value_counts()"
   ]
  },
  {
   "cell_type": "code",
   "execution_count": null,
   "id": "a309a3be",
   "metadata": {},
   "outputs": [],
   "source": []
  }
 ],
 "metadata": {
  "kernelspec": {
   "display_name": "Python 3 (ipykernel)",
   "language": "python",
   "name": "python3"
  },
  "language_info": {
   "codemirror_mode": {
    "name": "ipython",
    "version": 3
   },
   "file_extension": ".py",
   "mimetype": "text/x-python",
   "name": "python",
   "nbconvert_exporter": "python",
   "pygments_lexer": "ipython3",
   "version": "3.10.1"
  }
 },
 "nbformat": 4,
 "nbformat_minor": 5
}
