{
 "cells": [
  {
   "cell_type": "code",
   "execution_count": null,
   "id": "be608376",
   "metadata": {},
   "outputs": [],
   "source": [
    "#We will be using anomoly detection for this"
   ]
  },
  {
   "cell_type": "markdown",
   "id": "1b4b49a7",
   "metadata": {},
   "source": [
    "https://www.coursera.org/learn/unsupervised-learning-recommenders-reinforcement-learning/programming/Rqh9M/anomaly-detection/lab?path=%2Fnotebooks%2FC3_W1_Anomaly_Detection.ipynb"
   ]
  },
  {
   "cell_type": "code",
   "execution_count": null,
   "id": "447f1cb7",
   "metadata": {},
   "outputs": [],
   "source": [
    "import pandas as pd\n",
    "import numpy as np\n",
    "import matplotlib.pyplot as plt\n",
    "%matplotlib inline"
   ]
  },
  {
   "cell_type": "code",
   "execution_count": null,
   "id": "8db8d38a",
   "metadata": {},
   "outputs": [],
   "source": [
    "df=pd.read_csv('train.csv')"
   ]
  },
  {
   "cell_type": "code",
   "execution_count": null,
   "id": "ca548724",
   "metadata": {},
   "outputs": [],
   "source": [
    "df.head(5)"
   ]
  },
  {
   "cell_type": "code",
   "execution_count": null,
   "id": "ee3b111d",
   "metadata": {},
   "outputs": [],
   "source": [
    "df.shape"
   ]
  },
  {
   "cell_type": "raw",
   "id": "1a40af60",
   "metadata": {},
   "source": [
    "#Todays Tasks (3/7/2023)\n",
    "1. Change data -> Train and cv set\n",
    "2. 30k dataset -> handel missing values if any"
   ]
  },
  {
   "cell_type": "markdown",
   "id": "032d378f",
   "metadata": {},
   "source": [
    "##  <center> creating TEST and CV datasets </center>"
   ]
  },
  {
   "cell_type": "code",
   "execution_count": null,
   "id": "4cf498d9",
   "metadata": {},
   "outputs": [],
   "source": [
    "df['Machine failure'].value_counts()"
   ]
  },
  {
   "cell_type": "code",
   "execution_count": null,
   "id": "920f6fc8",
   "metadata": {},
   "outputs": [],
   "source": [
    "new_df = df[df['Machine failure'] ==0 ]                  "
   ]
  },
  {
   "cell_type": "code",
   "execution_count": null,
   "id": "8b885743",
   "metadata": {},
   "outputs": [],
   "source": [
    "new_df['Machine failure'].value_counts()"
   ]
  },
  {
   "cell_type": "code",
   "execution_count": null,
   "id": "0caabc84",
   "metadata": {},
   "outputs": [],
   "source": [
    "# new_df.to_csv('only_train.csv', index=False)"
   ]
  },
  {
   "cell_type": "code",
   "execution_count": null,
   "id": "332dea7e",
   "metadata": {},
   "outputs": [],
   "source": [
    "new_dfcv = df[df['Machine failure'] ==1 ]   "
   ]
  },
  {
   "cell_type": "code",
   "execution_count": null,
   "id": "a6fcef0f",
   "metadata": {},
   "outputs": [],
   "source": [
    "new_dfcv['Machine failure'].value_counts()"
   ]
  },
  {
   "cell_type": "code",
   "execution_count": null,
   "id": "0f9553e2",
   "metadata": {},
   "outputs": [],
   "source": [
    "# new_dfcv.to_csv('only_cv.csv', index=False)"
   ]
  },
  {
   "cell_type": "code",
   "execution_count": null,
   "id": "93ec55f1",
   "metadata": {},
   "outputs": [],
   "source": [
    "df=pd.read_csv('only_train.csv')"
   ]
  },
  {
   "cell_type": "code",
   "execution_count": null,
   "id": "4fc0b4f6",
   "metadata": {},
   "outputs": [],
   "source": [
    "df.head(5)"
   ]
  },
  {
   "cell_type": "code",
   "execution_count": null,
   "id": "3a354bf7",
   "metadata": {},
   "outputs": [],
   "source": [
    "df['Type'].value_counts()"
   ]
  },
  {
   "cell_type": "markdown",
   "id": "f451297d",
   "metadata": {},
   "source": [
    "# <center> PLOTTING DATA \"only_train.csv\" <center>"
   ]
  },
  {
   "cell_type": "markdown",
   "id": "3c076b3a",
   "metadata": {},
   "source": [
    "All values in train data have working engine"
   ]
  },
  {
   "cell_type": "code",
   "execution_count": 1,
   "id": "2c6d84b4",
   "metadata": {},
   "outputs": [],
   "source": [
    "import pandas as pd\n",
    "import numpy as np\n",
    "import matplotlib.pyplot as plt\n",
    "%matplotlib inline"
   ]
  },
  {
   "cell_type": "code",
   "execution_count": 2,
   "id": "2f86f180",
   "metadata": {},
   "outputs": [],
   "source": [
    "df=pd.read_csv('only_train.csv')"
   ]
  },
  {
   "cell_type": "code",
   "execution_count": 3,
   "id": "6b2b7e81",
   "metadata": {},
   "outputs": [
    {
     "data": {
      "text/plain": [
       "0    134281\n",
       "Name: Machine failure, dtype: int64"
      ]
     },
     "execution_count": 3,
     "metadata": {},
     "output_type": "execute_result"
    }
   ],
   "source": [
    "df['Machine failure'].value_counts()"
   ]
  },
  {
   "cell_type": "markdown",
   "id": "eadba533",
   "metadata": {},
   "source": [
    "### AIR Temperature"
   ]
  },
  {
   "cell_type": "code",
   "execution_count": 33,
   "id": "93731742",
   "metadata": {},
   "outputs": [
    {
     "data": {
      "text/plain": [
       "Text(0.5, 0, 'Data')"
      ]
     },
     "execution_count": 33,
     "metadata": {},
     "output_type": "execute_result"
    },
    {
     "data": {
      "image/png": "[encoded data removed]",
      "text/plain": [
       "<Figure size 432x288 with 1 Axes>"
      ]
     },
     "metadata": {
      "needs_background": "light"
     },
     "output_type": "display_data"
    }
   ],
   "source": [
    "\n",
    "plt.hist((df['Air temperature [K]']),density=True, bins=100)\n",
    "plt.ylabel('Probability')\n",
    "plt.xlabel('Data')"
   ]
  },
  {
   "cell_type": "code",
   "execution_count": 27,
   "id": "25b539f8",
   "metadata": {},
   "outputs": [
    {
     "data": {
      "text/plain": [
       "Text(0.5, 0, 'Data')"
      ]
     },
     "execution_count": 27,
     "metadata": {},
     "output_type": "execute_result"
    },
    {
     "data": {
      "image/png": "[encoded data removed]",
      "text/plain": [
       "<Figure size 432x288 with 1 Axes>"
      ]
     },
     "metadata": {
      "needs_background": "light"
     },
     "output_type": "display_data"
    }
   ],
   "source": [
    "plt.hist(df['Air temperature [K]'],density=True, bins=100)\n",
    "plt.ylabel('Probability')\n",
    "plt.xlabel('Data')"
   ]
  },
  {
   "cell_type": "code",
   "execution_count": 5,
   "id": "8da4c476",
   "metadata": {},
   "outputs": [
    {
     "data": {
      "text/plain": [
       "304.4"
      ]
     },
     "execution_count": 5,
     "metadata": {},
     "output_type": "execute_result"
    }
   ],
   "source": [
    "max(df['Air temperature [K]'])   #max temperature"
   ]
  },
  {
   "cell_type": "code",
   "execution_count": 6,
   "id": "82ccb8df",
   "metadata": {},
   "outputs": [
    {
     "data": {
      "text/plain": [
       "295.3"
      ]
     },
     "execution_count": 6,
     "metadata": {},
     "output_type": "execute_result"
    }
   ],
   "source": [
    "min(df['Air temperature [K]']) #min temperature"
   ]
  },
  {
   "cell_type": "markdown",
   "id": "4d08fd2b",
   "metadata": {},
   "source": [
    "### Process temperature [K]"
   ]
  },
  {
   "cell_type": "code",
   "execution_count": 29,
   "id": "b9c01fd4",
   "metadata": {},
   "outputs": [
    {
     "data": {
      "text/plain": [
       "Text(0.5, 0, 'Data')"
      ]
     },
     "execution_count": 29,
     "metadata": {},
     "output_type": "execute_result"
    },
    {
     "data": {
      "image/png": "[encoded data removed]",
      "text/plain": [
       "<Figure size 432x288 with 1 Axes>"
      ]
     },
     "metadata": {
      "needs_background": "light"
     },
     "output_type": "display_data"
    }
   ],
   "source": [
    "plt.hist(df['Process temperature [K]'],density=True, bins=100)\n",
    "plt.ylabel('Probability')\n",
    "plt.xlabel('Data')"
   ]
  },
  {
   "cell_type": "code",
   "execution_count": 8,
   "id": "64637c06",
   "metadata": {},
   "outputs": [
    {
     "data": {
      "text/plain": [
       "313.8"
      ]
     },
     "execution_count": 8,
     "metadata": {},
     "output_type": "execute_result"
    }
   ],
   "source": [
    "max(df['Process temperature [K]'])"
   ]
  },
  {
   "cell_type": "code",
   "execution_count": 9,
   "id": "7d3b37ae",
   "metadata": {},
   "outputs": [
    {
     "data": {
      "text/plain": [
       "305.8"
      ]
     },
     "execution_count": 9,
     "metadata": {},
     "output_type": "execute_result"
    }
   ],
   "source": [
    "min(df['Process temperature [K]']) "
   ]
  },
  {
   "cell_type": "markdown",
   "id": "bed6b4fb",
   "metadata": {},
   "source": [
    "### Rotational speed [rpm]"
   ]
  },
  {
   "cell_type": "code",
   "execution_count": 10,
   "id": "a2dcc541",
   "metadata": {},
   "outputs": [
    {
     "data": {
      "text/plain": [
       "Text(0.5, 0, 'Data')"
      ]
     },
     "execution_count": 10,
     "metadata": {},
     "output_type": "execute_result"
    },
    {
     "data": {
      "image/png": "[encoded data removed]",
      "text/plain": [
       "<Figure size 432x288 with 1 Axes>"
      ]
     },
     "metadata": {
      "needs_background": "light"
     },
     "output_type": "display_data"
    }
   ],
   "source": [
    "plt.hist(df['Rotational speed [rpm]'],density=True, bins=50)\n",
    "plt.ylabel('Probability')\n",
    "plt.xlabel('Data')"
   ]
  },
  {
   "cell_type": "code",
   "execution_count": 11,
   "id": "9e153c06",
   "metadata": {},
   "outputs": [
    {
     "data": {
      "text/plain": [
       "2874"
      ]
     },
     "execution_count": 11,
     "metadata": {},
     "output_type": "execute_result"
    }
   ],
   "source": [
    "max(df['Rotational speed [rpm]'])"
   ]
  },
  {
   "cell_type": "code",
   "execution_count": 12,
   "id": "a98123ba",
   "metadata": {},
   "outputs": [
    {
     "data": {
      "text/plain": [
       "1183"
      ]
     },
     "execution_count": 12,
     "metadata": {},
     "output_type": "execute_result"
    }
   ],
   "source": [
    "min(df['Rotational speed [rpm]'])"
   ]
  },
  {
   "cell_type": "markdown",
   "id": "939d5ec3",
   "metadata": {},
   "source": [
    "### Torque [Nm]"
   ]
  },
  {
   "cell_type": "code",
   "execution_count": 13,
   "id": "b694f326",
   "metadata": {},
   "outputs": [
    {
     "data": {
      "text/plain": [
       "Text(0.5, 0, 'Data')"
      ]
     },
     "execution_count": 13,
     "metadata": {},
     "output_type": "execute_result"
    },
    {
     "data": {
      "image/png": "[encoded data removed]",
      "text/plain": [
       "<Figure size 432x288 with 1 Axes>"
      ]
     },
     "metadata": {
      "needs_background": "light"
     },
     "output_type": "display_data"
    }
   ],
   "source": [
    "plt.hist(df['Torque [Nm]'],density=True, bins=50)\n",
    "plt.ylabel('Probability')\n",
    "plt.xlabel('Data')"
   ]
  },
  {
   "cell_type": "code",
   "execution_count": 14,
   "id": "c6332899",
   "metadata": {},
   "outputs": [
    {
     "data": {
      "text/plain": [
       "75.4"
      ]
     },
     "execution_count": 14,
     "metadata": {},
     "output_type": "execute_result"
    }
   ],
   "source": [
    "max(df['Torque [Nm]'])"
   ]
  },
  {
   "cell_type": "code",
   "execution_count": 15,
   "id": "ea5a4d25",
   "metadata": {},
   "outputs": [
    {
     "data": {
      "text/plain": [
       "4.2"
      ]
     },
     "execution_count": 15,
     "metadata": {},
     "output_type": "execute_result"
    }
   ],
   "source": [
    "min(df['Torque [Nm]'])"
   ]
  },
  {
   "cell_type": "markdown",
   "id": "d10e8f8e",
   "metadata": {},
   "source": [
    "### Tool wear [min]"
   ]
  },
  {
   "cell_type": "code",
   "execution_count": 80,
   "id": "822ccc92",
   "metadata": {},
   "outputs": [
    {
     "data": {
      "text/plain": [
       "Text(0.5, 0, 'Data')"
      ]
     },
     "execution_count": 80,
     "metadata": {},
     "output_type": "execute_result"
    },
    {
     "data": {
      "image/png": "[encoded data removed]",
      "text/plain": [
       "<Figure size 432x288 with 1 Axes>"
      ]
     },
     "metadata": {
      "needs_background": "light"
     },
     "output_type": "display_data"
    }
   ],
   "source": [
    "plt.hist((df['Tool wear [min]']),density=True, bins=100)\n",
    "plt.ylabel('Probability')\n",
    "plt.xlabel('Data')"
   ]
  },
  {
   "cell_type": "code",
   "execution_count": 109,
   "id": "88b6b5ca",
   "metadata": {},
   "outputs": [
    {
     "data": {
      "text/plain": [
       "Text(0.5, 0, 'Data')"
      ]
     },
     "execution_count": 109,
     "metadata": {},
     "output_type": "execute_result"
    },
    {
     "data": {
      "image/png": "[encoded data removed]",
      "text/plain": [
       "<Figure size 432x288 with 1 Axes>"
      ]
     },
     "metadata": {
      "needs_background": "light"
     },
     "output_type": "display_data"
    }
   ],
   "source": [
    "p=df['Tool wear [min]']\n",
    "z=abs(np.arcsin((np.log(abs(p+0.000001)**0.95))/5))\n",
    "plt.hist(z,density=True, bins=100)\n",
    "plt.ylabel('Probability')\n",
    "plt.xlabel('Data')"
   ]
  },
  {
   "cell_type": "code",
   "execution_count": 17,
   "id": "2988c79d",
   "metadata": {},
   "outputs": [
    {
     "data": {
      "text/plain": [
       "0"
      ]
     },
     "execution_count": 17,
     "metadata": {},
     "output_type": "execute_result"
    }
   ],
   "source": [
    "min(df['Tool wear [min]'])"
   ]
  },
  {
   "cell_type": "code",
   "execution_count": 18,
   "id": "08d88ed5",
   "metadata": {},
   "outputs": [
    {
     "data": {
      "text/plain": [
       "253"
      ]
     },
     "execution_count": 18,
     "metadata": {},
     "output_type": "execute_result"
    }
   ],
   "source": [
    "max(df['Tool wear [min]'])"
   ]
  },
  {
   "cell_type": "markdown",
   "id": "e32871a3",
   "metadata": {},
   "source": [
    "### Other Data"
   ]
  },
  {
   "cell_type": "code",
   "execution_count": 19,
   "id": "65f07e5f",
   "metadata": {},
   "outputs": [
    {
     "data": {
      "text/plain": [
       "0    134281\n",
       "Name: TWF, dtype: int64"
      ]
     },
     "execution_count": 19,
     "metadata": {},
     "output_type": "execute_result"
    }
   ],
   "source": [
    "df['TWF'].value_counts()"
   ]
  },
  {
   "cell_type": "code",
   "execution_count": 20,
   "id": "d57b6d60",
   "metadata": {},
   "outputs": [
    {
     "data": {
      "text/plain": [
       "0    134275\n",
       "1         6\n",
       "Name: HDF, dtype: int64"
      ]
     },
     "execution_count": 20,
     "metadata": {},
     "output_type": "execute_result"
    }
   ],
   "source": [
    "df['HDF'].value_counts()"
   ]
  },
  {
   "cell_type": "code",
   "execution_count": 21,
   "id": "b74d83db",
   "metadata": {},
   "outputs": [
    {
     "data": {
      "text/plain": [
       "0    134278\n",
       "1         3\n",
       "Name: PWF, dtype: int64"
      ]
     },
     "execution_count": 21,
     "metadata": {},
     "output_type": "execute_result"
    }
   ],
   "source": [
    "df['PWF'].value_counts()"
   ]
  },
  {
   "cell_type": "code",
   "execution_count": 22,
   "id": "1be1f0e4",
   "metadata": {},
   "outputs": [
    {
     "data": {
      "text/plain": [
       "0    134277\n",
       "1         4\n",
       "Name: OSF, dtype: int64"
      ]
     },
     "execution_count": 22,
     "metadata": {},
     "output_type": "execute_result"
    }
   ],
   "source": [
    "df['OSF'].value_counts()"
   ]
  },
  {
   "cell_type": "code",
   "execution_count": 23,
   "id": "8f5bcb9d",
   "metadata": {},
   "outputs": [
    {
     "data": {
      "text/plain": [
       "0    133979\n",
       "1       302\n",
       "Name: RNF, dtype: int64"
      ]
     },
     "execution_count": 23,
     "metadata": {},
     "output_type": "execute_result"
    }
   ],
   "source": [
    "df['RNF'].value_counts()"
   ]
  },
  {
   "cell_type": "code",
   "execution_count": null,
   "id": "c81afadf",
   "metadata": {},
   "outputs": [],
   "source": []
  },
  {
   "cell_type": "code",
   "execution_count": null,
   "id": "caa3c57a",
   "metadata": {},
   "outputs": [],
   "source": []
  }
 ],
 "metadata": {
  "kernelspec": {
   "display_name": "Python 3 (ipykernel)",
   "language": "python",
   "name": "python3"
  },
  "language_info": {
   "codemirror_mode": {
    "name": "ipython",
    "version": 3
   },
   "file_extension": ".py",
   "mimetype": "text/x-python",
   "name": "python",
   "nbconvert_exporter": "python",
   "pygments_lexer": "ipython3",
   "version": "3.10.1"
  }
 },
 "nbformat": 4,
 "nbformat_minor": 5
}
